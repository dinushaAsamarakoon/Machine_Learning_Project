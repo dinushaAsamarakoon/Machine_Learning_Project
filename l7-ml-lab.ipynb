{
 "cells": [
  {
   "cell_type": "code",
   "execution_count": 1,
   "id": "47e51eef",
   "metadata": {
    "execution": {
     "iopub.execute_input": "2023-09-23T17:14:54.409305Z",
     "iopub.status.busy": "2023-09-23T17:14:54.408891Z",
     "iopub.status.idle": "2023-09-23T17:14:57.945669Z",
     "shell.execute_reply": "2023-09-23T17:14:57.944662Z"
    },
    "id": "zMToJ4ehZdB5",
    "papermill": {
     "duration": 3.590697,
     "end_time": "2023-09-23T17:14:57.948239",
     "exception": false,
     "start_time": "2023-09-23T17:14:54.357542",
     "status": "completed"
    },
    "tags": []
   },
   "outputs": [
    {
     "name": "stderr",
     "output_type": "stream",
     "text": [
      "/opt/conda/lib/python3.10/site-packages/scipy/__init__.py:146: UserWarning: A NumPy version >=1.16.5 and <1.23.0 is required for this version of SciPy (detected version 1.23.5\n",
      "  warnings.warn(f\"A NumPy version >={np_minversion} and <{np_maxversion}\"\n"
     ]
    }
   ],
   "source": [
    "import pandas as pd\n",
    "import numpy as np\n",
    "import matplotlib.pyplot as plt\n",
    "from sklearn.preprocessing import StandardScaler\n",
    "from sklearn.neighbors import KNeighborsClassifier\n",
    "from catboost import CatBoostClassifier\n",
    "from sklearn.model_selection import cross_val_score\n",
    "from sklearn.metrics import accuracy_score\n",
    "from sklearn.decomposition import PCA\n",
    "import seaborn as sn\n",
    "from imblearn.over_sampling import RandomOverSampler\n",
    "from sklearn.svm import SVC\n",
    "from sklearn.linear_model import LogisticRegression\n",
    "import time\n",
    "import os"
   ]
  },
  {
   "cell_type": "code",
   "execution_count": 2,
   "id": "b0332e60",
   "metadata": {
    "execution": {
     "iopub.execute_input": "2023-09-23T17:14:58.011517Z",
     "iopub.status.busy": "2023-09-23T17:14:58.011066Z",
     "iopub.status.idle": "2023-09-23T17:14:58.015955Z",
     "shell.execute_reply": "2023-09-23T17:14:58.014858Z"
    },
    "id": "yLM0TKNVZgDY",
    "papermill": {
     "duration": 0.040052,
     "end_time": "2023-09-23T17:14:58.018186",
     "exception": false,
     "start_time": "2023-09-23T17:14:57.978134",
     "status": "completed"
    },
    "tags": []
   },
   "outputs": [],
   "source": [
    "import warnings\n",
    "warnings.filterwarnings('ignore')"
   ]
  },
  {
   "cell_type": "code",
   "execution_count": 3,
   "id": "75055ebf",
   "metadata": {
    "execution": {
     "iopub.execute_input": "2023-09-23T17:14:58.075854Z",
     "iopub.status.busy": "2023-09-23T17:14:58.075551Z",
     "iopub.status.idle": "2023-09-23T17:15:08.707650Z",
     "shell.execute_reply": "2023-09-23T17:15:08.706566Z"
    },
    "id": "BZ6lcmNJZh9w",
    "papermill": {
     "duration": 10.663847,
     "end_time": "2023-09-23T17:15:08.710392",
     "exception": false,
     "start_time": "2023-09-23T17:14:58.046545",
     "status": "completed"
    },
    "tags": []
   },
   "outputs": [],
   "source": [
    "train = pd.read_csv('/kaggle/input/l7-data/train.csv')\n",
    "valid = pd.read_csv('/kaggle/input/l7-data/valid.csv')\n",
    "test = pd.read_csv('/kaggle/input/l7-data/test.csv')"
   ]
  },
  {
   "cell_type": "code",
   "execution_count": 4,
   "id": "1d71b8b3",
   "metadata": {
    "execution": {
     "iopub.execute_input": "2023-09-23T17:15:08.772809Z",
     "iopub.status.busy": "2023-09-23T17:15:08.772473Z",
     "iopub.status.idle": "2023-09-23T17:15:08.811384Z",
     "shell.execute_reply": "2023-09-23T17:15:08.810183Z"
    },
    "id": "fRfytVM6ystx",
    "outputId": "a9bf966f-5eeb-4551-f97b-8eaa6f714651",
    "papermill": {
     "duration": 0.074064,
     "end_time": "2023-09-23T17:15:08.814641",
     "exception": false,
     "start_time": "2023-09-23T17:15:08.740577",
     "status": "completed"
    },
    "tags": []
   },
   "outputs": [
    {
     "data": {
      "text/html": [
       "<div>\n",
       "<style scoped>\n",
       "    .dataframe tbody tr th:only-of-type {\n",
       "        vertical-align: middle;\n",
       "    }\n",
       "\n",
       "    .dataframe tbody tr th {\n",
       "        vertical-align: top;\n",
       "    }\n",
       "\n",
       "    .dataframe thead th {\n",
       "        text-align: right;\n",
       "    }\n",
       "</style>\n",
       "<table border=\"1\" class=\"dataframe\">\n",
       "  <thead>\n",
       "    <tr style=\"text-align: right;\">\n",
       "      <th></th>\n",
       "      <th>feature_1</th>\n",
       "      <th>feature_2</th>\n",
       "      <th>feature_3</th>\n",
       "      <th>feature_4</th>\n",
       "      <th>feature_5</th>\n",
       "      <th>feature_6</th>\n",
       "      <th>feature_7</th>\n",
       "      <th>feature_8</th>\n",
       "      <th>feature_9</th>\n",
       "      <th>feature_10</th>\n",
       "      <th>...</th>\n",
       "      <th>feature_763</th>\n",
       "      <th>feature_764</th>\n",
       "      <th>feature_765</th>\n",
       "      <th>feature_766</th>\n",
       "      <th>feature_767</th>\n",
       "      <th>feature_768</th>\n",
       "      <th>label_1</th>\n",
       "      <th>label_2</th>\n",
       "      <th>label_3</th>\n",
       "      <th>label_4</th>\n",
       "    </tr>\n",
       "  </thead>\n",
       "  <tbody>\n",
       "    <tr>\n",
       "      <th>0</th>\n",
       "      <td>0.186257</td>\n",
       "      <td>-0.058807</td>\n",
       "      <td>0.024632</td>\n",
       "      <td>-0.163933</td>\n",
       "      <td>-0.146699</td>\n",
       "      <td>0.035889</td>\n",
       "      <td>0.111708</td>\n",
       "      <td>-0.162861</td>\n",
       "      <td>0.028249</td>\n",
       "      <td>-0.098063</td>\n",
       "      <td>...</td>\n",
       "      <td>0.055629</td>\n",
       "      <td>-0.010358</td>\n",
       "      <td>0.125754</td>\n",
       "      <td>0.011648</td>\n",
       "      <td>0.079197</td>\n",
       "      <td>0.093215</td>\n",
       "      <td>45</td>\n",
       "      <td>NaN</td>\n",
       "      <td>1</td>\n",
       "      <td>6</td>\n",
       "    </tr>\n",
       "    <tr>\n",
       "      <th>1</th>\n",
       "      <td>0.063431</td>\n",
       "      <td>-0.023597</td>\n",
       "      <td>0.068057</td>\n",
       "      <td>-0.252915</td>\n",
       "      <td>-0.061094</td>\n",
       "      <td>-0.027316</td>\n",
       "      <td>0.135747</td>\n",
       "      <td>-0.168147</td>\n",
       "      <td>0.091236</td>\n",
       "      <td>-0.078473</td>\n",
       "      <td>...</td>\n",
       "      <td>-0.014893</td>\n",
       "      <td>0.071721</td>\n",
       "      <td>0.018918</td>\n",
       "      <td>0.100032</td>\n",
       "      <td>-0.083042</td>\n",
       "      <td>0.088615</td>\n",
       "      <td>45</td>\n",
       "      <td>NaN</td>\n",
       "      <td>1</td>\n",
       "      <td>6</td>\n",
       "    </tr>\n",
       "    <tr>\n",
       "      <th>2</th>\n",
       "      <td>0.034962</td>\n",
       "      <td>0.035816</td>\n",
       "      <td>-0.029753</td>\n",
       "      <td>-0.094607</td>\n",
       "      <td>-0.017576</td>\n",
       "      <td>-0.053074</td>\n",
       "      <td>0.040121</td>\n",
       "      <td>-0.007932</td>\n",
       "      <td>0.097872</td>\n",
       "      <td>-0.024042</td>\n",
       "      <td>...</td>\n",
       "      <td>0.012415</td>\n",
       "      <td>0.015215</td>\n",
       "      <td>0.083808</td>\n",
       "      <td>0.031312</td>\n",
       "      <td>-0.056277</td>\n",
       "      <td>0.064702</td>\n",
       "      <td>45</td>\n",
       "      <td>NaN</td>\n",
       "      <td>1</td>\n",
       "      <td>6</td>\n",
       "    </tr>\n",
       "    <tr>\n",
       "      <th>3</th>\n",
       "      <td>0.033772</td>\n",
       "      <td>0.085612</td>\n",
       "      <td>0.067488</td>\n",
       "      <td>-0.073953</td>\n",
       "      <td>-0.180646</td>\n",
       "      <td>-0.024512</td>\n",
       "      <td>0.242879</td>\n",
       "      <td>-0.023374</td>\n",
       "      <td>-0.059999</td>\n",
       "      <td>0.002006</td>\n",
       "      <td>...</td>\n",
       "      <td>-0.078246</td>\n",
       "      <td>-0.032903</td>\n",
       "      <td>0.082949</td>\n",
       "      <td>-0.020659</td>\n",
       "      <td>0.082274</td>\n",
       "      <td>-0.050164</td>\n",
       "      <td>45</td>\n",
       "      <td>NaN</td>\n",
       "      <td>1</td>\n",
       "      <td>6</td>\n",
       "    </tr>\n",
       "    <tr>\n",
       "      <th>4</th>\n",
       "      <td>0.134305</td>\n",
       "      <td>0.062096</td>\n",
       "      <td>0.106920</td>\n",
       "      <td>-0.089327</td>\n",
       "      <td>0.117093</td>\n",
       "      <td>-0.077107</td>\n",
       "      <td>0.152579</td>\n",
       "      <td>0.047529</td>\n",
       "      <td>-0.015998</td>\n",
       "      <td>-0.110657</td>\n",
       "      <td>...</td>\n",
       "      <td>-0.094629</td>\n",
       "      <td>0.069718</td>\n",
       "      <td>0.014379</td>\n",
       "      <td>0.048124</td>\n",
       "      <td>0.007586</td>\n",
       "      <td>-0.016980</td>\n",
       "      <td>45</td>\n",
       "      <td>NaN</td>\n",
       "      <td>1</td>\n",
       "      <td>6</td>\n",
       "    </tr>\n",
       "  </tbody>\n",
       "</table>\n",
       "<p>5 rows × 772 columns</p>\n",
       "</div>"
      ],
      "text/plain": [
       "   feature_1  feature_2  feature_3  feature_4  feature_5  feature_6  \\\n",
       "0   0.186257  -0.058807   0.024632  -0.163933  -0.146699   0.035889   \n",
       "1   0.063431  -0.023597   0.068057  -0.252915  -0.061094  -0.027316   \n",
       "2   0.034962   0.035816  -0.029753  -0.094607  -0.017576  -0.053074   \n",
       "3   0.033772   0.085612   0.067488  -0.073953  -0.180646  -0.024512   \n",
       "4   0.134305   0.062096   0.106920  -0.089327   0.117093  -0.077107   \n",
       "\n",
       "   feature_7  feature_8  feature_9  feature_10  ...  feature_763  feature_764  \\\n",
       "0   0.111708  -0.162861   0.028249   -0.098063  ...     0.055629    -0.010358   \n",
       "1   0.135747  -0.168147   0.091236   -0.078473  ...    -0.014893     0.071721   \n",
       "2   0.040121  -0.007932   0.097872   -0.024042  ...     0.012415     0.015215   \n",
       "3   0.242879  -0.023374  -0.059999    0.002006  ...    -0.078246    -0.032903   \n",
       "4   0.152579   0.047529  -0.015998   -0.110657  ...    -0.094629     0.069718   \n",
       "\n",
       "   feature_765  feature_766  feature_767  feature_768  label_1  label_2  \\\n",
       "0     0.125754     0.011648     0.079197     0.093215       45      NaN   \n",
       "1     0.018918     0.100032    -0.083042     0.088615       45      NaN   \n",
       "2     0.083808     0.031312    -0.056277     0.064702       45      NaN   \n",
       "3     0.082949    -0.020659     0.082274    -0.050164       45      NaN   \n",
       "4     0.014379     0.048124     0.007586    -0.016980       45      NaN   \n",
       "\n",
       "   label_3  label_4  \n",
       "0        1        6  \n",
       "1        1        6  \n",
       "2        1        6  \n",
       "3        1        6  \n",
       "4        1        6  \n",
       "\n",
       "[5 rows x 772 columns]"
      ]
     },
     "execution_count": 4,
     "metadata": {},
     "output_type": "execute_result"
    }
   ],
   "source": [
    "train.head()"
   ]
  },
  {
   "cell_type": "code",
   "execution_count": 5,
   "id": "3e342136",
   "metadata": {
    "execution": {
     "iopub.execute_input": "2023-09-23T17:15:08.918973Z",
     "iopub.status.busy": "2023-09-23T17:15:08.918595Z",
     "iopub.status.idle": "2023-09-23T17:15:08.923820Z",
     "shell.execute_reply": "2023-09-23T17:15:08.922923Z"
    },
    "id": "XsT635ZGaZPY",
    "papermill": {
     "duration": 0.037418,
     "end_time": "2023-09-23T17:15:08.926039",
     "exception": false,
     "start_time": "2023-09-23T17:15:08.888621",
     "status": "completed"
    },
    "tags": []
   },
   "outputs": [],
   "source": [
    "svm = SVC(kernel='linear')\n",
    "def svm_classifier(X_train, Y_train, X_val, Y_val):\n",
    "    svm.fit(X_train, Y_train)\n",
    "\n",
    "    y_pred = svm.predict(X_val)\n",
    "\n",
    "    accuracy = accuracy_score(Y_val, y_pred)\n",
    "    return accuracy"
   ]
  },
  {
   "cell_type": "code",
   "execution_count": 6,
   "id": "947d7442",
   "metadata": {
    "execution": {
     "iopub.execute_input": "2023-09-23T17:15:08.986025Z",
     "iopub.status.busy": "2023-09-23T17:15:08.985728Z",
     "iopub.status.idle": "2023-09-23T17:15:08.990958Z",
     "shell.execute_reply": "2023-09-23T17:15:08.990028Z"
    },
    "id": "DhEqpWj_bHAh",
    "papermill": {
     "duration": 0.036681,
     "end_time": "2023-09-23T17:15:08.993265",
     "exception": false,
     "start_time": "2023-09-23T17:15:08.956584",
     "status": "completed"
    },
    "tags": []
   },
   "outputs": [],
   "source": [
    "knn = KNeighborsClassifier(n_neighbors=1)\n",
    "def knn_classifier(X_train, Y_train, X_val, Y_val):\n",
    "\n",
    "    knn.fit(np.array(X_train), Y_train)\n",
    "\n",
    "    y_pred = knn.predict(np.array(X_val))\n",
    "\n",
    "    accuracy = accuracy_score(Y_val, y_pred)\n",
    "    return accuracy"
   ]
  },
  {
   "cell_type": "code",
   "execution_count": 7,
   "id": "dbecdad1",
   "metadata": {
    "execution": {
     "iopub.execute_input": "2023-09-23T17:15:09.052989Z",
     "iopub.status.busy": "2023-09-23T17:15:09.052673Z",
     "iopub.status.idle": "2023-09-23T17:15:09.057723Z",
     "shell.execute_reply": "2023-09-23T17:15:09.056774Z"
    },
    "id": "frqdix6CbMwv",
    "papermill": {
     "duration": 0.036625,
     "end_time": "2023-09-23T17:15:09.059890",
     "exception": false,
     "start_time": "2023-09-23T17:15:09.023265",
     "status": "completed"
    },
    "tags": []
   },
   "outputs": [],
   "source": [
    "logreg = LogisticRegression()\n",
    "def logistic_regression_classifier(X_train, Y_train, X_val, Y_val):\n",
    "\n",
    "    logreg.fit(X_train, Y_train)\n",
    "\n",
    "    y_pred = logreg.predict(X_val)\n",
    "\n",
    "    accuracy = accuracy_score(Y_val, y_pred)\n",
    "    return accuracy"
   ]
  },
  {
   "cell_type": "code",
   "execution_count": 8,
   "id": "da78f93e",
   "metadata": {
    "execution": {
     "iopub.execute_input": "2023-09-23T17:15:09.117161Z",
     "iopub.status.busy": "2023-09-23T17:15:09.116840Z",
     "iopub.status.idle": "2023-09-23T17:15:09.122465Z",
     "shell.execute_reply": "2023-09-23T17:15:09.121453Z"
    },
    "id": "LXCloJWmwJaw",
    "papermill": {
     "duration": 0.03699,
     "end_time": "2023-09-23T17:15:09.124900",
     "exception": false,
     "start_time": "2023-09-23T17:15:09.087910",
     "status": "completed"
    },
    "tags": []
   },
   "outputs": [],
   "source": [
    "def id_highly_correlated_features(dataset, threshold):\n",
    "    corr_matrix = dataset.corr().abs()\n",
    "    upper_tri = corr_matrix.where(np.triu(np.ones(corr_matrix.shape), k=1).astype(np.bool_))\n",
    "    to_drop = [column for column in upper_tri.columns if any(upper_tri[column] > threshold)]\n",
    "    return set(to_drop)"
   ]
  },
  {
   "cell_type": "code",
   "execution_count": 9,
   "id": "4e22598b",
   "metadata": {
    "execution": {
     "iopub.execute_input": "2023-09-23T17:15:09.182468Z",
     "iopub.status.busy": "2023-09-23T17:15:09.182194Z",
     "iopub.status.idle": "2023-09-23T17:15:09.188483Z",
     "shell.execute_reply": "2023-09-23T17:15:09.187433Z"
    },
    "id": "OgQ1BFmdwNkX",
    "papermill": {
     "duration": 0.037244,
     "end_time": "2023-09-23T17:15:09.191085",
     "exception": false,
     "start_time": "2023-09-23T17:15:09.153841",
     "status": "completed"
    },
    "tags": []
   },
   "outputs": [],
   "source": [
    "def id_weekly_correlated_features_with_label(dataset, label, threshold = 0.01):\n",
    "    for label_ in train.iloc[:, -4:]:\n",
    "        if label_ != label:\n",
    "            dataset = dataset.drop(label_, axis=1)  # remove other targets from the dataset\n",
    "    corr_matrix = dataset.corr().abs()\n",
    "    weak_corr_features = corr_matrix[corr_matrix[label] < threshold].index.tolist()\n",
    "    if label in weak_corr_features:\n",
    "        weak_corr_features.remove(label)\n",
    "    return weak_corr_features"
   ]
  },
  {
   "cell_type": "markdown",
   "id": "d562fef5",
   "metadata": {
    "id": "rvNmEQGLboCX",
    "papermill": {
     "duration": 0.02872,
     "end_time": "2023-09-23T17:15:09.248585",
     "exception": false,
     "start_time": "2023-09-23T17:15:09.219865",
     "status": "completed"
    },
    "tags": []
   },
   "source": [
    "# **Label 1**"
   ]
  },
  {
   "cell_type": "code",
   "execution_count": 10,
   "id": "9a6f7cfc",
   "metadata": {
    "execution": {
     "iopub.execute_input": "2023-09-23T17:15:09.305577Z",
     "iopub.status.busy": "2023-09-23T17:15:09.305294Z",
     "iopub.status.idle": "2023-09-23T17:15:09.372835Z",
     "shell.execute_reply": "2023-09-23T17:15:09.371852Z"
    },
    "id": "CJagUoZuxUdG",
    "papermill": {
     "duration": 0.098745,
     "end_time": "2023-09-23T17:15:09.375446",
     "exception": false,
     "start_time": "2023-09-23T17:15:09.276701",
     "status": "completed"
    },
    "tags": []
   },
   "outputs": [],
   "source": [
    "label_1_train = train.copy()\n",
    "label_1_valid = valid.copy()\n",
    "label_1_test = test.copy()"
   ]
  },
  {
   "cell_type": "code",
   "execution_count": 11,
   "id": "3ce12822",
   "metadata": {
    "execution": {
     "iopub.execute_input": "2023-09-23T17:15:09.436688Z",
     "iopub.status.busy": "2023-09-23T17:15:09.435826Z",
     "iopub.status.idle": "2023-09-23T17:15:09.510950Z",
     "shell.execute_reply": "2023-09-23T17:15:09.509920Z"
    },
    "id": "QNbYH1DZw8zI",
    "papermill": {
     "duration": 0.107653,
     "end_time": "2023-09-23T17:15:09.513668",
     "exception": false,
     "start_time": "2023-09-23T17:15:09.406015",
     "status": "completed"
    },
    "tags": []
   },
   "outputs": [],
   "source": [
    "label_1_train = label_1_train.dropna(subset=['label_1'])\n",
    "label_1_valid = label_1_valid.dropna(subset=['label_1'])"
   ]
  },
  {
   "cell_type": "code",
   "execution_count": 12,
   "id": "0becd495",
   "metadata": {
    "execution": {
     "iopub.execute_input": "2023-09-23T17:15:09.573066Z",
     "iopub.status.busy": "2023-09-23T17:15:09.572756Z",
     "iopub.status.idle": "2023-09-23T17:15:09.596913Z",
     "shell.execute_reply": "2023-09-23T17:15:09.595822Z"
    },
    "id": "PXIWTTixye3u",
    "outputId": "c20ef1f4-b561-41c4-e66f-7c919da8d795",
    "papermill": {
     "duration": 0.055923,
     "end_time": "2023-09-23T17:15:09.599165",
     "exception": false,
     "start_time": "2023-09-23T17:15:09.543242",
     "status": "completed"
    },
    "tags": []
   },
   "outputs": [
    {
     "data": {
      "text/html": [
       "<div>\n",
       "<style scoped>\n",
       "    .dataframe tbody tr th:only-of-type {\n",
       "        vertical-align: middle;\n",
       "    }\n",
       "\n",
       "    .dataframe tbody tr th {\n",
       "        vertical-align: top;\n",
       "    }\n",
       "\n",
       "    .dataframe thead th {\n",
       "        text-align: right;\n",
       "    }\n",
       "</style>\n",
       "<table border=\"1\" class=\"dataframe\">\n",
       "  <thead>\n",
       "    <tr style=\"text-align: right;\">\n",
       "      <th></th>\n",
       "      <th>ID</th>\n",
       "      <th>feature_1</th>\n",
       "      <th>feature_2</th>\n",
       "      <th>feature_3</th>\n",
       "      <th>feature_4</th>\n",
       "      <th>feature_5</th>\n",
       "      <th>feature_6</th>\n",
       "      <th>feature_7</th>\n",
       "      <th>feature_8</th>\n",
       "      <th>feature_9</th>\n",
       "      <th>...</th>\n",
       "      <th>feature_759</th>\n",
       "      <th>feature_760</th>\n",
       "      <th>feature_761</th>\n",
       "      <th>feature_762</th>\n",
       "      <th>feature_763</th>\n",
       "      <th>feature_764</th>\n",
       "      <th>feature_765</th>\n",
       "      <th>feature_766</th>\n",
       "      <th>feature_767</th>\n",
       "      <th>feature_768</th>\n",
       "    </tr>\n",
       "  </thead>\n",
       "  <tbody>\n",
       "    <tr>\n",
       "      <th>0</th>\n",
       "      <td>1</td>\n",
       "      <td>0.187868</td>\n",
       "      <td>-0.009268</td>\n",
       "      <td>0.039846</td>\n",
       "      <td>-0.102515</td>\n",
       "      <td>-0.109121</td>\n",
       "      <td>-0.079769</td>\n",
       "      <td>0.061295</td>\n",
       "      <td>-0.042890</td>\n",
       "      <td>0.099860</td>\n",
       "      <td>...</td>\n",
       "      <td>0.043647</td>\n",
       "      <td>0.061174</td>\n",
       "      <td>0.026771</td>\n",
       "      <td>-0.092734</td>\n",
       "      <td>-0.052383</td>\n",
       "      <td>-0.055526</td>\n",
       "      <td>0.029101</td>\n",
       "      <td>0.041857</td>\n",
       "      <td>-0.027872</td>\n",
       "      <td>0.099500</td>\n",
       "    </tr>\n",
       "    <tr>\n",
       "      <th>1</th>\n",
       "      <td>2</td>\n",
       "      <td>0.122119</td>\n",
       "      <td>0.019015</td>\n",
       "      <td>0.134483</td>\n",
       "      <td>0.007949</td>\n",
       "      <td>-0.157884</td>\n",
       "      <td>-0.033332</td>\n",
       "      <td>0.044334</td>\n",
       "      <td>-0.016869</td>\n",
       "      <td>-0.014088</td>\n",
       "      <td>...</td>\n",
       "      <td>-0.179798</td>\n",
       "      <td>-0.027611</td>\n",
       "      <td>0.240023</td>\n",
       "      <td>-0.005648</td>\n",
       "      <td>-0.057537</td>\n",
       "      <td>0.023922</td>\n",
       "      <td>-0.038126</td>\n",
       "      <td>-0.015171</td>\n",
       "      <td>-0.006270</td>\n",
       "      <td>-0.003790</td>\n",
       "    </tr>\n",
       "    <tr>\n",
       "      <th>2</th>\n",
       "      <td>3</td>\n",
       "      <td>0.079187</td>\n",
       "      <td>0.146195</td>\n",
       "      <td>-0.001316</td>\n",
       "      <td>-0.085596</td>\n",
       "      <td>-0.261093</td>\n",
       "      <td>-0.021620</td>\n",
       "      <td>0.268898</td>\n",
       "      <td>-0.103950</td>\n",
       "      <td>0.068976</td>\n",
       "      <td>...</td>\n",
       "      <td>-0.075460</td>\n",
       "      <td>0.037346</td>\n",
       "      <td>0.124254</td>\n",
       "      <td>-0.369695</td>\n",
       "      <td>-0.056773</td>\n",
       "      <td>-0.028471</td>\n",
       "      <td>0.019971</td>\n",
       "      <td>-0.065683</td>\n",
       "      <td>-0.047366</td>\n",
       "      <td>-0.121744</td>\n",
       "    </tr>\n",
       "    <tr>\n",
       "      <th>3</th>\n",
       "      <td>4</td>\n",
       "      <td>0.231196</td>\n",
       "      <td>0.021558</td>\n",
       "      <td>0.215534</td>\n",
       "      <td>-0.210258</td>\n",
       "      <td>-0.158189</td>\n",
       "      <td>0.041621</td>\n",
       "      <td>0.240254</td>\n",
       "      <td>-0.068112</td>\n",
       "      <td>-0.017550</td>\n",
       "      <td>...</td>\n",
       "      <td>0.083334</td>\n",
       "      <td>0.141642</td>\n",
       "      <td>-0.007219</td>\n",
       "      <td>0.031547</td>\n",
       "      <td>-0.010762</td>\n",
       "      <td>-0.169036</td>\n",
       "      <td>-0.030963</td>\n",
       "      <td>0.086698</td>\n",
       "      <td>0.114194</td>\n",
       "      <td>-0.036775</td>\n",
       "    </tr>\n",
       "    <tr>\n",
       "      <th>4</th>\n",
       "      <td>5</td>\n",
       "      <td>0.020412</td>\n",
       "      <td>0.063732</td>\n",
       "      <td>-0.065506</td>\n",
       "      <td>-0.089598</td>\n",
       "      <td>-0.130788</td>\n",
       "      <td>-0.018809</td>\n",
       "      <td>0.119304</td>\n",
       "      <td>-0.057494</td>\n",
       "      <td>0.094714</td>\n",
       "      <td>...</td>\n",
       "      <td>-0.001969</td>\n",
       "      <td>-0.003025</td>\n",
       "      <td>-0.021156</td>\n",
       "      <td>-0.136993</td>\n",
       "      <td>-0.003615</td>\n",
       "      <td>0.036371</td>\n",
       "      <td>0.048715</td>\n",
       "      <td>-0.002688</td>\n",
       "      <td>-0.016957</td>\n",
       "      <td>-0.004331</td>\n",
       "    </tr>\n",
       "  </tbody>\n",
       "</table>\n",
       "<p>5 rows × 769 columns</p>\n",
       "</div>"
      ],
      "text/plain": [
       "   ID  feature_1  feature_2  feature_3  feature_4  feature_5  feature_6  \\\n",
       "0   1   0.187868  -0.009268   0.039846  -0.102515  -0.109121  -0.079769   \n",
       "1   2   0.122119   0.019015   0.134483   0.007949  -0.157884  -0.033332   \n",
       "2   3   0.079187   0.146195  -0.001316  -0.085596  -0.261093  -0.021620   \n",
       "3   4   0.231196   0.021558   0.215534  -0.210258  -0.158189   0.041621   \n",
       "4   5   0.020412   0.063732  -0.065506  -0.089598  -0.130788  -0.018809   \n",
       "\n",
       "   feature_7  feature_8  feature_9  ...  feature_759  feature_760  \\\n",
       "0   0.061295  -0.042890   0.099860  ...     0.043647     0.061174   \n",
       "1   0.044334  -0.016869  -0.014088  ...    -0.179798    -0.027611   \n",
       "2   0.268898  -0.103950   0.068976  ...    -0.075460     0.037346   \n",
       "3   0.240254  -0.068112  -0.017550  ...     0.083334     0.141642   \n",
       "4   0.119304  -0.057494   0.094714  ...    -0.001969    -0.003025   \n",
       "\n",
       "   feature_761  feature_762  feature_763  feature_764  feature_765  \\\n",
       "0     0.026771    -0.092734    -0.052383    -0.055526     0.029101   \n",
       "1     0.240023    -0.005648    -0.057537     0.023922    -0.038126   \n",
       "2     0.124254    -0.369695    -0.056773    -0.028471     0.019971   \n",
       "3    -0.007219     0.031547    -0.010762    -0.169036    -0.030963   \n",
       "4    -0.021156    -0.136993    -0.003615     0.036371     0.048715   \n",
       "\n",
       "   feature_766  feature_767  feature_768  \n",
       "0     0.041857    -0.027872     0.099500  \n",
       "1    -0.015171    -0.006270    -0.003790  \n",
       "2    -0.065683    -0.047366    -0.121744  \n",
       "3     0.086698     0.114194    -0.036775  \n",
       "4    -0.002688    -0.016957    -0.004331  \n",
       "\n",
       "[5 rows x 769 columns]"
      ]
     },
     "execution_count": 12,
     "metadata": {},
     "output_type": "execute_result"
    }
   ],
   "source": [
    "label_1_test.head()"
   ]
  },
  {
   "cell_type": "code",
   "execution_count": 13,
   "id": "44aa693f",
   "metadata": {
    "execution": {
     "iopub.execute_input": "2023-09-23T17:15:09.658355Z",
     "iopub.status.busy": "2023-09-23T17:15:09.657571Z",
     "iopub.status.idle": "2023-09-23T17:15:09.717155Z",
     "shell.execute_reply": "2023-09-23T17:15:09.716121Z"
    },
    "id": "hJt-sLN9wjtb",
    "papermill": {
     "duration": 0.091058,
     "end_time": "2023-09-23T17:15:09.719614",
     "exception": false,
     "start_time": "2023-09-23T17:15:09.628556",
     "status": "completed"
    },
    "tags": []
   },
   "outputs": [],
   "source": [
    "X_train = label_1_train.iloc[:, :-4]\n",
    "y_train = label_1_train.iloc[:, -4:]\n",
    "X_val = label_1_valid.iloc[:, :-4]\n",
    "y_val = label_1_valid.iloc[:, -4:]\n",
    "X_test = label_1_test.iloc[:, 1:]"
   ]
  },
  {
   "cell_type": "code",
   "execution_count": 14,
   "id": "c5f38ee8",
   "metadata": {
    "execution": {
     "iopub.execute_input": "2023-09-23T17:15:09.782013Z",
     "iopub.status.busy": "2023-09-23T17:15:09.781635Z",
     "iopub.status.idle": "2023-09-23T17:15:10.510086Z",
     "shell.execute_reply": "2023-09-23T17:15:10.509110Z"
    },
    "id": "eBjtGtwvzPcD",
    "outputId": "804d0137-dd44-4259-c00e-33500e698fb1",
    "papermill": {
     "duration": 0.761371,
     "end_time": "2023-09-23T17:15:10.512566",
     "exception": false,
     "start_time": "2023-09-23T17:15:09.751195",
     "status": "completed"
    },
    "tags": []
   },
   "outputs": [
    {
     "data": {
      "image/png": "[encoded data removed]",
      "text/plain": [
       "<Figure size 1800x600 with 1 Axes>"
      ]
     },
     "metadata": {},
     "output_type": "display_data"
    }
   ],
   "source": [
    "plt.figure(figsize=(18, 6))\n",
    "sn.countplot(data=y_train, x='label_1', palette='Set2')\n",
    "plt.title('Distribution of label_1 Classes')\n",
    "plt.xlabel('label_1')\n",
    "plt.ylabel('Count')\n",
    "plt.xticks(rotation=45)\n",
    "plt.show()"
   ]
  },
  {
   "cell_type": "code",
   "execution_count": 15,
   "id": "9d32a2cd",
   "metadata": {
    "execution": {
     "iopub.execute_input": "2023-09-23T17:15:10.572602Z",
     "iopub.status.busy": "2023-09-23T17:15:10.571761Z",
     "iopub.status.idle": "2023-09-23T17:16:03.876807Z",
     "shell.execute_reply": "2023-09-23T17:16:03.875894Z"
    },
    "id": "uw63e_qSctT4",
    "outputId": "a8032453-7279-4abd-8216-9a91f21bea60",
    "papermill": {
     "duration": 53.367042,
     "end_time": "2023-09-23T17:16:03.908791",
     "exception": false,
     "start_time": "2023-09-23T17:15:10.541749",
     "status": "completed"
    },
    "tags": []
   },
   "outputs": [
    {
     "name": "stdout",
     "output_type": "stream",
     "text": [
      "Accuracy: 97.47% in 53.298977851867676 secs\n"
     ]
    }
   ],
   "source": [
    "# accuracy with all the features\n",
    "#svm\n",
    "start_time = time.time()\n",
    "accuracy = svm_classifier(X_train, y_train['label_1'], X_val, y_val['label_1'] )\n",
    "elapsed_time = time.time() - start_time\n",
    "print(f\"Accuracy: {accuracy * 100:.2f}% in {elapsed_time} secs\")"
   ]
  },
  {
   "cell_type": "code",
   "execution_count": 16,
   "id": "efe2b60b",
   "metadata": {
    "execution": {
     "iopub.execute_input": "2023-09-23T17:16:03.968042Z",
     "iopub.status.busy": "2023-09-23T17:16:03.967701Z",
     "iopub.status.idle": "2023-09-23T17:16:04.945691Z",
     "shell.execute_reply": "2023-09-23T17:16:04.944467Z"
    },
    "id": "pJsxifjvb4Gp",
    "outputId": "c7ad7a2a-6909-49c2-9a0d-37691d8fee14",
    "papermill": {
     "duration": 1.010517,
     "end_time": "2023-09-23T17:16:04.947809",
     "exception": false,
     "start_time": "2023-09-23T17:16:03.937292",
     "status": "completed"
    },
    "tags": []
   },
   "outputs": [
    {
     "name": "stdout",
     "output_type": "stream",
     "text": [
      "Accuracy: 94.40% in 0.9723339080810547 secs\n"
     ]
    }
   ],
   "source": [
    "# accuracy with all the features\n",
    "#knn\n",
    "start_time = time.time()\n",
    "accuracy = knn_classifier(X_train, y_train['label_1'], X_val, y_val['label_1'] )\n",
    "elapsed_time = time.time() - start_time\n",
    "print(f\"Accuracy: {accuracy * 100:.2f}% in {elapsed_time} secs\")"
   ]
  },
  {
   "cell_type": "code",
   "execution_count": 17,
   "id": "d2c5da43",
   "metadata": {
    "execution": {
     "iopub.execute_input": "2023-09-23T17:16:05.007188Z",
     "iopub.status.busy": "2023-09-23T17:16:05.006735Z",
     "iopub.status.idle": "2023-09-23T17:16:43.733188Z",
     "shell.execute_reply": "2023-09-23T17:16:43.731880Z"
    },
    "id": "PMg0VNFQcrhX",
    "outputId": "b48c2299-b5d3-4c7c-d27b-cc824d7966a3",
    "papermill": {
     "duration": 38.866071,
     "end_time": "2023-09-23T17:16:43.843204",
     "exception": false,
     "start_time": "2023-09-23T17:16:04.977133",
     "status": "completed"
    },
    "tags": []
   },
   "outputs": [
    {
     "name": "stdout",
     "output_type": "stream",
     "text": [
      "Accuracy: 97.20% in 38.71573185920715 secs\n"
     ]
    }
   ],
   "source": [
    "# accuracy with all the features\n",
    "#logistic_regression_classifier\n",
    "start_time = time.time()\n",
    "accuracy = logistic_regression_classifier(X_train, y_train['label_1'], X_val, y_val['label_1'] )\n",
    "elapsed_time = time.time() - start_time\n",
    "print(f\"Accuracy: {accuracy * 100:.2f}% in {elapsed_time} secs\")"
   ]
  },
  {
   "cell_type": "code",
   "execution_count": 18,
   "id": "6a2e4c7e",
   "metadata": {
    "execution": {
     "iopub.execute_input": "2023-09-23T17:16:43.913077Z",
     "iopub.status.busy": "2023-09-23T17:16:43.912716Z",
     "iopub.status.idle": "2023-09-23T17:16:50.753761Z",
     "shell.execute_reply": "2023-09-23T17:16:50.752608Z"
    },
    "id": "jpsWGDmHL2PN",
    "papermill": {
     "duration": 6.876221,
     "end_time": "2023-09-23T17:16:50.756323",
     "exception": false,
     "start_time": "2023-09-23T17:16:43.880102",
     "status": "completed"
    },
    "tags": []
   },
   "outputs": [],
   "source": [
    "label_1_pred_before = svm.predict(np.array(X_test))"
   ]
  },
  {
   "cell_type": "code",
   "execution_count": 19,
   "id": "51a577f3",
   "metadata": {
    "execution": {
     "iopub.execute_input": "2023-09-23T17:16:50.816498Z",
     "iopub.status.busy": "2023-09-23T17:16:50.816184Z",
     "iopub.status.idle": "2023-09-23T17:16:51.227733Z",
     "shell.execute_reply": "2023-09-23T17:16:51.226229Z"
    },
    "id": "TIanD8lKfKy_",
    "outputId": "413f4d1c-0bfc-4c99-beb9-9242ba83e371",
    "papermill": {
     "duration": 0.443786,
     "end_time": "2023-09-23T17:16:51.230017",
     "exception": true,
     "start_time": "2023-09-23T17:16:50.786231",
     "status": "failed"
    },
    "tags": []
   },
   "outputs": [
    {
     "ename": "NameError",
     "evalue": "name 'X_train_pca' is not defined",
     "output_type": "error",
     "traceback": [
      "\u001b[0;31m---------------------------------------------------------------------------\u001b[0m",
      "\u001b[0;31mNameError\u001b[0m                                 Traceback (most recent call last)",
      "Cell \u001b[0;32mIn[19], line 1\u001b[0m\n\u001b[0;32m----> 1\u001b[0m weekly_related_features \u001b[38;5;241m=\u001b[39m id_weekly_correlated_features_with_label(\u001b[43mX_train_pca\u001b[49m, \u001b[38;5;124m'\u001b[39m\u001b[38;5;124mlabel_1\u001b[39m\u001b[38;5;124m'\u001b[39m,\u001b[38;5;241m0.01\u001b[39m)\n\u001b[1;32m      2\u001b[0m \u001b[38;5;28mlen\u001b[39m(\u001b[38;5;28mset\u001b[39m(weekly_related_features))\n",
      "\u001b[0;31mNameError\u001b[0m: name 'X_train_pca' is not defined"
     ]
    }
   ],
   "source": [
    "weekly_related_features = id_weekly_correlated_features_with_label(X_train_pca, 'label_1',0.01)\n",
    "len(set(weekly_related_features))"
   ]
  },
  {
   "cell_type": "code",
   "execution_count": null,
   "id": "c6ee250a",
   "metadata": {
    "execution": {
     "iopub.status.busy": "2023-09-23T10:43:39.134780Z",
     "iopub.status.idle": "2023-09-23T10:43:39.135246Z",
     "shell.execute_reply": "2023-09-23T10:43:39.135039Z",
     "shell.execute_reply.started": "2023-09-23T10:43:39.135016Z"
    },
    "id": "5qYRGAbpfS_2",
    "outputId": "ab84993c-806a-4db7-9c0f-2d95219a53a4",
    "papermill": {
     "duration": null,
     "end_time": null,
     "exception": null,
     "start_time": null,
     "status": "pending"
    },
    "tags": []
   },
   "outputs": [],
   "source": [
    "print(f\"dropping weekly related features count {len(set(weekly_related_features))}\")\n",
    "X_train_filtered = X_train.drop(columns=list(weekly_related_features))\n",
    "X_val_filtered = X_val.drop(columns=list(weekly_related_features))\n",
    "X_test_filtered = X_test.drop(columns=list(weekly_related_features))\n",
    "start_time = time.time()\n",
    "accuracy = svm_classifier(X_train_filtered, y_train['label_1'], X_val_filtered, y_val['label_1'] )\n",
    "elapsed_time = time.time() - start_time\n",
    "print(f\"Accuracy: {accuracy * 100:.2f}% in {elapsed_time} secs\")"
   ]
  },
  {
   "cell_type": "code",
   "execution_count": null,
   "id": "71c6c7e0",
   "metadata": {
    "execution": {
     "iopub.status.busy": "2023-09-23T10:43:39.136864Z",
     "iopub.status.idle": "2023-09-23T10:43:39.137330Z",
     "shell.execute_reply": "2023-09-23T10:43:39.137113Z",
     "shell.execute_reply.started": "2023-09-23T10:43:39.137091Z"
    },
    "id": "2tDYsxWr4GPn",
    "outputId": "09d9ec49-649e-4905-f9ab-d4847a8476ca",
    "papermill": {
     "duration": null,
     "end_time": null,
     "exception": null,
     "start_time": null,
     "status": "pending"
    },
    "tags": []
   },
   "outputs": [],
   "source": [
    "highly_related_features = id_highly_correlated_features(X_train_filtered, 0.5)\n",
    "len(set(highly_related_features))"
   ]
  },
  {
   "cell_type": "code",
   "execution_count": null,
   "id": "b2fd5822",
   "metadata": {
    "execution": {
     "iopub.status.busy": "2023-09-23T10:43:39.138604Z",
     "iopub.status.idle": "2023-09-23T10:43:39.139497Z",
     "shell.execute_reply": "2023-09-23T10:43:39.139255Z",
     "shell.execute_reply.started": "2023-09-23T10:43:39.139223Z"
    },
    "id": "rCB9Hldr4ATT",
    "outputId": "614298dc-0868-4e8c-f7e0-d700a3496d14",
    "papermill": {
     "duration": null,
     "end_time": null,
     "exception": null,
     "start_time": null,
     "status": "pending"
    },
    "tags": []
   },
   "outputs": [],
   "source": [
    "print(f\"dropping highly related features count {len(set(highly_related_features))}\")\n",
    "X_train_filtered = X_train_filtered.drop(columns=list(highly_related_features))\n",
    "X_val_filtered = X_val_filtered.drop(columns=list(highly_related_features))\n",
    "X_test_filtered = X_test_filtered.drop(columns=list(highly_related_features))\n",
    "start_time = time.time()\n",
    "accuracy = svm_classifier(X_train_filtered, y_train['label_1'], X_val_filtered, y_val['label_1'] )\n",
    "elapsed_time = time.time() - start_time\n",
    "print(f\"Accuracy: {accuracy * 100:.2f}% in {elapsed_time} secs\")"
   ]
  },
  {
   "cell_type": "code",
   "execution_count": null,
   "id": "41d792c0",
   "metadata": {
    "execution": {
     "iopub.status.busy": "2023-09-23T10:43:39.141264Z",
     "iopub.status.idle": "2023-09-23T10:43:39.141808Z",
     "shell.execute_reply": "2023-09-23T10:43:39.141548Z",
     "shell.execute_reply.started": "2023-09-23T10:43:39.141525Z"
    },
    "id": "QR0lf6v4nkYG",
    "papermill": {
     "duration": null,
     "end_time": null,
     "exception": null,
     "start_time": null,
     "status": "pending"
    },
    "tags": []
   },
   "outputs": [],
   "source": [
    "scaler = StandardScaler()\n",
    "X_train_scaled = scaler.fit_transform(X_train_filtered)\n",
    "X_val_scaled = scaler.transform(X_val_filtered)\n",
    "X_test_scaled = scaler.transform(X_test_filtered)"
   ]
  },
  {
   "cell_type": "code",
   "execution_count": null,
   "id": "f6d00842",
   "metadata": {
    "execution": {
     "iopub.status.busy": "2023-09-23T10:43:39.143523Z",
     "iopub.status.idle": "2023-09-23T10:43:39.143982Z",
     "shell.execute_reply": "2023-09-23T10:43:39.143776Z",
     "shell.execute_reply.started": "2023-09-23T10:43:39.143755Z"
    },
    "id": "QgveuP1snttP",
    "outputId": "69554db8-c302-4aa5-906f-bf35391d2f49",
    "papermill": {
     "duration": null,
     "end_time": null,
     "exception": null,
     "start_time": null,
     "status": "pending"
    },
    "tags": []
   },
   "outputs": [],
   "source": [
    "start_time = time.time()\n",
    "accuracy = svm_classifier(X_train_scaled, y_train['label_1'], X_val_scaled, y_val['label_1'] )\n",
    "elapsed_time = time.time() - start_time\n",
    "print(f\"Accuracy: {accuracy * 100:.2f}% in {elapsed_time} secs\")"
   ]
  },
  {
   "cell_type": "code",
   "execution_count": null,
   "id": "aa4b990f",
   "metadata": {
    "execution": {
     "iopub.status.busy": "2023-09-23T10:43:39.145565Z",
     "iopub.status.idle": "2023-09-23T10:43:39.146150Z",
     "shell.execute_reply": "2023-09-23T10:43:39.145920Z",
     "shell.execute_reply.started": "2023-09-23T10:43:39.145898Z"
    },
    "id": "JH8TV-YvuqBp",
    "outputId": "f6d06c32-6c5a-473c-9da6-827d78549879",
    "papermill": {
     "duration": null,
     "end_time": null,
     "exception": null,
     "start_time": null,
     "status": "pending"
    },
    "tags": []
   },
   "outputs": [],
   "source": [
    "X_train_scaled.shape"
   ]
  },
  {
   "cell_type": "code",
   "execution_count": null,
   "id": "7a232a19",
   "metadata": {
    "execution": {
     "iopub.status.busy": "2023-09-23T10:43:39.147501Z",
     "iopub.status.idle": "2023-09-23T10:43:39.148292Z",
     "shell.execute_reply": "2023-09-23T10:43:39.148078Z",
     "shell.execute_reply.started": "2023-09-23T10:43:39.148055Z"
    },
    "id": "NsvGCiJ4iuJ2",
    "papermill": {
     "duration": null,
     "end_time": null,
     "exception": null,
     "start_time": null,
     "status": "pending"
    },
    "tags": []
   },
   "outputs": [],
   "source": [
    "pca = PCA(n_components=0.95, svd_solver = 'full')\n",
    "X_train_pca = pca.fit_transform(X_train)\n",
    "X_val_pca = pca.transform(X_val)\n",
    "X_test_pca = pca.transform(X_test)"
   ]
  },
  {
   "cell_type": "code",
   "execution_count": null,
   "id": "003fb9e4",
   "metadata": {
    "execution": {
     "iopub.status.busy": "2023-09-23T10:43:39.150059Z",
     "iopub.status.idle": "2023-09-23T10:43:39.150515Z",
     "shell.execute_reply": "2023-09-23T10:43:39.150301Z",
     "shell.execute_reply.started": "2023-09-23T10:43:39.150279Z"
    },
    "id": "p74xqqvhvS_M",
    "outputId": "55d04341-ac72-44d5-8c04-00fc0ef60eb0",
    "papermill": {
     "duration": null,
     "end_time": null,
     "exception": null,
     "start_time": null,
     "status": "pending"
    },
    "tags": []
   },
   "outputs": [],
   "source": [
    "start_time = time.time()\n",
    "accuracy = svm_classifier(X_train_pca, y_train['label_1'], X_val_pca, y_val['label_1'] )\n",
    "elapsed_time = time.time() - start_time\n",
    "print(f\"Accuracy: {accuracy * 100:.2f}% in {elapsed_time} secs\")"
   ]
  },
  {
   "cell_type": "code",
   "execution_count": null,
   "id": "4cf4bff7",
   "metadata": {
    "execution": {
     "iopub.status.busy": "2023-09-23T10:43:39.151901Z",
     "iopub.status.idle": "2023-09-23T10:43:39.152698Z",
     "shell.execute_reply": "2023-09-23T10:43:39.152464Z",
     "shell.execute_reply.started": "2023-09-23T10:43:39.152438Z"
    },
    "id": "uIOx2vrmng8H",
    "outputId": "52683e60-59d4-4aac-a8e0-b8ccfddc7c7d",
    "papermill": {
     "duration": null,
     "end_time": null,
     "exception": null,
     "start_time": null,
     "status": "pending"
    },
    "tags": []
   },
   "outputs": [],
   "source": [
    "X_train_pca.shape"
   ]
  },
  {
   "cell_type": "code",
   "execution_count": null,
   "id": "8c6af62f",
   "metadata": {
    "execution": {
     "iopub.status.busy": "2023-09-23T10:43:39.154306Z",
     "iopub.status.idle": "2023-09-23T10:43:39.155422Z",
     "shell.execute_reply": "2023-09-23T10:43:39.155152Z",
     "shell.execute_reply.started": "2023-09-23T10:43:39.155121Z"
    },
    "papermill": {
     "duration": null,
     "end_time": null,
     "exception": null,
     "start_time": null,
     "status": "pending"
    },
    "tags": []
   },
   "outputs": [],
   "source": [
    "# # Hyper Parameter Tuning For SVC\n",
    "\n",
    "# from sklearn.model_selection import GridSearchCV\n",
    "  \n",
    "# # defining parameter range\n",
    "# param_grid = {'C': [0.1, 1, 10, 100, 1000], \n",
    "#               'gamma': [1, 0.1, 0.01, 0.001, 0.0001],\n",
    "#               'kernel': ['rbf']} \n",
    "  \n",
    "# grid = GridSearchCV(SVC(), param_grid, refit = True, verbose = 3)\n",
    "  \n",
    "# # fitting the model for grid search\n",
    "# grid.fit(X_train_pca, y_train['label_1'])\n",
    "# grid.best_params_"
   ]
  },
  {
   "cell_type": "code",
   "execution_count": null,
   "id": "db88dac8",
   "metadata": {
    "execution": {
     "iopub.status.busy": "2023-09-23T10:43:39.157077Z",
     "iopub.status.idle": "2023-09-23T10:43:39.157534Z",
     "shell.execute_reply": "2023-09-23T10:43:39.157317Z",
     "shell.execute_reply.started": "2023-09-23T10:43:39.157295Z"
    },
    "papermill": {
     "duration": null,
     "end_time": null,
     "exception": null,
     "start_time": null,
     "status": "pending"
    },
    "tags": []
   },
   "outputs": [],
   "source": [
    "# grid.best_estimator_"
   ]
  },
  {
   "cell_type": "code",
   "execution_count": null,
   "id": "8a4fd39b",
   "metadata": {
    "execution": {
     "iopub.status.busy": "2023-09-23T10:43:39.159280Z",
     "iopub.status.idle": "2023-09-23T10:43:39.159803Z",
     "shell.execute_reply": "2023-09-23T10:43:39.159575Z",
     "shell.execute_reply.started": "2023-09-23T10:43:39.159552Z"
    },
    "papermill": {
     "duration": null,
     "end_time": null,
     "exception": null,
     "start_time": null,
     "status": "pending"
    },
    "tags": []
   },
   "outputs": [],
   "source": [
    "cross_val_score(SVC(C=1000, gamma=0.001, kernel='rbf'), X_train_pca, y_train['label_1'], cv=3).mean()"
   ]
  },
  {
   "cell_type": "code",
   "execution_count": null,
   "id": "6734dfd5",
   "metadata": {
    "execution": {
     "iopub.status.busy": "2023-09-23T10:43:39.161405Z",
     "iopub.status.idle": "2023-09-23T10:43:39.161885Z",
     "shell.execute_reply": "2023-09-23T10:43:39.161657Z",
     "shell.execute_reply.started": "2023-09-23T10:43:39.161636Z"
    },
    "papermill": {
     "duration": null,
     "end_time": null,
     "exception": null,
     "start_time": null,
     "status": "pending"
    },
    "tags": []
   },
   "outputs": [],
   "source": [
    "best_model_label_1 = SVC(C=1000, gamma=0.001, kernel='rbf', probability=True)\n",
    "best_model_label_1.fit(X_train_pca, y_train['label_1'])\n",
    "pred = best_model_label_1.predict(X_val_pca)\n",
    "accuracy_score(y_val['label_1'], pred )"
   ]
  },
  {
   "cell_type": "code",
   "execution_count": null,
   "id": "eb901843",
   "metadata": {
    "execution": {
     "iopub.status.busy": "2023-09-23T10:43:39.163543Z",
     "iopub.status.idle": "2023-09-23T10:43:39.164012Z",
     "shell.execute_reply": "2023-09-23T10:43:39.163799Z",
     "shell.execute_reply.started": "2023-09-23T10:43:39.163776Z"
    },
    "id": "LtzImnGTLdOr",
    "papermill": {
     "duration": null,
     "end_time": null,
     "exception": null,
     "start_time": null,
     "status": "pending"
    },
    "tags": []
   },
   "outputs": [],
   "source": [
    "label_1_pred_after = best_model_label_1.predict(np.array(X_test_pca))"
   ]
  },
  {
   "cell_type": "markdown",
   "id": "3d761aba",
   "metadata": {
    "id": "GwFcUdxixFuQ",
    "papermill": {
     "duration": null,
     "end_time": null,
     "exception": null,
     "start_time": null,
     "status": "pending"
    },
    "tags": []
   },
   "source": [
    "Label 2"
   ]
  },
  {
   "cell_type": "code",
   "execution_count": null,
   "id": "351a298b",
   "metadata": {
    "execution": {
     "iopub.status.busy": "2023-09-23T10:43:39.165704Z",
     "iopub.status.idle": "2023-09-23T10:43:39.166149Z",
     "shell.execute_reply": "2023-09-23T10:43:39.165942Z",
     "shell.execute_reply.started": "2023-09-23T10:43:39.165920Z"
    },
    "id": "GtQisDnnxG5q",
    "outputId": "b70c86e9-8808-4b90-e615-d6568b3e50f3",
    "papermill": {
     "duration": null,
     "end_time": null,
     "exception": null,
     "start_time": null,
     "status": "pending"
    },
    "tags": []
   },
   "outputs": [],
   "source": [
    "label_2_train = train.copy()\n",
    "label_2_valid = valid.copy()\n",
    "label_2_test = test.copy()\n",
    "label_2_test.head()"
   ]
  },
  {
   "cell_type": "code",
   "execution_count": null,
   "id": "b18ed5cd",
   "metadata": {
    "execution": {
     "iopub.status.busy": "2023-09-23T10:43:39.167780Z",
     "iopub.status.idle": "2023-09-23T10:43:39.168234Z",
     "shell.execute_reply": "2023-09-23T10:43:39.168023Z",
     "shell.execute_reply.started": "2023-09-23T10:43:39.168000Z"
    },
    "id": "vSmw8-OBxLl1",
    "papermill": {
     "duration": null,
     "end_time": null,
     "exception": null,
     "start_time": null,
     "status": "pending"
    },
    "tags": []
   },
   "outputs": [],
   "source": [
    "label_2_train = label_2_train.dropna(subset=['label_2'])\n",
    "label_2_valid = label_2_valid.dropna(subset=['label_2'])"
   ]
  },
  {
   "cell_type": "code",
   "execution_count": null,
   "id": "70b2d3fe",
   "metadata": {
    "execution": {
     "iopub.status.busy": "2023-09-23T10:43:39.170050Z",
     "iopub.status.idle": "2023-09-23T10:43:39.170970Z",
     "shell.execute_reply": "2023-09-23T10:43:39.170748Z",
     "shell.execute_reply.started": "2023-09-23T10:43:39.170722Z"
    },
    "id": "7MwepTX7xNJ7",
    "papermill": {
     "duration": null,
     "end_time": null,
     "exception": null,
     "start_time": null,
     "status": "pending"
    },
    "tags": []
   },
   "outputs": [],
   "source": [
    "X_train = label_2_train.iloc[:, :-4]\n",
    "y_train = label_2_train.iloc[:, -3:]\n",
    "X_val = label_2_valid.iloc[:, :-4]\n",
    "y_val = label_2_valid.iloc[:, -3:]\n",
    "X_test = label_2_test.iloc[:, 1:]"
   ]
  },
  {
   "cell_type": "code",
   "execution_count": null,
   "id": "815ce208",
   "metadata": {
    "execution": {
     "iopub.status.busy": "2023-09-23T10:43:39.172399Z",
     "iopub.status.idle": "2023-09-23T10:43:39.172877Z",
     "shell.execute_reply": "2023-09-23T10:43:39.172653Z",
     "shell.execute_reply.started": "2023-09-23T10:43:39.172630Z"
    },
    "id": "aRm0rjoA4Kyp",
    "outputId": "60b9bd09-a054-457f-814b-72d8e1da3521",
    "papermill": {
     "duration": null,
     "end_time": null,
     "exception": null,
     "start_time": null,
     "status": "pending"
    },
    "tags": []
   },
   "outputs": [],
   "source": [
    "X_test.head()"
   ]
  },
  {
   "cell_type": "code",
   "execution_count": null,
   "id": "fb04fa51",
   "metadata": {
    "execution": {
     "iopub.status.busy": "2023-09-23T10:43:39.174232Z",
     "iopub.status.idle": "2023-09-23T10:43:39.175006Z",
     "shell.execute_reply": "2023-09-23T10:43:39.174790Z",
     "shell.execute_reply.started": "2023-09-23T10:43:39.174768Z"
    },
    "id": "U2RC1kQOxWH1",
    "outputId": "b3e3e173-0333-4e2b-e824-b3898b0609b3",
    "papermill": {
     "duration": null,
     "end_time": null,
     "exception": null,
     "start_time": null,
     "status": "pending"
    },
    "tags": []
   },
   "outputs": [],
   "source": [
    "plt.figure(figsize=(18, 6))\n",
    "sn.histplot(data=y_train, x='label_2', bins=20, kde=False)"
   ]
  },
  {
   "cell_type": "code",
   "execution_count": null,
   "id": "6e6354f7",
   "metadata": {
    "execution": {
     "iopub.status.busy": "2023-09-23T10:43:39.176628Z",
     "iopub.status.idle": "2023-09-23T10:43:39.177099Z",
     "shell.execute_reply": "2023-09-23T10:43:39.176890Z",
     "shell.execute_reply.started": "2023-09-23T10:43:39.176868Z"
    },
    "id": "rGfCOe1CxcDT",
    "outputId": "4a5343ed-db14-4ded-c55c-c00231a0c485",
    "papermill": {
     "duration": null,
     "end_time": null,
     "exception": null,
     "start_time": null,
     "status": "pending"
    },
    "tags": []
   },
   "outputs": [],
   "source": [
    "# accuracy with all the features\n",
    "#svm\n",
    "start_time = time.time()\n",
    "accuracy = svm_classifier(X_train, y_train['label_2'], X_val, y_val['label_2'] )\n",
    "elapsed_time = time.time() - start_time\n",
    "print(f\"Accuracy: {accuracy * 100:.2f}% in {elapsed_time} secs\")"
   ]
  },
  {
   "cell_type": "code",
   "execution_count": null,
   "id": "5002ec6d",
   "metadata": {
    "execution": {
     "iopub.status.busy": "2023-09-23T10:43:39.178840Z",
     "iopub.status.idle": "2023-09-23T10:43:39.179338Z",
     "shell.execute_reply": "2023-09-23T10:43:39.179104Z",
     "shell.execute_reply.started": "2023-09-23T10:43:39.179081Z"
    },
    "id": "RrVpPv5RyBW2",
    "outputId": "574778c8-1cf1-4abe-d972-263b3958a570",
    "papermill": {
     "duration": null,
     "end_time": null,
     "exception": null,
     "start_time": null,
     "status": "pending"
    },
    "tags": []
   },
   "outputs": [],
   "source": [
    "# accuracy with all the features\n",
    "#knn\n",
    "start_time = time.time()\n",
    "accuracy = knn_classifier(X_train, y_train['label_2'], X_val, y_val['label_2'] )\n",
    "elapsed_time = time.time() - start_time\n",
    "print(f\"Accuracy: {accuracy * 100:.2f}% in {elapsed_time} secs\")"
   ]
  },
  {
   "cell_type": "code",
   "execution_count": null,
   "id": "076ed7d9",
   "metadata": {
    "execution": {
     "iopub.status.busy": "2023-09-23T10:43:39.180986Z",
     "iopub.status.idle": "2023-09-23T10:43:39.181447Z",
     "shell.execute_reply": "2023-09-23T10:43:39.181228Z",
     "shell.execute_reply.started": "2023-09-23T10:43:39.181207Z"
    },
    "id": "A9vEqopkyHiv",
    "outputId": "84d8f7a7-7ef4-4597-f75c-0b5b44da7e4b",
    "papermill": {
     "duration": null,
     "end_time": null,
     "exception": null,
     "start_time": null,
     "status": "pending"
    },
    "tags": []
   },
   "outputs": [],
   "source": [
    "# accuracy with all the features\n",
    "#logistic_regression_classifier\n",
    "start_time = time.time()\n",
    "accuracy = logistic_regression_classifier(X_train, y_train['label_2'], X_val, y_val['label_2'] )\n",
    "elapsed_time = time.time() - start_time\n",
    "print(f\"Accuracy: {accuracy * 100:.2f}% in {elapsed_time} secs\")"
   ]
  },
  {
   "cell_type": "code",
   "execution_count": null,
   "id": "b4536bae",
   "metadata": {
    "execution": {
     "iopub.status.busy": "2023-09-23T10:43:39.182904Z",
     "iopub.status.idle": "2023-09-23T10:43:39.183927Z",
     "shell.execute_reply": "2023-09-23T10:43:39.183713Z",
     "shell.execute_reply.started": "2023-09-23T10:43:39.183675Z"
    },
    "id": "orTcWMo2OwCV",
    "papermill": {
     "duration": null,
     "end_time": null,
     "exception": null,
     "start_time": null,
     "status": "pending"
    },
    "tags": []
   },
   "outputs": [],
   "source": [
    "label_2_pred_before = svm.predict(np.array(X_test))"
   ]
  },
  {
   "cell_type": "code",
   "execution_count": null,
   "id": "f86ddd2f",
   "metadata": {
    "execution": {
     "iopub.status.busy": "2023-09-23T10:43:39.185247Z",
     "iopub.status.idle": "2023-09-23T10:43:39.185724Z",
     "shell.execute_reply": "2023-09-23T10:43:39.185495Z",
     "shell.execute_reply.started": "2023-09-23T10:43:39.185473Z"
    },
    "id": "wii0aQLpyPW8",
    "outputId": "86e5c0c2-1301-4637-af17-07affe0a16e1",
    "papermill": {
     "duration": null,
     "end_time": null,
     "exception": null,
     "start_time": null,
     "status": "pending"
    },
    "tags": []
   },
   "outputs": [],
   "source": [
    "weekly_related_features = id_weekly_correlated_features_with_label(label_2_train, 'label_2')\n",
    "print(f\"dropping features count {len(set(weekly_related_features))}\")"
   ]
  },
  {
   "cell_type": "code",
   "execution_count": null,
   "id": "321dd80e",
   "metadata": {
    "execution": {
     "iopub.status.busy": "2023-09-23T10:43:39.187099Z",
     "iopub.status.idle": "2023-09-23T10:43:39.187925Z",
     "shell.execute_reply": "2023-09-23T10:43:39.187715Z",
     "shell.execute_reply.started": "2023-09-23T10:43:39.187674Z"
    },
    "id": "iM74bP3151Ll",
    "outputId": "97d6c80d-66fb-4180-daf4-2cb92071fe5f",
    "papermill": {
     "duration": null,
     "end_time": null,
     "exception": null,
     "start_time": null,
     "status": "pending"
    },
    "tags": []
   },
   "outputs": [],
   "source": [
    "X_train_filtered = X_train.drop(columns=list(weekly_related_features))\n",
    "X_val_filtered = X_val.drop(columns=list(weekly_related_features))\n",
    "X_test_filtered = X_test.drop(columns=list(weekly_related_features))\n",
    "start_time = time.time()\n",
    "accuracy = svm_classifier(X_train_filtered, y_train['label_2'], X_val_filtered, y_val['label_2'] )\n",
    "elapsed_time = time.time() - start_time\n",
    "print(f\"Accuracy: {accuracy * 100:.2f}% in {elapsed_time} secs\")"
   ]
  },
  {
   "cell_type": "code",
   "execution_count": null,
   "id": "0e9b2d1e",
   "metadata": {
    "execution": {
     "iopub.status.busy": "2023-09-23T10:43:39.189651Z",
     "iopub.status.idle": "2023-09-23T10:43:39.190122Z",
     "shell.execute_reply": "2023-09-23T10:43:39.189910Z",
     "shell.execute_reply.started": "2023-09-23T10:43:39.189889Z"
    },
    "id": "tanCWQJo55Wc",
    "outputId": "d1d66f62-274e-4143-c201-8ec2566d6867",
    "papermill": {
     "duration": null,
     "end_time": null,
     "exception": null,
     "start_time": null,
     "status": "pending"
    },
    "tags": []
   },
   "outputs": [],
   "source": [
    "highly_related_features = id_highly_correlated_features(X_train_filtered, 0.5)\n",
    "print(f\"dropping features count {len(set(highly_related_features))}\")"
   ]
  },
  {
   "cell_type": "code",
   "execution_count": null,
   "id": "1979f7ee",
   "metadata": {
    "execution": {
     "iopub.status.busy": "2023-09-23T10:43:39.191504Z",
     "iopub.status.idle": "2023-09-23T10:43:39.192286Z",
     "shell.execute_reply": "2023-09-23T10:43:39.192074Z",
     "shell.execute_reply.started": "2023-09-23T10:43:39.192051Z"
    },
    "id": "EHWI8Ca6564S",
    "outputId": "6cb936f1-7e8e-418d-98cc-c7ef5c015770",
    "papermill": {
     "duration": null,
     "end_time": null,
     "exception": null,
     "start_time": null,
     "status": "pending"
    },
    "tags": []
   },
   "outputs": [],
   "source": [
    "X_train_filtered = X_train_filtered.drop(columns=list(highly_related_features))\n",
    "X_val_filtered = X_val_filtered.drop(columns=list(highly_related_features))\n",
    "X_test_filtered = X_test_filtered.drop(columns=list(highly_related_features))\n",
    "start_time = time.time()\n",
    "accuracy = svm_classifier(X_train_filtered, y_train['label_2'], X_val_filtered, y_val['label_2'] )\n",
    "elapsed_time = time.time() - start_time\n",
    "print(f\"Accuracy: {accuracy * 100:.2f}% in {elapsed_time} secs\")"
   ]
  },
  {
   "cell_type": "code",
   "execution_count": null,
   "id": "df087434",
   "metadata": {
    "execution": {
     "iopub.status.busy": "2023-09-23T10:43:39.193967Z",
     "iopub.status.idle": "2023-09-23T10:43:39.194422Z",
     "shell.execute_reply": "2023-09-23T10:43:39.194213Z",
     "shell.execute_reply.started": "2023-09-23T10:43:39.194191Z"
    },
    "id": "9SdmZA88z4Sj",
    "papermill": {
     "duration": null,
     "end_time": null,
     "exception": null,
     "start_time": null,
     "status": "pending"
    },
    "tags": []
   },
   "outputs": [],
   "source": [
    "scaler = StandardScaler()\n",
    "X_train_scaled = scaler.fit_transform(X_train_filtered)\n",
    "X_val_scaled = scaler.transform(X_val_filtered)\n",
    "X_test_scaled = scaler.transform(X_test_filtered)"
   ]
  },
  {
   "cell_type": "code",
   "execution_count": null,
   "id": "90264f6a",
   "metadata": {
    "execution": {
     "iopub.status.busy": "2023-09-23T10:43:39.195881Z",
     "iopub.status.idle": "2023-09-23T10:43:39.196899Z",
     "shell.execute_reply": "2023-09-23T10:43:39.196668Z",
     "shell.execute_reply.started": "2023-09-23T10:43:39.196646Z"
    },
    "id": "MoeQYXQ10V2y",
    "outputId": "76381c3d-6bb3-4076-e856-61b9e11f8b89",
    "papermill": {
     "duration": null,
     "end_time": null,
     "exception": null,
     "start_time": null,
     "status": "pending"
    },
    "tags": []
   },
   "outputs": [],
   "source": [
    "start_time = time.time()\n",
    "accuracy = svm_classifier(X_train_scaled, y_train['label_2'], X_val_scaled, y_val['label_2'] )\n",
    "elapsed_time = time.time() - start_time\n",
    "print(f\"Accuracy: {accuracy * 100:.2f}% in {elapsed_time} secs\")"
   ]
  },
  {
   "cell_type": "code",
   "execution_count": null,
   "id": "d49b7f71",
   "metadata": {
    "execution": {
     "iopub.status.busy": "2023-09-23T10:43:39.198204Z",
     "iopub.status.idle": "2023-09-23T10:43:39.198725Z",
     "shell.execute_reply": "2023-09-23T10:43:39.198474Z",
     "shell.execute_reply.started": "2023-09-23T10:43:39.198449Z"
    },
    "id": "JQCSfwb30ZHP",
    "outputId": "1262cbda-08c3-4295-f660-1105d5f8b9a4",
    "papermill": {
     "duration": null,
     "end_time": null,
     "exception": null,
     "start_time": null,
     "status": "pending"
    },
    "tags": []
   },
   "outputs": [],
   "source": [
    "X_train_scaled.shape"
   ]
  },
  {
   "cell_type": "code",
   "execution_count": null,
   "id": "b72d20c8",
   "metadata": {
    "execution": {
     "iopub.status.busy": "2023-09-23T10:43:39.200610Z",
     "iopub.status.idle": "2023-09-23T10:43:39.201072Z",
     "shell.execute_reply": "2023-09-23T10:43:39.200865Z",
     "shell.execute_reply.started": "2023-09-23T10:43:39.200844Z"
    },
    "id": "IVf4MAx10c8G",
    "papermill": {
     "duration": null,
     "end_time": null,
     "exception": null,
     "start_time": null,
     "status": "pending"
    },
    "tags": []
   },
   "outputs": [],
   "source": [
    "pca = PCA(n_components=0.95, svd_solver = 'full')\n",
    "X_train_pca = pca.fit_transform(X_train_scaled)\n",
    "X_val_pca = pca.transform(X_val_scaled)\n",
    "X_test_pca = pca.transform(X_test_scaled)"
   ]
  },
  {
   "cell_type": "code",
   "execution_count": null,
   "id": "593c67bc",
   "metadata": {
    "execution": {
     "iopub.status.busy": "2023-09-23T10:43:39.202817Z",
     "iopub.status.idle": "2023-09-23T10:43:39.203264Z",
     "shell.execute_reply": "2023-09-23T10:43:39.203056Z",
     "shell.execute_reply.started": "2023-09-23T10:43:39.203035Z"
    },
    "id": "hwFx8lsv4qHd",
    "outputId": "affacf4d-73a1-4511-f211-a2117cfdc75d",
    "papermill": {
     "duration": null,
     "end_time": null,
     "exception": null,
     "start_time": null,
     "status": "pending"
    },
    "tags": []
   },
   "outputs": [],
   "source": [
    "start_time = time.time()\n",
    "accuracy = svm_classifier(X_train_pca, y_train['label_2'], X_val_pca, y_val['label_2'] )\n",
    "elapsed_time = time.time() - start_time\n",
    "print(f\"Accuracy: {accuracy * 100:.2f}% in {elapsed_time} secs\")"
   ]
  },
  {
   "cell_type": "code",
   "execution_count": null,
   "id": "bcbe5a43",
   "metadata": {
    "execution": {
     "iopub.status.busy": "2023-09-23T10:43:39.204758Z",
     "iopub.status.idle": "2023-09-23T10:43:39.205655Z",
     "shell.execute_reply": "2023-09-23T10:43:39.205434Z",
     "shell.execute_reply.started": "2023-09-23T10:43:39.205400Z"
    },
    "id": "pHVjW7dQ45j7",
    "outputId": "82695d8f-6780-435e-8176-60fd0ee97036",
    "papermill": {
     "duration": null,
     "end_time": null,
     "exception": null,
     "start_time": null,
     "status": "pending"
    },
    "tags": []
   },
   "outputs": [],
   "source": [
    "X_train_pca.shape"
   ]
  },
  {
   "cell_type": "code",
   "execution_count": null,
   "id": "a3d2eef0",
   "metadata": {
    "execution": {
     "iopub.status.busy": "2023-09-23T10:43:39.207118Z",
     "iopub.status.idle": "2023-09-23T10:43:39.207576Z",
     "shell.execute_reply": "2023-09-23T10:43:39.207359Z",
     "shell.execute_reply.started": "2023-09-23T10:43:39.207336Z"
    },
    "id": "vJaSLqpZ7o6-",
    "outputId": "4a9af7d0-f284-4f8d-cc49-64cf96872287",
    "papermill": {
     "duration": null,
     "end_time": null,
     "exception": null,
     "start_time": null,
     "status": "pending"
    },
    "tags": []
   },
   "outputs": [],
   "source": [
    "X_test_pca.shape"
   ]
  },
  {
   "cell_type": "code",
   "execution_count": null,
   "id": "fb1a0e10",
   "metadata": {
    "execution": {
     "iopub.status.busy": "2023-09-23T10:43:39.209293Z",
     "iopub.status.idle": "2023-09-23T10:43:39.209818Z",
     "shell.execute_reply": "2023-09-23T10:43:39.209594Z",
     "shell.execute_reply.started": "2023-09-23T10:43:39.209573Z"
    },
    "papermill": {
     "duration": null,
     "end_time": null,
     "exception": null,
     "start_time": null,
     "status": "pending"
    },
    "tags": []
   },
   "outputs": [],
   "source": [
    "# from sklearn.model_selection import GridSearchCV\n",
    "  \n",
    "# # defining parameter range\n",
    "# param_grid = {'C': [1000, 1200, 1300, 1500, 1600, 2000, 1800, 2200],\n",
    "#               'kernel': ['rbf']} \n",
    "  \n",
    "# grid = GridSearchCV(SVC(), param_grid, refit = True, verbose = 3)\n",
    "  \n",
    "# # fitting the model for grid search\n",
    "# grid.fit(X_train_pca, y_train['label_2'])\n",
    "# grid.best_params_"
   ]
  },
  {
   "cell_type": "code",
   "execution_count": null,
   "id": "2b97d904",
   "metadata": {
    "execution": {
     "iopub.status.busy": "2023-09-23T10:43:39.211695Z",
     "iopub.status.idle": "2023-09-23T10:43:39.212144Z",
     "shell.execute_reply": "2023-09-23T10:43:39.211936Z",
     "shell.execute_reply.started": "2023-09-23T10:43:39.211915Z"
    },
    "papermill": {
     "duration": null,
     "end_time": null,
     "exception": null,
     "start_time": null,
     "status": "pending"
    },
    "tags": []
   },
   "outputs": [],
   "source": [
    "cross_val_score(SVC(C=1000, kernel='rbf'), X_train_pca, y_train['label_2'], cv=5).mean()"
   ]
  },
  {
   "cell_type": "code",
   "execution_count": null,
   "id": "b15a8647",
   "metadata": {
    "execution": {
     "iopub.status.busy": "2023-09-23T10:43:39.213987Z",
     "iopub.status.idle": "2023-09-23T10:43:39.214441Z",
     "shell.execute_reply": "2023-09-23T10:43:39.214227Z",
     "shell.execute_reply.started": "2023-09-23T10:43:39.214206Z"
    },
    "papermill": {
     "duration": null,
     "end_time": null,
     "exception": null,
     "start_time": null,
     "status": "pending"
    },
    "tags": []
   },
   "outputs": [],
   "source": [
    "best_model_label_2 = SVC(C=1000, kernel='rbf')\n",
    "best_model_label_2.fit(X_train_pca, y_train['label_2'])\n",
    "pred = best_model_label_2.predict(X_val_pca)\n",
    "accuracy_score(y_val['label_2'], pred )"
   ]
  },
  {
   "cell_type": "code",
   "execution_count": null,
   "id": "92b2c0eb",
   "metadata": {
    "execution": {
     "iopub.status.busy": "2023-09-23T10:43:39.215862Z",
     "iopub.status.idle": "2023-09-23T10:43:39.216861Z",
     "shell.execute_reply": "2023-09-23T10:43:39.216627Z",
     "shell.execute_reply.started": "2023-09-23T10:43:39.216605Z"
    },
    "id": "xkphPt_NNVhE",
    "papermill": {
     "duration": null,
     "end_time": null,
     "exception": null,
     "start_time": null,
     "status": "pending"
    },
    "tags": []
   },
   "outputs": [],
   "source": [
    "label_2_pred_after = best_model_label_2.predict(np.array(X_test_pca))"
   ]
  },
  {
   "cell_type": "markdown",
   "id": "4a8b4609",
   "metadata": {
    "id": "TydTj0m46IhP",
    "papermill": {
     "duration": null,
     "end_time": null,
     "exception": null,
     "start_time": null,
     "status": "pending"
    },
    "tags": []
   },
   "source": [
    "Label 3"
   ]
  },
  {
   "cell_type": "code",
   "execution_count": null,
   "id": "35bb8add",
   "metadata": {
    "execution": {
     "iopub.status.busy": "2023-09-23T10:43:39.218350Z",
     "iopub.status.idle": "2023-09-23T10:43:39.218905Z",
     "shell.execute_reply": "2023-09-23T10:43:39.218648Z",
     "shell.execute_reply.started": "2023-09-23T10:43:39.218623Z"
    },
    "id": "wG3uMumaE2yX",
    "papermill": {
     "duration": null,
     "end_time": null,
     "exception": null,
     "start_time": null,
     "status": "pending"
    },
    "tags": []
   },
   "outputs": [],
   "source": [
    "label_3_train = train.copy()\n",
    "label_3_valid = valid.copy()\n",
    "label_3_test = test.copy()"
   ]
  },
  {
   "cell_type": "code",
   "execution_count": null,
   "id": "a3e93574",
   "metadata": {
    "execution": {
     "iopub.status.busy": "2023-09-23T10:43:39.220348Z",
     "iopub.status.idle": "2023-09-23T10:43:39.221237Z",
     "shell.execute_reply": "2023-09-23T10:43:39.221026Z",
     "shell.execute_reply.started": "2023-09-23T10:43:39.221001Z"
    },
    "id": "92vFvZzD-QiO",
    "papermill": {
     "duration": null,
     "end_time": null,
     "exception": null,
     "start_time": null,
     "status": "pending"
    },
    "tags": []
   },
   "outputs": [],
   "source": [
    "label_3_train = label_3_train.dropna(subset=['label_3'])\n",
    "label_3_valid = label_3_valid.dropna(subset=['label_3'])"
   ]
  },
  {
   "cell_type": "code",
   "execution_count": null,
   "id": "17ddc320",
   "metadata": {
    "execution": {
     "iopub.status.busy": "2023-09-23T10:43:39.222758Z",
     "iopub.status.idle": "2023-09-23T10:43:39.223202Z",
     "shell.execute_reply": "2023-09-23T10:43:39.223000Z",
     "shell.execute_reply.started": "2023-09-23T10:43:39.222978Z"
    },
    "id": "F_3iT0AW6KIQ",
    "papermill": {
     "duration": null,
     "end_time": null,
     "exception": null,
     "start_time": null,
     "status": "pending"
    },
    "tags": []
   },
   "outputs": [],
   "source": [
    "X_train = label_3_train.iloc[:, :-4]\n",
    "y_train = label_3_train.iloc[:, -2:]\n",
    "X_val = label_3_valid.iloc[:, :-4]\n",
    "y_val = label_3_valid.iloc[:, -2:]\n",
    "X_test = label_3_test.iloc[:, 1:]"
   ]
  },
  {
   "cell_type": "code",
   "execution_count": null,
   "id": "544163a3",
   "metadata": {
    "execution": {
     "iopub.status.busy": "2023-09-23T10:43:39.224400Z",
     "iopub.status.idle": "2023-09-23T10:43:39.225404Z",
     "shell.execute_reply": "2023-09-23T10:43:39.225190Z",
     "shell.execute_reply.started": "2023-09-23T10:43:39.225167Z"
    },
    "papermill": {
     "duration": null,
     "end_time": null,
     "exception": null,
     "start_time": null,
     "status": "pending"
    },
    "tags": []
   },
   "outputs": [],
   "source": [
    "plt.figure(figsize=(18, 6))\n",
    "sn.histplot(data=y_train, x='label_3', bins=20, kde=False)"
   ]
  },
  {
   "cell_type": "code",
   "execution_count": null,
   "id": "2162317e",
   "metadata": {
    "execution": {
     "iopub.status.busy": "2023-09-23T10:43:39.226890Z",
     "iopub.status.idle": "2023-09-23T10:43:39.227338Z",
     "shell.execute_reply": "2023-09-23T10:43:39.227131Z",
     "shell.execute_reply.started": "2023-09-23T10:43:39.227110Z"
    },
    "id": "ghG5Y5zC8ayf",
    "papermill": {
     "duration": null,
     "end_time": null,
     "exception": null,
     "start_time": null,
     "status": "pending"
    },
    "tags": []
   },
   "outputs": [],
   "source": [
    "ros = RandomOverSampler(random_state=0, sampling_strategy=0.75)\n",
    "X_train_resampled, y_train_resampled = ros.fit_resample(X_train, y_train['label_3'])"
   ]
  },
  {
   "cell_type": "code",
   "execution_count": null,
   "id": "25f623d7",
   "metadata": {
    "execution": {
     "iopub.status.busy": "2023-09-23T10:43:39.229367Z",
     "iopub.status.idle": "2023-09-23T10:43:39.229903Z",
     "shell.execute_reply": "2023-09-23T10:43:39.229657Z",
     "shell.execute_reply.started": "2023-09-23T10:43:39.229634Z"
    },
    "id": "CQHKH9HS9EqV",
    "outputId": "54788c7b-9da0-4f49-bce9-ef7824235968",
    "papermill": {
     "duration": null,
     "end_time": null,
     "exception": null,
     "start_time": null,
     "status": "pending"
    },
    "tags": []
   },
   "outputs": [],
   "source": [
    "y_train_resampled"
   ]
  },
  {
   "cell_type": "code",
   "execution_count": null,
   "id": "e29367a7",
   "metadata": {
    "execution": {
     "iopub.status.busy": "2023-09-23T10:43:39.231709Z",
     "iopub.status.idle": "2023-09-23T10:43:39.232180Z",
     "shell.execute_reply": "2023-09-23T10:43:39.231972Z",
     "shell.execute_reply.started": "2023-09-23T10:43:39.231951Z"
    },
    "id": "pF0BFRqG6qje",
    "outputId": "786a6fc8-680f-4772-9e6e-69be06652924",
    "papermill": {
     "duration": null,
     "end_time": null,
     "exception": null,
     "start_time": null,
     "status": "pending"
    },
    "tags": []
   },
   "outputs": [],
   "source": [
    "ax = sn.countplot(x=y_train['label_3'])\n",
    "\n",
    "for p in ax.patches:\n",
    "    ax.annotate(f'{p.get_height()}', (p.get_x() + p.get_width() / 2., p.get_height()),\n",
    "                ha='center', va='bottom', fontsize=9, color='black')"
   ]
  },
  {
   "cell_type": "code",
   "execution_count": null,
   "id": "85906a9a",
   "metadata": {
    "execution": {
     "iopub.status.busy": "2023-09-23T10:43:39.234186Z",
     "iopub.status.idle": "2023-09-23T10:43:39.234645Z",
     "shell.execute_reply": "2023-09-23T10:43:39.234435Z",
     "shell.execute_reply.started": "2023-09-23T10:43:39.234414Z"
    },
    "id": "Y1PVSyc86vlE",
    "outputId": "e0d0077b-cbba-4cd4-a0dd-fc4fe928fda6",
    "papermill": {
     "duration": null,
     "end_time": null,
     "exception": null,
     "start_time": null,
     "status": "pending"
    },
    "tags": []
   },
   "outputs": [],
   "source": [
    "# accuracy with all the features\n",
    "#svm\n",
    "start_time = time.time()\n",
    "accuracy = svm_classifier(X_train_resampled, y_train_resampled, X_val, y_val['label_3'] )\n",
    "elapsed_time = time.time() - start_time\n",
    "print(f\"Accuracy: {accuracy * 100:.2f}% in {elapsed_time} secs\")"
   ]
  },
  {
   "cell_type": "code",
   "execution_count": null,
   "id": "6831fb6f",
   "metadata": {
    "execution": {
     "iopub.status.busy": "2023-09-23T10:43:39.236330Z",
     "iopub.status.idle": "2023-09-23T10:43:39.237407Z",
     "shell.execute_reply": "2023-09-23T10:43:39.237183Z",
     "shell.execute_reply.started": "2023-09-23T10:43:39.237161Z"
    },
    "id": "J7kg_NhO7AHg",
    "outputId": "291ba539-4614-46e7-f62d-07cd23926c4b",
    "papermill": {
     "duration": null,
     "end_time": null,
     "exception": null,
     "start_time": null,
     "status": "pending"
    },
    "tags": []
   },
   "outputs": [],
   "source": [
    "# accuracy with all the features\n",
    "#knn\n",
    "start_time = time.time()\n",
    "accuracy = knn_classifier(X_train_resampled, y_train_resampled, X_val, y_val['label_3'] )\n",
    "elapsed_time = time.time() - start_time\n",
    "print(f\"Accuracy: {accuracy * 100:.2f}% in {elapsed_time} secs\")"
   ]
  },
  {
   "cell_type": "code",
   "execution_count": null,
   "id": "5aa51a48",
   "metadata": {
    "execution": {
     "iopub.status.busy": "2023-09-23T10:43:39.238772Z",
     "iopub.status.idle": "2023-09-23T10:43:39.239789Z",
     "shell.execute_reply": "2023-09-23T10:43:39.239540Z",
     "shell.execute_reply.started": "2023-09-23T10:43:39.239499Z"
    },
    "id": "R3DzhmGK7JBp",
    "outputId": "2d9137e8-9119-44e7-8bab-c7caa11ed50a",
    "papermill": {
     "duration": null,
     "end_time": null,
     "exception": null,
     "start_time": null,
     "status": "pending"
    },
    "tags": []
   },
   "outputs": [],
   "source": [
    "# accuracy with all the features\n",
    "#logistic_regression_classifier\n",
    "start_time = time.time()\n",
    "accuracy = logistic_regression_classifier(X_train_resampled, y_train_resampled, X_val, y_val['label_3'] )\n",
    "elapsed_time = time.time() - start_time\n",
    "print(f\"Accuracy: {accuracy * 100:.2f}% in {elapsed_time} secs\")"
   ]
  },
  {
   "cell_type": "code",
   "execution_count": null,
   "id": "3ca10b21",
   "metadata": {
    "execution": {
     "iopub.status.busy": "2023-09-23T10:43:39.241316Z",
     "iopub.status.idle": "2023-09-23T10:43:39.241863Z",
     "shell.execute_reply": "2023-09-23T10:43:39.241604Z",
     "shell.execute_reply.started": "2023-09-23T10:43:39.241580Z"
    },
    "id": "wE5YmrCrP-fm",
    "papermill": {
     "duration": null,
     "end_time": null,
     "exception": null,
     "start_time": null,
     "status": "pending"
    },
    "tags": []
   },
   "outputs": [],
   "source": [
    "label_3_pred_before = svm.predict(np.array(X_test))"
   ]
  },
  {
   "cell_type": "code",
   "execution_count": null,
   "id": "19efbba0",
   "metadata": {
    "execution": {
     "iopub.status.busy": "2023-09-23T10:43:39.243974Z",
     "iopub.status.idle": "2023-09-23T10:43:39.244416Z",
     "shell.execute_reply": "2023-09-23T10:43:39.244210Z",
     "shell.execute_reply.started": "2023-09-23T10:43:39.244189Z"
    },
    "id": "G9Bk29R57N8k",
    "outputId": "97fd7bb6-bc0c-431a-f7d3-6c9f46901535",
    "papermill": {
     "duration": null,
     "end_time": null,
     "exception": null,
     "start_time": null,
     "status": "pending"
    },
    "tags": []
   },
   "outputs": [],
   "source": [
    "weekly_related_features = id_weekly_correlated_features_with_label(label_3_train, 'label_3',0.03)\n",
    "print(f\"dropping features count {len(set(weekly_related_features))}\")"
   ]
  },
  {
   "cell_type": "code",
   "execution_count": null,
   "id": "85f02ddf",
   "metadata": {
    "execution": {
     "iopub.status.busy": "2023-09-23T10:43:39.246354Z",
     "iopub.status.idle": "2023-09-23T10:43:39.246866Z",
     "shell.execute_reply": "2023-09-23T10:43:39.246631Z",
     "shell.execute_reply.started": "2023-09-23T10:43:39.246609Z"
    },
    "id": "5MF60qWp7G5F",
    "outputId": "5bf29894-d93d-432a-9aaf-f8a5e053dc56",
    "papermill": {
     "duration": null,
     "end_time": null,
     "exception": null,
     "start_time": null,
     "status": "pending"
    },
    "tags": []
   },
   "outputs": [],
   "source": [
    "X_train_filtered = X_train_resampled.drop(columns=list(weekly_related_features))\n",
    "X_val_filtered = X_val.drop(columns=list(weekly_related_features))\n",
    "X_test_filtered = X_test.drop(columns=list(weekly_related_features))\n",
    "start_time = time.time()\n",
    "accuracy = svm_classifier(X_train_filtered, y_train_resampled, X_val_filtered, y_val['label_3'] )\n",
    "elapsed_time = time.time() - start_time\n",
    "print(f\"Accuracy: {accuracy * 100:.2f}% in {elapsed_time} secs\")"
   ]
  },
  {
   "cell_type": "code",
   "execution_count": null,
   "id": "0171c5ea",
   "metadata": {
    "execution": {
     "iopub.status.busy": "2023-09-23T10:43:39.248888Z",
     "iopub.status.idle": "2023-09-23T10:43:39.249415Z",
     "shell.execute_reply": "2023-09-23T10:43:39.249175Z",
     "shell.execute_reply.started": "2023-09-23T10:43:39.249150Z"
    },
    "id": "xli-qzci7Ltu",
    "outputId": "ac5b0cae-fc37-4413-fb67-1f58da095d77",
    "papermill": {
     "duration": null,
     "end_time": null,
     "exception": null,
     "start_time": null,
     "status": "pending"
    },
    "tags": []
   },
   "outputs": [],
   "source": [
    "highly_related_features = id_highly_correlated_features(X_train_filtered, 0.5)\n",
    "print(f\"dropping features count {len(set(highly_related_features))}\")"
   ]
  },
  {
   "cell_type": "code",
   "execution_count": null,
   "id": "3a696f44",
   "metadata": {
    "execution": {
     "iopub.status.busy": "2023-09-23T10:43:39.250954Z",
     "iopub.status.idle": "2023-09-23T10:43:39.251904Z",
     "shell.execute_reply": "2023-09-23T10:43:39.251654Z",
     "shell.execute_reply.started": "2023-09-23T10:43:39.251626Z"
    },
    "id": "oGv-i6ny-n0S",
    "outputId": "c05abb1c-4615-4da1-ebd0-d539600b6df6",
    "papermill": {
     "duration": null,
     "end_time": null,
     "exception": null,
     "start_time": null,
     "status": "pending"
    },
    "tags": []
   },
   "outputs": [],
   "source": [
    "X_train_filtered = X_train_filtered.drop(columns=list(highly_related_features))\n",
    "X_val_filtered = X_val_filtered.drop(columns=list(highly_related_features))\n",
    "X_test_filtered = X_test_filtered.drop(columns=list(highly_related_features))\n",
    "start_time = time.time()\n",
    "accuracy = svm_classifier(X_train_filtered, y_train_resampled, X_val_filtered, y_val['label_3'] )\n",
    "elapsed_time = time.time() - start_time\n",
    "print(f\"Accuracy: {accuracy * 100:.2f}% in {elapsed_time} secs\")"
   ]
  },
  {
   "cell_type": "code",
   "execution_count": null,
   "id": "76df33dc",
   "metadata": {
    "execution": {
     "iopub.status.busy": "2023-09-23T10:43:39.253463Z",
     "iopub.status.idle": "2023-09-23T10:43:39.253946Z",
     "shell.execute_reply": "2023-09-23T10:43:39.253730Z",
     "shell.execute_reply.started": "2023-09-23T10:43:39.253707Z"
    },
    "id": "pW3LeEPs7XoQ",
    "papermill": {
     "duration": null,
     "end_time": null,
     "exception": null,
     "start_time": null,
     "status": "pending"
    },
    "tags": []
   },
   "outputs": [],
   "source": [
    "scaler = StandardScaler()\n",
    "X_train_scaled = scaler.fit_transform(X_train_filtered)\n",
    "X_val_scaled = scaler.transform(X_val_filtered)\n",
    "X_test_scaled = scaler.transform(X_test_filtered)"
   ]
  },
  {
   "cell_type": "code",
   "execution_count": null,
   "id": "60cb10f7",
   "metadata": {
    "execution": {
     "iopub.status.busy": "2023-09-23T10:43:39.255829Z",
     "iopub.status.idle": "2023-09-23T10:43:39.256279Z",
     "shell.execute_reply": "2023-09-23T10:43:39.256072Z",
     "shell.execute_reply.started": "2023-09-23T10:43:39.256050Z"
    },
    "id": "oUIiyBMr-ZuZ",
    "outputId": "d66e6ee4-539b-4c6c-fc47-4d9f06157368",
    "papermill": {
     "duration": null,
     "end_time": null,
     "exception": null,
     "start_time": null,
     "status": "pending"
    },
    "tags": []
   },
   "outputs": [],
   "source": [
    "X_train_scaled.shape"
   ]
  },
  {
   "cell_type": "code",
   "execution_count": null,
   "id": "cd0fe758",
   "metadata": {
    "execution": {
     "iopub.status.busy": "2023-09-23T10:43:39.257762Z",
     "iopub.status.idle": "2023-09-23T10:43:39.258718Z",
     "shell.execute_reply": "2023-09-23T10:43:39.258460Z",
     "shell.execute_reply.started": "2023-09-23T10:43:39.258406Z"
    },
    "papermill": {
     "duration": null,
     "end_time": null,
     "exception": null,
     "start_time": null,
     "status": "pending"
    },
    "tags": []
   },
   "outputs": [],
   "source": [
    "start_time = time.time()\n",
    "accuracy = svm_classifier(X_train_scaled, y_train_resampled, X_val_scaled, y_val['label_3'] )\n",
    "elapsed_time = time.time() - start_time\n",
    "print(f\"Accuracy: {accuracy * 100:.2f}% in {elapsed_time} secs\")"
   ]
  },
  {
   "cell_type": "code",
   "execution_count": null,
   "id": "cb1f66bb",
   "metadata": {
    "execution": {
     "iopub.status.busy": "2023-09-23T10:43:39.260296Z",
     "iopub.status.idle": "2023-09-23T10:43:39.260798Z",
     "shell.execute_reply": "2023-09-23T10:43:39.260558Z",
     "shell.execute_reply.started": "2023-09-23T10:43:39.260535Z"
    },
    "papermill": {
     "duration": null,
     "end_time": null,
     "exception": null,
     "start_time": null,
     "status": "pending"
    },
    "tags": []
   },
   "outputs": [],
   "source": [
    "pca = PCA(n_components=0.95, svd_solver = 'full')\n",
    "X_train_pca = pca.fit_transform(X_train_scaled)\n",
    "X_val_pca = pca.transform(X_val_scaled)\n",
    "X_test_pca = pca.transform(X_test_scaled)"
   ]
  },
  {
   "cell_type": "code",
   "execution_count": null,
   "id": "7604982d",
   "metadata": {
    "execution": {
     "iopub.status.busy": "2023-09-23T10:43:39.262751Z",
     "iopub.status.idle": "2023-09-23T10:43:39.263217Z",
     "shell.execute_reply": "2023-09-23T10:43:39.263013Z",
     "shell.execute_reply.started": "2023-09-23T10:43:39.262991Z"
    },
    "papermill": {
     "duration": null,
     "end_time": null,
     "exception": null,
     "start_time": null,
     "status": "pending"
    },
    "tags": []
   },
   "outputs": [],
   "source": [
    "start_time = time.time()\n",
    "accuracy = svm_classifier(X_train_pca, y_train_resampled, X_val_pca, y_val['label_3'] )\n",
    "elapsed_time = time.time() - start_time\n",
    "print(f\"Accuracy: {accuracy * 100:.2f}% in {elapsed_time} secs\")"
   ]
  },
  {
   "cell_type": "code",
   "execution_count": null,
   "id": "7d147e37",
   "metadata": {
    "execution": {
     "iopub.status.busy": "2023-09-23T10:43:39.265044Z",
     "iopub.status.idle": "2023-09-23T10:43:39.265501Z",
     "shell.execute_reply": "2023-09-23T10:43:39.265283Z",
     "shell.execute_reply.started": "2023-09-23T10:43:39.265262Z"
    },
    "papermill": {
     "duration": null,
     "end_time": null,
     "exception": null,
     "start_time": null,
     "status": "pending"
    },
    "tags": []
   },
   "outputs": [],
   "source": [
    "cross_val_score(SVC(), X_train_pca, y_train['label_3'], cv=5).mean()"
   ]
  },
  {
   "cell_type": "code",
   "execution_count": null,
   "id": "2eeb1044",
   "metadata": {
    "execution": {
     "iopub.status.busy": "2023-09-23T10:43:39.267383Z",
     "iopub.status.idle": "2023-09-23T10:43:39.267887Z",
     "shell.execute_reply": "2023-09-23T10:43:39.267647Z",
     "shell.execute_reply.started": "2023-09-23T10:43:39.267624Z"
    },
    "id": "GHOnq9B4QHvN",
    "papermill": {
     "duration": null,
     "end_time": null,
     "exception": null,
     "start_time": null,
     "status": "pending"
    },
    "tags": []
   },
   "outputs": [],
   "source": [
    "best_model_label_3 = SVC()\n",
    "label_3_pred_after = best_model_label_3.fit(X_train_pca, y_train['label_3']).predict(np.array(X_test_pca))"
   ]
  },
  {
   "cell_type": "markdown",
   "id": "5191b513",
   "metadata": {
    "id": "AU2JK0lf-fwO",
    "papermill": {
     "duration": null,
     "end_time": null,
     "exception": null,
     "start_time": null,
     "status": "pending"
    },
    "tags": []
   },
   "source": [
    "Label 4"
   ]
  },
  {
   "cell_type": "code",
   "execution_count": null,
   "id": "a2d059cc",
   "metadata": {
    "execution": {
     "iopub.status.busy": "2023-09-23T10:43:39.270026Z",
     "iopub.status.idle": "2023-09-23T10:43:39.270505Z",
     "shell.execute_reply": "2023-09-23T10:43:39.270278Z",
     "shell.execute_reply.started": "2023-09-23T10:43:39.270257Z"
    },
    "id": "-8xrCT6xFEaw",
    "papermill": {
     "duration": null,
     "end_time": null,
     "exception": null,
     "start_time": null,
     "status": "pending"
    },
    "tags": []
   },
   "outputs": [],
   "source": [
    "label_4_train = train.copy()\n",
    "label_4_valid = valid.copy()\n",
    "label_4_test = test.copy()"
   ]
  },
  {
   "cell_type": "code",
   "execution_count": null,
   "id": "656b401c",
   "metadata": {
    "execution": {
     "iopub.status.busy": "2023-09-23T10:43:39.272461Z",
     "iopub.status.idle": "2023-09-23T10:43:39.272926Z",
     "shell.execute_reply": "2023-09-23T10:43:39.272716Z",
     "shell.execute_reply.started": "2023-09-23T10:43:39.272693Z"
    },
    "id": "bvb63pxuDGeq",
    "papermill": {
     "duration": null,
     "end_time": null,
     "exception": null,
     "start_time": null,
     "status": "pending"
    },
    "tags": []
   },
   "outputs": [],
   "source": [
    "label_4_train = label_4_train.dropna(subset=['label_4'])\n",
    "label_4_valid = label_4_valid.dropna(subset=['label_4'])"
   ]
  },
  {
   "cell_type": "code",
   "execution_count": null,
   "id": "0d53d9cc",
   "metadata": {
    "execution": {
     "iopub.status.busy": "2023-09-23T10:43:39.274878Z",
     "iopub.status.idle": "2023-09-23T10:43:39.275347Z",
     "shell.execute_reply": "2023-09-23T10:43:39.275133Z",
     "shell.execute_reply.started": "2023-09-23T10:43:39.275111Z"
    },
    "id": "xp0L9mysEqYd",
    "papermill": {
     "duration": null,
     "end_time": null,
     "exception": null,
     "start_time": null,
     "status": "pending"
    },
    "tags": []
   },
   "outputs": [],
   "source": [
    "X_train = label_4_train.iloc[:, :-4]\n",
    "y_train = label_4_train.iloc[:, -1:]\n",
    "X_val = label_4_valid.iloc[:, :-4]\n",
    "y_val = label_4_valid.iloc[:, -1:]\n",
    "X_test = label_4_test.iloc[:, 1:]"
   ]
  },
  {
   "cell_type": "code",
   "execution_count": null,
   "id": "aff0e187",
   "metadata": {
    "execution": {
     "iopub.status.busy": "2023-09-23T10:43:39.277367Z",
     "iopub.status.idle": "2023-09-23T10:43:39.277872Z",
     "shell.execute_reply": "2023-09-23T10:43:39.277614Z",
     "shell.execute_reply.started": "2023-09-23T10:43:39.277593Z"
    },
    "papermill": {
     "duration": null,
     "end_time": null,
     "exception": null,
     "start_time": null,
     "status": "pending"
    },
    "tags": []
   },
   "outputs": [],
   "source": [
    "plt.figure(figsize=(18, 6))\n",
    "sn.histplot(data=y_train, x='label_4', bins=20, kde=False)"
   ]
  },
  {
   "cell_type": "code",
   "execution_count": null,
   "id": "75df638f",
   "metadata": {
    "execution": {
     "iopub.status.busy": "2023-09-23T10:43:39.279929Z",
     "iopub.status.idle": "2023-09-23T10:43:39.280372Z",
     "shell.execute_reply": "2023-09-23T10:43:39.280164Z",
     "shell.execute_reply.started": "2023-09-23T10:43:39.280143Z"
    },
    "id": "Y6rfOPwG-gvs",
    "outputId": "7ffd7930-ccf4-49f7-db22-cebc61e35b09",
    "papermill": {
     "duration": null,
     "end_time": null,
     "exception": null,
     "start_time": null,
     "status": "pending"
    },
    "tags": []
   },
   "outputs": [],
   "source": [
    "plt.figure(figsize=(18, 6))\n",
    "ax = sn.countplot(x=y_train['label_4'], color='teal')\n",
    "\n",
    "for p in ax.patches:\n",
    "    ax.annotate(f'{p.get_height()}', (p.get_x() + p.get_width() / 2., p.get_height()),\n",
    "                ha='center', va='bottom', fontsize=9, color='black')"
   ]
  },
  {
   "cell_type": "code",
   "execution_count": null,
   "id": "eee916aa",
   "metadata": {
    "execution": {
     "iopub.status.busy": "2023-09-23T10:43:39.282290Z",
     "iopub.status.idle": "2023-09-23T10:43:39.282829Z",
     "shell.execute_reply": "2023-09-23T10:43:39.282570Z",
     "shell.execute_reply.started": "2023-09-23T10:43:39.282548Z"
    },
    "id": "G2TrwK0GDitH",
    "outputId": "aea44507-39fb-4bea-f345-450e7c22ac98",
    "papermill": {
     "duration": null,
     "end_time": null,
     "exception": null,
     "start_time": null,
     "status": "pending"
    },
    "tags": []
   },
   "outputs": [],
   "source": [
    "# accuracy with all the features\n",
    "#knn\n",
    "start_time = time.time()\n",
    "accuracy = knn_classifier(X_train, y_train, X_val, y_val['label_4'] )\n",
    "elapsed_time = time.time() - start_time\n",
    "print(f\"Accuracy: {accuracy * 100:.2f}% in {elapsed_time} secs\")"
   ]
  },
  {
   "cell_type": "code",
   "execution_count": null,
   "id": "688db6d4",
   "metadata": {
    "execution": {
     "iopub.status.busy": "2023-09-23T10:43:39.284781Z",
     "iopub.status.idle": "2023-09-23T10:43:39.285229Z",
     "shell.execute_reply": "2023-09-23T10:43:39.285021Z",
     "shell.execute_reply.started": "2023-09-23T10:43:39.285000Z"
    },
    "id": "Rr3klYleK6Ky",
    "papermill": {
     "duration": null,
     "end_time": null,
     "exception": null,
     "start_time": null,
     "status": "pending"
    },
    "tags": []
   },
   "outputs": [],
   "source": [
    "label_4_pred_before = knn.predict(np.array(X_test))"
   ]
  },
  {
   "cell_type": "code",
   "execution_count": null,
   "id": "eb045f73",
   "metadata": {
    "execution": {
     "iopub.status.busy": "2023-09-23T10:43:39.287271Z",
     "iopub.status.idle": "2023-09-23T10:43:39.287749Z",
     "shell.execute_reply": "2023-09-23T10:43:39.287519Z",
     "shell.execute_reply.started": "2023-09-23T10:43:39.287497Z"
    },
    "id": "7dYz2RLdAFu4",
    "papermill": {
     "duration": null,
     "end_time": null,
     "exception": null,
     "start_time": null,
     "status": "pending"
    },
    "tags": []
   },
   "outputs": [],
   "source": [
    "ros = RandomOverSampler(random_state=0)\n",
    "X_train_resampled, y_train_resampled = ros.fit_resample(X_train, y_train['label_4'])"
   ]
  },
  {
   "cell_type": "code",
   "execution_count": null,
   "id": "4d375d23",
   "metadata": {
    "execution": {
     "iopub.status.busy": "2023-09-23T10:43:39.289449Z",
     "iopub.status.idle": "2023-09-23T10:43:39.290259Z",
     "shell.execute_reply": "2023-09-23T10:43:39.290017Z",
     "shell.execute_reply.started": "2023-09-23T10:43:39.289995Z"
    },
    "id": "B73zGXtvAY90",
    "outputId": "6a5f9d61-bc87-48a0-b2be-18170a4bf6f1",
    "papermill": {
     "duration": null,
     "end_time": null,
     "exception": null,
     "start_time": null,
     "status": "pending"
    },
    "tags": []
   },
   "outputs": [],
   "source": [
    "plt.figure(figsize=(18, 6))\n",
    "ax = sn.countplot(x=y_train_resampled, color='teal')\n",
    "\n",
    "for p in ax.patches:\n",
    "    ax.annotate(f'{p.get_height()}', (p.get_x() + p.get_width() / 2., p.get_height()),\n",
    "                ha='center', va='bottom', fontsize=9, color='black')"
   ]
  },
  {
   "cell_type": "code",
   "execution_count": null,
   "id": "d9b61f7b",
   "metadata": {
    "execution": {
     "iopub.status.busy": "2023-09-23T10:43:39.291747Z",
     "iopub.status.idle": "2023-09-23T10:43:39.292568Z",
     "shell.execute_reply": "2023-09-23T10:43:39.292326Z",
     "shell.execute_reply.started": "2023-09-23T10:43:39.292302Z"
    },
    "id": "lzWRDpBUAaT9",
    "papermill": {
     "duration": null,
     "end_time": null,
     "exception": null,
     "start_time": null,
     "status": "pending"
    },
    "tags": []
   },
   "outputs": [],
   "source": [
    "# accuracy with all the features\n",
    "#svm\n",
    "start_time = time.time()\n",
    "accuracy = svm_classifier(X_train_resampled, y_train_resampled, X_val, y_val['label_4'] )\n",
    "elapsed_time = time.time() - start_time\n",
    "print(f\"Accuracy: {accuracy * 100:.2f}% in {elapsed_time} secs\")"
   ]
  },
  {
   "cell_type": "code",
   "execution_count": null,
   "id": "c6738376",
   "metadata": {
    "execution": {
     "iopub.status.busy": "2023-09-23T10:43:39.294019Z",
     "iopub.status.idle": "2023-09-23T10:43:39.294879Z",
     "shell.execute_reply": "2023-09-23T10:43:39.294591Z",
     "shell.execute_reply.started": "2023-09-23T10:43:39.294567Z"
    },
    "id": "IhXrcfyDAncr",
    "outputId": "aa1cb504-1b50-433b-e970-5de2c3b3651c",
    "papermill": {
     "duration": null,
     "end_time": null,
     "exception": null,
     "start_time": null,
     "status": "pending"
    },
    "tags": []
   },
   "outputs": [],
   "source": [
    "# accuracy with all the features\n",
    "#knn\n",
    "start_time = time.time()\n",
    "accuracy = knn_classifier(X_train_resampled, y_train_resampled, X_val, y_val['label_4'] )\n",
    "elapsed_time = time.time() - start_time\n",
    "print(f\"Accuracy: {accuracy * 100:.2f}% in {elapsed_time} secs\")"
   ]
  },
  {
   "cell_type": "code",
   "execution_count": null,
   "id": "09b05bab",
   "metadata": {
    "execution": {
     "iopub.status.busy": "2023-09-23T10:43:39.296315Z",
     "iopub.status.idle": "2023-09-23T10:43:39.297154Z",
     "shell.execute_reply": "2023-09-23T10:43:39.296905Z",
     "shell.execute_reply.started": "2023-09-23T10:43:39.296881Z"
    },
    "id": "_0fXjozNGXKW",
    "papermill": {
     "duration": null,
     "end_time": null,
     "exception": null,
     "start_time": null,
     "status": "pending"
    },
    "tags": []
   },
   "outputs": [],
   "source": [
    "# accuracy with all the features\n",
    "#logistic_regression_classifier\n",
    "start_time = time.time()\n",
    "accuracy = logistic_regression_classifier(X_train_resampled, y_train_resampled, X_val, y_val['label_4'] )\n",
    "elapsed_time = time.time() - start_time\n",
    "print(f\"Accuracy: {accuracy * 100:.2f}% in {elapsed_time} secs\")"
   ]
  },
  {
   "cell_type": "code",
   "execution_count": null,
   "id": "48705ebb",
   "metadata": {
    "execution": {
     "iopub.status.busy": "2023-09-23T10:43:39.298723Z",
     "iopub.status.idle": "2023-09-23T10:43:39.299590Z",
     "shell.execute_reply": "2023-09-23T10:43:39.299328Z",
     "shell.execute_reply.started": "2023-09-23T10:43:39.299302Z"
    },
    "papermill": {
     "duration": null,
     "end_time": null,
     "exception": null,
     "start_time": null,
     "status": "pending"
    },
    "tags": []
   },
   "outputs": [],
   "source": [
    "label_4_pred_before = svm.predict(np.array(X_test))"
   ]
  },
  {
   "cell_type": "code",
   "execution_count": null,
   "id": "aa0228f2",
   "metadata": {
    "execution": {
     "iopub.status.busy": "2023-09-23T10:43:39.301067Z",
     "iopub.status.idle": "2023-09-23T10:43:39.302004Z",
     "shell.execute_reply": "2023-09-23T10:43:39.301741Z",
     "shell.execute_reply.started": "2023-09-23T10:43:39.301715Z"
    },
    "id": "08dwkFcGAsUx",
    "outputId": "5c079e12-4a60-4aa3-9931-a57a47d1f4a6",
    "papermill": {
     "duration": null,
     "end_time": null,
     "exception": null,
     "start_time": null,
     "status": "pending"
    },
    "tags": []
   },
   "outputs": [],
   "source": [
    "weekly_related_features = id_weekly_correlated_features_with_label(label_4_train, 'label_4', 0.01)\n",
    "print(f\"dropping features count {len(set(weekly_related_features))}\")"
   ]
  },
  {
   "cell_type": "code",
   "execution_count": null,
   "id": "6639db58",
   "metadata": {
    "execution": {
     "iopub.status.busy": "2023-09-23T10:43:39.303699Z",
     "iopub.status.idle": "2023-09-23T10:43:39.304516Z",
     "shell.execute_reply": "2023-09-23T10:43:39.304272Z",
     "shell.execute_reply.started": "2023-09-23T10:43:39.304248Z"
    },
    "id": "4iwcsxHMDwHW",
    "outputId": "31ea67cd-d922-451a-f301-00b8fb54efec",
    "papermill": {
     "duration": null,
     "end_time": null,
     "exception": null,
     "start_time": null,
     "status": "pending"
    },
    "tags": []
   },
   "outputs": [],
   "source": [
    "X_train_filtered = X_train_resampled.drop(columns=list(weekly_related_features))\n",
    "X_val_filtered = X_val.drop(columns=list(weekly_related_features))\n",
    "X_test_filtered = X_test.drop(columns=list(weekly_related_features))\n",
    "start_time = time.time()\n",
    "accuracy = svm_classifier(X_train_filtered, y_train_resampled, X_val_filtered, y_val['label_4'] )\n",
    "elapsed_time = time.time() - start_time\n",
    "print(f\"Accuracy: {accuracy * 100:.2f}% in {elapsed_time} secs\")"
   ]
  },
  {
   "cell_type": "code",
   "execution_count": null,
   "id": "3d9f3fa0",
   "metadata": {
    "execution": {
     "iopub.status.busy": "2023-09-23T10:43:39.305964Z",
     "iopub.status.idle": "2023-09-23T10:43:39.306797Z",
     "shell.execute_reply": "2023-09-23T10:43:39.306549Z",
     "shell.execute_reply.started": "2023-09-23T10:43:39.306524Z"
    },
    "id": "65SbV-arD4Ak",
    "outputId": "3da8d149-cf21-4db5-e12d-1365b439daea",
    "papermill": {
     "duration": null,
     "end_time": null,
     "exception": null,
     "start_time": null,
     "status": "pending"
    },
    "tags": []
   },
   "outputs": [],
   "source": [
    "highly_related_features = id_highly_correlated_features(X_train_filtered, 0.5)\n",
    "print(f\"dropping features count {len(set(highly_related_features))}\")"
   ]
  },
  {
   "cell_type": "code",
   "execution_count": null,
   "id": "0df191cf",
   "metadata": {
    "execution": {
     "iopub.status.busy": "2023-09-23T10:43:39.308230Z",
     "iopub.status.idle": "2023-09-23T10:43:39.309115Z",
     "shell.execute_reply": "2023-09-23T10:43:39.308866Z",
     "shell.execute_reply.started": "2023-09-23T10:43:39.308841Z"
    },
    "id": "kEcQDu15D5fQ",
    "outputId": "89a4f9d7-c26f-49b8-de28-01a4ddaa6a2f",
    "papermill": {
     "duration": null,
     "end_time": null,
     "exception": null,
     "start_time": null,
     "status": "pending"
    },
    "tags": []
   },
   "outputs": [],
   "source": [
    "X_train_filtered = X_train_filtered.drop(columns=list(highly_related_features))\n",
    "X_val_filtered = X_val_filtered.drop(columns=list(highly_related_features))\n",
    "X_test_filtered = X_test_filtered.drop(columns=list(highly_related_features))\n",
    "start_time = time.time()\n",
    "accuracy = svm_classifier(X_train_filtered, y_train_resampled, X_val_filtered, y_val['label_4'] )\n",
    "elapsed_time = time.time() - start_time\n",
    "print(f\"Accuracy: {accuracy * 100:.2f}% in {elapsed_time} secs\")"
   ]
  },
  {
   "cell_type": "code",
   "execution_count": null,
   "id": "155a55d6",
   "metadata": {
    "execution": {
     "iopub.status.busy": "2023-09-23T10:43:39.310530Z",
     "iopub.status.idle": "2023-09-23T10:43:39.311341Z",
     "shell.execute_reply": "2023-09-23T10:43:39.311114Z",
     "shell.execute_reply.started": "2023-09-23T10:43:39.311090Z"
    },
    "id": "vw6whcTtA-7q",
    "papermill": {
     "duration": null,
     "end_time": null,
     "exception": null,
     "start_time": null,
     "status": "pending"
    },
    "tags": []
   },
   "outputs": [],
   "source": [
    "scaler = StandardScaler()\n",
    "X_train_scaled = scaler.fit_transform(X_train_filtered)\n",
    "X_val_scaled = scaler.transform(X_val_filtered)\n",
    "X_test_scaled = scaler.transform(X_test_filtered)"
   ]
  },
  {
   "cell_type": "code",
   "execution_count": null,
   "id": "d3ebd77c",
   "metadata": {
    "execution": {
     "iopub.status.busy": "2023-09-23T10:43:39.312798Z",
     "iopub.status.idle": "2023-09-23T10:43:39.313907Z",
     "shell.execute_reply": "2023-09-23T10:43:39.313642Z",
     "shell.execute_reply.started": "2023-09-23T10:43:39.313614Z"
    },
    "id": "iapkHmlyA_Wz",
    "outputId": "182f4aae-d809-4165-f861-6cecda7a5b1e",
    "papermill": {
     "duration": null,
     "end_time": null,
     "exception": null,
     "start_time": null,
     "status": "pending"
    },
    "tags": []
   },
   "outputs": [],
   "source": [
    "X_train_scaled.shape"
   ]
  },
  {
   "cell_type": "code",
   "execution_count": null,
   "id": "0370c84d",
   "metadata": {
    "execution": {
     "iopub.status.busy": "2023-09-23T10:43:39.315314Z",
     "iopub.status.idle": "2023-09-23T10:43:39.316260Z",
     "shell.execute_reply": "2023-09-23T10:43:39.315996Z",
     "shell.execute_reply.started": "2023-09-23T10:43:39.315959Z"
    },
    "papermill": {
     "duration": null,
     "end_time": null,
     "exception": null,
     "start_time": null,
     "status": "pending"
    },
    "tags": []
   },
   "outputs": [],
   "source": [
    "start_time = time.time()\n",
    "accuracy = svm_classifier(X_train_filtered, y_train_resampled, X_val_filtered, y_val['label_4'] )\n",
    "elapsed_time = time.time() - start_time\n",
    "print(f\"Accuracy: {accuracy * 100:.2f}% in {elapsed_time} secs\")"
   ]
  },
  {
   "cell_type": "code",
   "execution_count": null,
   "id": "98d78ff9",
   "metadata": {
    "execution": {
     "iopub.status.busy": "2023-09-23T10:43:39.317653Z",
     "iopub.status.idle": "2023-09-23T10:43:39.318469Z",
     "shell.execute_reply": "2023-09-23T10:43:39.318212Z",
     "shell.execute_reply.started": "2023-09-23T10:43:39.318187Z"
    },
    "id": "G7zj0IHBBC5B",
    "papermill": {
     "duration": null,
     "end_time": null,
     "exception": null,
     "start_time": null,
     "status": "pending"
    },
    "tags": []
   },
   "outputs": [],
   "source": [
    "pca = PCA(n_components=0.95, svd_solver = 'full')\n",
    "X_train_pca = pca.fit_transform(X_train_scaled)\n",
    "X_val_pca = pca.transform(X_val_scaled)\n",
    "X_test_pca = pca.transform(X_test_scaled)"
   ]
  },
  {
   "cell_type": "code",
   "execution_count": null,
   "id": "66958409",
   "metadata": {
    "execution": {
     "iopub.status.busy": "2023-09-23T10:43:39.319940Z",
     "iopub.status.idle": "2023-09-23T10:43:39.320734Z",
     "shell.execute_reply": "2023-09-23T10:43:39.320487Z",
     "shell.execute_reply.started": "2023-09-23T10:43:39.320463Z"
    },
    "id": "up4sEETQHPYq",
    "outputId": "554d9cae-fe88-44fa-d090-6bd22fb76579",
    "papermill": {
     "duration": null,
     "end_time": null,
     "exception": null,
     "start_time": null,
     "status": "pending"
    },
    "tags": []
   },
   "outputs": [],
   "source": [
    "X_train_pca.shape"
   ]
  },
  {
   "cell_type": "code",
   "execution_count": null,
   "id": "d14c277b",
   "metadata": {
    "execution": {
     "iopub.status.busy": "2023-09-23T10:43:39.322224Z",
     "iopub.status.idle": "2023-09-23T10:43:39.323062Z",
     "shell.execute_reply": "2023-09-23T10:43:39.322813Z",
     "shell.execute_reply.started": "2023-09-23T10:43:39.322788Z"
    },
    "id": "YHNGyc4dHRI8",
    "outputId": "12d5f654-edb3-4465-fa29-fcedc531a56d",
    "papermill": {
     "duration": null,
     "end_time": null,
     "exception": null,
     "start_time": null,
     "status": "pending"
    },
    "tags": []
   },
   "outputs": [],
   "source": [
    "start_time = time.time()\n",
    "accuracy = svm_classifier(X_train_pca, y_train_resampled, X_val_pca, y_val['label_4'] )\n",
    "elapsed_time = time.time() - start_time\n",
    "print(f\"Accuracy: {accuracy * 100:.2f}% in {elapsed_time} secs\")"
   ]
  },
  {
   "cell_type": "code",
   "execution_count": null,
   "id": "1c097fd8",
   "metadata": {
    "execution": {
     "iopub.status.busy": "2023-09-23T10:43:39.324491Z",
     "iopub.status.idle": "2023-09-23T10:43:39.325390Z",
     "shell.execute_reply": "2023-09-23T10:43:39.325160Z",
     "shell.execute_reply.started": "2023-09-23T10:43:39.325135Z"
    },
    "papermill": {
     "duration": null,
     "end_time": null,
     "exception": null,
     "start_time": null,
     "status": "pending"
    },
    "tags": []
   },
   "outputs": [],
   "source": [
    "# from sklearn.model_selection import GridSearchCV\n",
    "  \n",
    "# # defining parameter range\n",
    "# param_grid = {'C': [1000, 1200, 1300, 1500, 1600, 2000, 1800, 2200],\n",
    "#               'class_weight': ['balanced', None]} \n",
    "  \n",
    "# grid = GridSearchCV(SVC(), param_grid, refit = True, verbose = 3)\n",
    "  \n",
    "# # fitting the model for grid search\n",
    "# grid.fit(X_train_pca, y_train['label_2'])\n",
    "# grid.best_params_"
   ]
  },
  {
   "cell_type": "code",
   "execution_count": null,
   "id": "a5d5a622",
   "metadata": {
    "execution": {
     "iopub.status.busy": "2023-09-23T10:43:39.326753Z",
     "iopub.status.idle": "2023-09-23T10:43:39.327504Z",
     "shell.execute_reply": "2023-09-23T10:43:39.327279Z",
     "shell.execute_reply.started": "2023-09-23T10:43:39.327253Z"
    },
    "papermill": {
     "duration": null,
     "end_time": null,
     "exception": null,
     "start_time": null,
     "status": "pending"
    },
    "tags": []
   },
   "outputs": [],
   "source": [
    "cross_val_score(SVC(class_weight='balanced', C=1000), X_train_pca, y_train['label_4'], cv=5, scoring='accuracy').mean()"
   ]
  },
  {
   "cell_type": "code",
   "execution_count": null,
   "id": "914b22d8",
   "metadata": {
    "execution": {
     "iopub.status.busy": "2023-09-23T10:43:39.328873Z",
     "iopub.status.idle": "2023-09-23T10:43:39.329707Z",
     "shell.execute_reply": "2023-09-23T10:43:39.329459Z",
     "shell.execute_reply.started": "2023-09-23T10:43:39.329413Z"
    },
    "papermill": {
     "duration": null,
     "end_time": null,
     "exception": null,
     "start_time": null,
     "status": "pending"
    },
    "tags": []
   },
   "outputs": [],
   "source": [
    "best_model_label_4 = SVC(class_weight='balanced', C=1000)\n",
    "\n",
    "label_4_pred_after = best_model_label_4.fit(X_train_pca, y_train['label_4']).predict(X_test_pca)"
   ]
  },
  {
   "cell_type": "markdown",
   "id": "a2c6b1cf",
   "metadata": {
    "id": "bB7AmZXDFLZL",
    "papermill": {
     "duration": null,
     "end_time": null,
     "exception": null,
     "start_time": null,
     "status": "pending"
    },
    "tags": []
   },
   "source": [
    "Kaggle competition output"
   ]
  },
  {
   "cell_type": "code",
   "execution_count": null,
   "id": "7af4c7b8",
   "metadata": {
    "execution": {
     "iopub.status.busy": "2023-09-23T10:43:39.331014Z",
     "iopub.status.idle": "2023-09-23T10:43:39.331857Z",
     "shell.execute_reply": "2023-09-23T10:43:39.331562Z",
     "shell.execute_reply.started": "2023-09-23T10:43:39.331538Z"
    },
    "papermill": {
     "duration": null,
     "end_time": null,
     "exception": null,
     "start_time": null,
     "status": "pending"
    },
    "tags": []
   },
   "outputs": [],
   "source": [
    "output_df = test[['ID']]\n",
    "output_df['label_1'] = label_1_pred_after\n",
    "output_df['label_2'] = label_2_pred_after\n",
    "output_df['label_3'] = label_3_pred_after\n",
    "output_df['label_4'] = label_4_pred_after"
   ]
  },
  {
   "cell_type": "code",
   "execution_count": null,
   "id": "3600d9c2",
   "metadata": {
    "execution": {
     "iopub.status.busy": "2023-09-23T10:43:39.333572Z",
     "iopub.status.idle": "2023-09-23T10:43:39.334370Z",
     "shell.execute_reply": "2023-09-23T10:43:39.334134Z",
     "shell.execute_reply.started": "2023-09-23T10:43:39.334111Z"
    },
    "papermill": {
     "duration": null,
     "end_time": null,
     "exception": null,
     "start_time": null,
     "status": "pending"
    },
    "tags": []
   },
   "outputs": [],
   "source": [
    "output_df.head()"
   ]
  },
  {
   "cell_type": "code",
   "execution_count": null,
   "id": "028f4626",
   "metadata": {
    "execution": {
     "iopub.status.busy": "2023-09-23T10:43:39.335741Z",
     "iopub.status.idle": "2023-09-23T10:43:39.336511Z",
     "shell.execute_reply": "2023-09-23T10:43:39.336270Z",
     "shell.execute_reply.started": "2023-09-23T10:43:39.336245Z"
    },
    "papermill": {
     "duration": null,
     "end_time": null,
     "exception": null,
     "start_time": null,
     "status": "pending"
    },
    "tags": []
   },
   "outputs": [],
   "source": [
    "# Write DataFrame to CSV\n",
    "output_df.to_csv('predictions_L7.csv', index=False)"
   ]
  }
 ],
 "metadata": {
  "kernelspec": {
   "display_name": "Python 3",
   "language": "python",
   "name": "python3"
  },
  "language_info": {
   "codemirror_mode": {
    "name": "ipython",
    "version": 3
   },
   "file_extension": ".py",
   "mimetype": "text/x-python",
   "name": "python",
   "nbconvert_exporter": "python",
   "pygments_lexer": "ipython3",
   "version": "3.10.12"
  },
  "papermill": {
   "default_parameters": {},
   "duration": 121.174303,
   "end_time": "2023-09-23T17:16:51.779024",
   "environment_variables": {},
   "exception": true,
   "input_path": "__notebook__.ipynb",
   "output_path": "__notebook__.ipynb",
   "parameters": {},
   "start_time": "2023-09-23T17:14:50.604721",
   "version": "2.4.0"
  }
 },
 "nbformat": 4,
 "nbformat_minor": 5
}
