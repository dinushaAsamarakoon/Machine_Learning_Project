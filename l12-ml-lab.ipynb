{
 "cells": [
  {
   "cell_type": "code",
   "execution_count": 1,
   "id": "4cd6ad7c",
   "metadata": {
    "execution": {
     "iopub.execute_input": "2023-09-24T11:20:17.919914Z",
     "iopub.status.busy": "2023-09-24T11:20:17.919281Z",
     "iopub.status.idle": "2023-09-24T11:20:21.312066Z",
     "shell.execute_reply": "2023-09-24T11:20:21.310804Z"
    },
    "id": "zMToJ4ehZdB5",
    "papermill": {
     "duration": 3.426314,
     "end_time": "2023-09-24T11:20:21.315172",
     "exception": false,
     "start_time": "2023-09-24T11:20:17.888858",
     "status": "completed"
    },
    "tags": []
   },
   "outputs": [],
   "source": [
    "import pandas as pd\n",
    "import numpy as np\n",
    "import matplotlib.pyplot as plt\n",
    "from sklearn.preprocessing import StandardScaler, RobustScaler\n",
    "from sklearn.neighbors import KNeighborsClassifier\n",
    "from catboost import CatBoostClassifier\n",
    "from sklearn.metrics import accuracy_score\n",
    "from sklearn.model_selection import cross_val_score\n",
    "from sklearn.model_selection import GridSearchCV\n",
    "from sklearn.decomposition import PCA\n",
    "import seaborn as sn\n",
    "from imblearn.over_sampling import RandomOverSampler\n",
    "from sklearn.svm import SVC\n",
    "from sklearn.linear_model import LogisticRegression\n",
    "import time\n",
    "import os"
   ]
  },
  {
   "cell_type": "code",
   "execution_count": 2,
   "id": "cdcf5b8a",
   "metadata": {
    "execution": {
     "iopub.execute_input": "2023-09-24T11:20:21.372602Z",
     "iopub.status.busy": "2023-09-24T11:20:21.371860Z",
     "iopub.status.idle": "2023-09-24T11:20:21.377757Z",
     "shell.execute_reply": "2023-09-24T11:20:21.376504Z"
    },
    "papermill": {
     "duration": 0.037421,
     "end_time": "2023-09-24T11:20:21.380367",
     "exception": false,
     "start_time": "2023-09-24T11:20:21.342946",
     "status": "completed"
    },
    "tags": []
   },
   "outputs": [],
   "source": [
    "import warnings\n",
    "warnings.filterwarnings('ignore')"
   ]
  },
  {
   "cell_type": "code",
   "execution_count": 3,
   "id": "7f3e7ef5",
   "metadata": {
    "execution": {
     "iopub.execute_input": "2023-09-24T11:20:21.438323Z",
     "iopub.status.busy": "2023-09-24T11:20:21.437041Z",
     "iopub.status.idle": "2023-09-24T11:20:34.396068Z",
     "shell.execute_reply": "2023-09-24T11:20:34.394569Z"
    },
    "id": "BZ6lcmNJZh9w",
    "papermill": {
     "duration": 12.990626,
     "end_time": "2023-09-24T11:20:34.399251",
     "exception": false,
     "start_time": "2023-09-24T11:20:21.408625",
     "status": "completed"
    },
    "tags": []
   },
   "outputs": [],
   "source": [
    "train = pd.read_csv('/kaggle/input/l12data/train.csv')\n",
    "valid = pd.read_csv('/kaggle/input/l12data/valid.csv')\n",
    "test = pd.read_csv('/kaggle/input/l12data/test.csv')"
   ]
  },
  {
   "cell_type": "code",
   "execution_count": 4,
   "id": "4bb8c104",
   "metadata": {
    "execution": {
     "iopub.execute_input": "2023-09-24T11:20:34.456142Z",
     "iopub.status.busy": "2023-09-24T11:20:34.455708Z",
     "iopub.status.idle": "2023-09-24T11:20:34.464418Z",
     "shell.execute_reply": "2023-09-24T11:20:34.463203Z"
    },
    "id": "fRfytVM6ystx",
    "outputId": "a9bf966f-5eeb-4551-f97b-8eaa6f714651",
    "papermill": {
     "duration": 0.040503,
     "end_time": "2023-09-24T11:20:34.467350",
     "exception": false,
     "start_time": "2023-09-24T11:20:34.426847",
     "status": "completed"
    },
    "tags": []
   },
   "outputs": [
    {
     "data": {
      "text/plain": [
       "(28520, 772)"
      ]
     },
     "execution_count": 4,
     "metadata": {},
     "output_type": "execute_result"
    }
   ],
   "source": [
    "train.shape"
   ]
  },
  {
   "cell_type": "code",
   "execution_count": 5,
   "id": "dc479d5f",
   "metadata": {
    "execution": {
     "iopub.execute_input": "2023-09-24T11:20:34.524162Z",
     "iopub.status.busy": "2023-09-24T11:20:34.523760Z",
     "iopub.status.idle": "2023-09-24T11:20:34.529759Z",
     "shell.execute_reply": "2023-09-24T11:20:34.528852Z"
    },
    "id": "XsT635ZGaZPY",
    "papermill": {
     "duration": 0.036888,
     "end_time": "2023-09-24T11:20:34.531882",
     "exception": false,
     "start_time": "2023-09-24T11:20:34.494994",
     "status": "completed"
    },
    "tags": []
   },
   "outputs": [],
   "source": [
    "svm = SVC(kernel='linear')\n",
    "def svm_classifier(X_train, Y_train, X_val, Y_val):\n",
    "    svm.fit(X_train, Y_train)\n",
    "\n",
    "    y_pred = svm.predict(X_val)\n",
    "\n",
    "    accuracy = accuracy_score(Y_val, y_pred)\n",
    "    return accuracy"
   ]
  },
  {
   "cell_type": "code",
   "execution_count": 6,
   "id": "cc2afee3",
   "metadata": {
    "execution": {
     "iopub.execute_input": "2023-09-24T11:20:34.658177Z",
     "iopub.status.busy": "2023-09-24T11:20:34.657333Z",
     "iopub.status.idle": "2023-09-24T11:20:34.665663Z",
     "shell.execute_reply": "2023-09-24T11:20:34.664515Z"
    },
    "id": "DhEqpWj_bHAh",
    "papermill": {
     "duration": 0.108391,
     "end_time": "2023-09-24T11:20:34.668422",
     "exception": false,
     "start_time": "2023-09-24T11:20:34.560031",
     "status": "completed"
    },
    "tags": []
   },
   "outputs": [],
   "source": [
    "knn = KNeighborsClassifier(n_neighbors=1)\n",
    "def knn_classifier(X_train, Y_train, X_val, Y_val):\n",
    "\n",
    "    knn.fit(np.array(X_train), Y_train)\n",
    "\n",
    "    y_pred = knn.predict(np.array(X_val))\n",
    "\n",
    "    accuracy = accuracy_score(Y_val, y_pred)\n",
    "    return accuracy"
   ]
  },
  {
   "cell_type": "code",
   "execution_count": 7,
   "id": "59e96422",
   "metadata": {
    "execution": {
     "iopub.execute_input": "2023-09-24T11:20:34.726965Z",
     "iopub.status.busy": "2023-09-24T11:20:34.725925Z",
     "iopub.status.idle": "2023-09-24T11:20:34.732963Z",
     "shell.execute_reply": "2023-09-24T11:20:34.732131Z"
    },
    "id": "frqdix6CbMwv",
    "papermill": {
     "duration": 0.038746,
     "end_time": "2023-09-24T11:20:34.735228",
     "exception": false,
     "start_time": "2023-09-24T11:20:34.696482",
     "status": "completed"
    },
    "tags": []
   },
   "outputs": [],
   "source": [
    "logreg = LogisticRegression()\n",
    "def logistic_regression_classifier(X_train, Y_train, X_val, Y_val):\n",
    "\n",
    "    logreg.fit(X_train, Y_train)\n",
    "\n",
    "    y_pred = logreg.predict(X_val)\n",
    "\n",
    "    accuracy = accuracy_score(Y_val, y_pred)\n",
    "    return accuracy"
   ]
  },
  {
   "cell_type": "code",
   "execution_count": 8,
   "id": "ba038453",
   "metadata": {
    "execution": {
     "iopub.execute_input": "2023-09-24T11:20:34.793956Z",
     "iopub.status.busy": "2023-09-24T11:20:34.792638Z",
     "iopub.status.idle": "2023-09-24T11:20:34.803605Z",
     "shell.execute_reply": "2023-09-24T11:20:34.802562Z"
    },
    "papermill": {
     "duration": 0.042865,
     "end_time": "2023-09-24T11:20:34.805991",
     "exception": false,
     "start_time": "2023-09-24T11:20:34.763126",
     "status": "completed"
    },
    "tags": []
   },
   "outputs": [],
   "source": [
    "catboost = CatBoostClassifier()\n",
    "\n",
    "def catboost_classifier(X_train, Y_train, X_val, Y_val):\n",
    "\n",
    "    catboost.fit(X_train, Y_train)\n",
    "\n",
    "    y_pred = catboost.predict(X_val)\n",
    "\n",
    "    accuracy = accuracy_score(Y_val, y_pred)\n",
    "    return accuracy"
   ]
  },
  {
   "cell_type": "code",
   "execution_count": 9,
   "id": "9629fefc",
   "metadata": {
    "execution": {
     "iopub.execute_input": "2023-09-24T11:20:34.866592Z",
     "iopub.status.busy": "2023-09-24T11:20:34.866129Z",
     "iopub.status.idle": "2023-09-24T11:20:34.873459Z",
     "shell.execute_reply": "2023-09-24T11:20:34.872190Z"
    },
    "id": "LXCloJWmwJaw",
    "papermill": {
     "duration": 0.040126,
     "end_time": "2023-09-24T11:20:34.875948",
     "exception": false,
     "start_time": "2023-09-24T11:20:34.835822",
     "status": "completed"
    },
    "tags": []
   },
   "outputs": [],
   "source": [
    "def id_highly_correlated_features(dataset, threshold):\n",
    "    corr_matrix = dataset.corr().abs()\n",
    "    upper_tri = corr_matrix.where(np.triu(np.ones(corr_matrix.shape), k=1).astype(np.bool_))\n",
    "    to_drop = [column for column in upper_tri.columns if any(upper_tri[column] > threshold)]\n",
    "    return set(to_drop)"
   ]
  },
  {
   "cell_type": "code",
   "execution_count": 10,
   "id": "163b5363",
   "metadata": {
    "execution": {
     "iopub.execute_input": "2023-09-24T11:20:34.934634Z",
     "iopub.status.busy": "2023-09-24T11:20:34.933812Z",
     "iopub.status.idle": "2023-09-24T11:20:34.941451Z",
     "shell.execute_reply": "2023-09-24T11:20:34.940615Z"
    },
    "id": "OgQ1BFmdwNkX",
    "papermill": {
     "duration": 0.03984,
     "end_time": "2023-09-24T11:20:34.943880",
     "exception": false,
     "start_time": "2023-09-24T11:20:34.904040",
     "status": "completed"
    },
    "tags": []
   },
   "outputs": [],
   "source": [
    "def id_weekly_correlated_features_with_label(dataset, label, threshold = 0.01):\n",
    "    for label_ in train.iloc[:, -4:]:\n",
    "        if label_ != label:\n",
    "            dataset = dataset.drop(label_, axis=1)  # remove other targets from the dataset\n",
    "    corr_matrix = dataset.corr().abs()\n",
    "    weak_corr_features = corr_matrix[corr_matrix[label] < threshold].index.tolist()\n",
    "    if label in weak_corr_features:\n",
    "        weak_corr_features.remove(label)\n",
    "    return weak_corr_features"
   ]
  },
  {
   "cell_type": "markdown",
   "id": "36d2b9b2",
   "metadata": {
    "id": "rvNmEQGLboCX",
    "papermill": {
     "duration": 0.02773,
     "end_time": "2023-09-24T11:20:34.999865",
     "exception": false,
     "start_time": "2023-09-24T11:20:34.972135",
     "status": "completed"
    },
    "tags": []
   },
   "source": [
    "# Label 1"
   ]
  },
  {
   "cell_type": "code",
   "execution_count": 11,
   "id": "726c93e9",
   "metadata": {
    "execution": {
     "iopub.execute_input": "2023-09-24T11:20:35.061593Z",
     "iopub.status.busy": "2023-09-24T11:20:35.060850Z",
     "iopub.status.idle": "2023-09-24T11:20:35.194537Z",
     "shell.execute_reply": "2023-09-24T11:20:35.193203Z"
    },
    "id": "CJagUoZuxUdG",
    "papermill": {
     "duration": 0.166704,
     "end_time": "2023-09-24T11:20:35.197456",
     "exception": false,
     "start_time": "2023-09-24T11:20:35.030752",
     "status": "completed"
    },
    "tags": []
   },
   "outputs": [],
   "source": [
    "label_1_train = train.copy()\n",
    "label_1_valid = valid.copy()\n",
    "label_1_test = test.copy()"
   ]
  },
  {
   "cell_type": "code",
   "execution_count": 12,
   "id": "0d7cf75e",
   "metadata": {
    "execution": {
     "iopub.execute_input": "2023-09-24T11:20:35.255873Z",
     "iopub.status.busy": "2023-09-24T11:20:35.255107Z",
     "iopub.status.idle": "2023-09-24T11:20:35.351649Z",
     "shell.execute_reply": "2023-09-24T11:20:35.350468Z"
    },
    "id": "QNbYH1DZw8zI",
    "papermill": {
     "duration": 0.129273,
     "end_time": "2023-09-24T11:20:35.354490",
     "exception": false,
     "start_time": "2023-09-24T11:20:35.225217",
     "status": "completed"
    },
    "tags": []
   },
   "outputs": [],
   "source": [
    "label_1_train = label_1_train.dropna(subset=['label_1'])\n",
    "label_1_valid = label_1_valid.dropna(subset=['label_1'])"
   ]
  },
  {
   "cell_type": "code",
   "execution_count": 13,
   "id": "0986aaaf",
   "metadata": {
    "execution": {
     "iopub.execute_input": "2023-09-24T11:20:35.412118Z",
     "iopub.status.busy": "2023-09-24T11:20:35.411127Z",
     "iopub.status.idle": "2023-09-24T11:20:35.443726Z",
     "shell.execute_reply": "2023-09-24T11:20:35.442708Z"
    },
    "id": "PXIWTTixye3u",
    "outputId": "c20ef1f4-b561-41c4-e66f-7c919da8d795",
    "papermill": {
     "duration": 0.06405,
     "end_time": "2023-09-24T11:20:35.446040",
     "exception": false,
     "start_time": "2023-09-24T11:20:35.381990",
     "status": "completed"
    },
    "tags": []
   },
   "outputs": [
    {
     "data": {
      "text/html": [
       "<div>\n",
       "<style scoped>\n",
       "    .dataframe tbody tr th:only-of-type {\n",
       "        vertical-align: middle;\n",
       "    }\n",
       "\n",
       "    .dataframe tbody tr th {\n",
       "        vertical-align: top;\n",
       "    }\n",
       "\n",
       "    .dataframe thead th {\n",
       "        text-align: right;\n",
       "    }\n",
       "</style>\n",
       "<table border=\"1\" class=\"dataframe\">\n",
       "  <thead>\n",
       "    <tr style=\"text-align: right;\">\n",
       "      <th></th>\n",
       "      <th>ID</th>\n",
       "      <th>feature_1</th>\n",
       "      <th>feature_2</th>\n",
       "      <th>feature_3</th>\n",
       "      <th>feature_4</th>\n",
       "      <th>feature_5</th>\n",
       "      <th>feature_6</th>\n",
       "      <th>feature_7</th>\n",
       "      <th>feature_8</th>\n",
       "      <th>feature_9</th>\n",
       "      <th>...</th>\n",
       "      <th>feature_759</th>\n",
       "      <th>feature_760</th>\n",
       "      <th>feature_761</th>\n",
       "      <th>feature_762</th>\n",
       "      <th>feature_763</th>\n",
       "      <th>feature_764</th>\n",
       "      <th>feature_765</th>\n",
       "      <th>feature_766</th>\n",
       "      <th>feature_767</th>\n",
       "      <th>feature_768</th>\n",
       "    </tr>\n",
       "  </thead>\n",
       "  <tbody>\n",
       "    <tr>\n",
       "      <th>0</th>\n",
       "      <td>1</td>\n",
       "      <td>0.124623</td>\n",
       "      <td>0.196628</td>\n",
       "      <td>0.257004</td>\n",
       "      <td>-0.156045</td>\n",
       "      <td>-0.054916</td>\n",
       "      <td>0.006071</td>\n",
       "      <td>-0.035149</td>\n",
       "      <td>-0.092019</td>\n",
       "      <td>-0.196302</td>\n",
       "      <td>...</td>\n",
       "      <td>-0.221466</td>\n",
       "      <td>0.140292</td>\n",
       "      <td>0.123622</td>\n",
       "      <td>-0.175572</td>\n",
       "      <td>-0.107030</td>\n",
       "      <td>-0.087621</td>\n",
       "      <td>-0.026501</td>\n",
       "      <td>0.139337</td>\n",
       "      <td>-0.083030</td>\n",
       "      <td>0.059507</td>\n",
       "    </tr>\n",
       "    <tr>\n",
       "      <th>1</th>\n",
       "      <td>2</td>\n",
       "      <td>0.109655</td>\n",
       "      <td>0.170158</td>\n",
       "      <td>0.227644</td>\n",
       "      <td>-0.127088</td>\n",
       "      <td>-0.044476</td>\n",
       "      <td>-0.046852</td>\n",
       "      <td>-0.090026</td>\n",
       "      <td>-0.061321</td>\n",
       "      <td>-0.227288</td>\n",
       "      <td>...</td>\n",
       "      <td>-0.204930</td>\n",
       "      <td>0.110203</td>\n",
       "      <td>0.085665</td>\n",
       "      <td>-0.286787</td>\n",
       "      <td>-0.113195</td>\n",
       "      <td>-0.057312</td>\n",
       "      <td>-0.055680</td>\n",
       "      <td>0.143939</td>\n",
       "      <td>-0.045760</td>\n",
       "      <td>0.106113</td>\n",
       "    </tr>\n",
       "    <tr>\n",
       "      <th>2</th>\n",
       "      <td>3</td>\n",
       "      <td>0.014854</td>\n",
       "      <td>0.030051</td>\n",
       "      <td>0.115092</td>\n",
       "      <td>-0.017179</td>\n",
       "      <td>0.002720</td>\n",
       "      <td>-0.011692</td>\n",
       "      <td>-0.078855</td>\n",
       "      <td>-0.042991</td>\n",
       "      <td>-0.096283</td>\n",
       "      <td>...</td>\n",
       "      <td>-0.032937</td>\n",
       "      <td>0.075821</td>\n",
       "      <td>0.030987</td>\n",
       "      <td>-0.149850</td>\n",
       "      <td>-0.003155</td>\n",
       "      <td>-0.010207</td>\n",
       "      <td>-0.001427</td>\n",
       "      <td>0.000934</td>\n",
       "      <td>-0.017069</td>\n",
       "      <td>0.048123</td>\n",
       "    </tr>\n",
       "    <tr>\n",
       "      <th>3</th>\n",
       "      <td>4</td>\n",
       "      <td>0.196893</td>\n",
       "      <td>0.113314</td>\n",
       "      <td>0.352175</td>\n",
       "      <td>-0.108499</td>\n",
       "      <td>-0.064472</td>\n",
       "      <td>-0.073239</td>\n",
       "      <td>-0.086402</td>\n",
       "      <td>0.008671</td>\n",
       "      <td>-0.342217</td>\n",
       "      <td>...</td>\n",
       "      <td>-0.255167</td>\n",
       "      <td>0.096579</td>\n",
       "      <td>0.069413</td>\n",
       "      <td>-0.215386</td>\n",
       "      <td>-0.075168</td>\n",
       "      <td>-0.035071</td>\n",
       "      <td>-0.023375</td>\n",
       "      <td>0.067768</td>\n",
       "      <td>-0.181530</td>\n",
       "      <td>0.174444</td>\n",
       "    </tr>\n",
       "    <tr>\n",
       "      <th>4</th>\n",
       "      <td>5</td>\n",
       "      <td>0.033004</td>\n",
       "      <td>0.013373</td>\n",
       "      <td>0.124001</td>\n",
       "      <td>-0.016143</td>\n",
       "      <td>0.010120</td>\n",
       "      <td>0.010635</td>\n",
       "      <td>-0.055789</td>\n",
       "      <td>-0.036282</td>\n",
       "      <td>-0.059422</td>\n",
       "      <td>...</td>\n",
       "      <td>-0.035814</td>\n",
       "      <td>0.093764</td>\n",
       "      <td>0.027321</td>\n",
       "      <td>-0.116009</td>\n",
       "      <td>0.010096</td>\n",
       "      <td>-0.042293</td>\n",
       "      <td>0.005347</td>\n",
       "      <td>0.007722</td>\n",
       "      <td>-0.007731</td>\n",
       "      <td>0.058799</td>\n",
       "    </tr>\n",
       "  </tbody>\n",
       "</table>\n",
       "<p>5 rows × 769 columns</p>\n",
       "</div>"
      ],
      "text/plain": [
       "   ID  feature_1  feature_2  feature_3  feature_4  feature_5  feature_6  \\\n",
       "0   1   0.124623   0.196628   0.257004  -0.156045  -0.054916   0.006071   \n",
       "1   2   0.109655   0.170158   0.227644  -0.127088  -0.044476  -0.046852   \n",
       "2   3   0.014854   0.030051   0.115092  -0.017179   0.002720  -0.011692   \n",
       "3   4   0.196893   0.113314   0.352175  -0.108499  -0.064472  -0.073239   \n",
       "4   5   0.033004   0.013373   0.124001  -0.016143   0.010120   0.010635   \n",
       "\n",
       "   feature_7  feature_8  feature_9  ...  feature_759  feature_760  \\\n",
       "0  -0.035149  -0.092019  -0.196302  ...    -0.221466     0.140292   \n",
       "1  -0.090026  -0.061321  -0.227288  ...    -0.204930     0.110203   \n",
       "2  -0.078855  -0.042991  -0.096283  ...    -0.032937     0.075821   \n",
       "3  -0.086402   0.008671  -0.342217  ...    -0.255167     0.096579   \n",
       "4  -0.055789  -0.036282  -0.059422  ...    -0.035814     0.093764   \n",
       "\n",
       "   feature_761  feature_762  feature_763  feature_764  feature_765  \\\n",
       "0     0.123622    -0.175572    -0.107030    -0.087621    -0.026501   \n",
       "1     0.085665    -0.286787    -0.113195    -0.057312    -0.055680   \n",
       "2     0.030987    -0.149850    -0.003155    -0.010207    -0.001427   \n",
       "3     0.069413    -0.215386    -0.075168    -0.035071    -0.023375   \n",
       "4     0.027321    -0.116009     0.010096    -0.042293     0.005347   \n",
       "\n",
       "   feature_766  feature_767  feature_768  \n",
       "0     0.139337    -0.083030     0.059507  \n",
       "1     0.143939    -0.045760     0.106113  \n",
       "2     0.000934    -0.017069     0.048123  \n",
       "3     0.067768    -0.181530     0.174444  \n",
       "4     0.007722    -0.007731     0.058799  \n",
       "\n",
       "[5 rows x 769 columns]"
      ]
     },
     "execution_count": 13,
     "metadata": {},
     "output_type": "execute_result"
    }
   ],
   "source": [
    "label_1_test.head()"
   ]
  },
  {
   "cell_type": "code",
   "execution_count": 14,
   "id": "7656faa4",
   "metadata": {
    "execution": {
     "iopub.execute_input": "2023-09-24T11:20:35.504228Z",
     "iopub.status.busy": "2023-09-24T11:20:35.503595Z",
     "iopub.status.idle": "2023-09-24T11:20:35.565821Z",
     "shell.execute_reply": "2023-09-24T11:20:35.564947Z"
    },
    "id": "hJt-sLN9wjtb",
    "papermill": {
     "duration": 0.094778,
     "end_time": "2023-09-24T11:20:35.568849",
     "exception": false,
     "start_time": "2023-09-24T11:20:35.474071",
     "status": "completed"
    },
    "tags": []
   },
   "outputs": [],
   "source": [
    "X_train = label_1_train.iloc[:, :-4]\n",
    "y_train = label_1_train.iloc[:, -4:]\n",
    "X_val = label_1_valid.iloc[:, :-4]\n",
    "y_val = label_1_valid.iloc[:, -4:]\n",
    "X_test = label_1_test.iloc[:, 1:]"
   ]
  },
  {
   "cell_type": "code",
   "execution_count": 15,
   "id": "0c5c0666",
   "metadata": {
    "execution": {
     "iopub.execute_input": "2023-09-24T11:20:35.628573Z",
     "iopub.status.busy": "2023-09-24T11:20:35.627862Z",
     "iopub.status.idle": "2023-09-24T11:20:36.432158Z",
     "shell.execute_reply": "2023-09-24T11:20:36.430967Z"
    },
    "id": "eBjtGtwvzPcD",
    "outputId": "804d0137-dd44-4259-c00e-33500e698fb1",
    "papermill": {
     "duration": 0.836835,
     "end_time": "2023-09-24T11:20:36.434690",
     "exception": false,
     "start_time": "2023-09-24T11:20:35.597855",
     "status": "completed"
    },
    "tags": []
   },
   "outputs": [
    {
     "data": {
      "image/png": "[encoded data removed]",
      "text/plain": [
       "<Figure size 1800x600 with 1 Axes>"
      ]
     },
     "metadata": {},
     "output_type": "display_data"
    }
   ],
   "source": [
    "plt.figure(figsize=(18, 6))\n",
    "sn.countplot(data=y_train, x='label_1', palette='Set2')\n",
    "plt.title('Distribution of label_1 Classes')\n",
    "plt.xlabel('label_1')\n",
    "plt.ylabel('Count')\n",
    "plt.xticks(rotation=45)\n",
    "plt.show()"
   ]
  },
  {
   "cell_type": "code",
   "execution_count": 16,
   "id": "c3a8a4f5",
   "metadata": {
    "execution": {
     "iopub.execute_input": "2023-09-24T11:20:36.494265Z",
     "iopub.status.busy": "2023-09-24T11:20:36.493777Z",
     "iopub.status.idle": "2023-09-24T11:20:37.757614Z",
     "shell.execute_reply": "2023-09-24T11:20:37.756241Z"
    },
    "papermill": {
     "duration": 1.297246,
     "end_time": "2023-09-24T11:20:37.760570",
     "exception": false,
     "start_time": "2023-09-24T11:20:36.463324",
     "status": "completed"
    },
    "tags": []
   },
   "outputs": [],
   "source": [
    "scaler = RobustScaler()\n",
    "X_train_scaled = scaler.fit_transform(X_train)\n",
    "X_val_scaled = scaler.transform(X_val)\n",
    "X_test_scaled = scaler.transform(X_test)"
   ]
  },
  {
   "cell_type": "code",
   "execution_count": 17,
   "id": "36640a6d",
   "metadata": {
    "execution": {
     "iopub.execute_input": "2023-09-24T11:20:37.821107Z",
     "iopub.status.busy": "2023-09-24T11:20:37.820624Z",
     "iopub.status.idle": "2023-09-24T11:20:37.829628Z",
     "shell.execute_reply": "2023-09-24T11:20:37.828285Z"
    },
    "papermill": {
     "duration": 0.042409,
     "end_time": "2023-09-24T11:20:37.832271",
     "exception": false,
     "start_time": "2023-09-24T11:20:37.789862",
     "status": "completed"
    },
    "tags": []
   },
   "outputs": [
    {
     "data": {
      "text/plain": [
       "(28520, 768)"
      ]
     },
     "execution_count": 17,
     "metadata": {},
     "output_type": "execute_result"
    }
   ],
   "source": [
    "X_train_scaled.shape"
   ]
  },
  {
   "cell_type": "code",
   "execution_count": 18,
   "id": "68b2fc4c",
   "metadata": {
    "execution": {
     "iopub.execute_input": "2023-09-24T11:20:37.893873Z",
     "iopub.status.busy": "2023-09-24T11:20:37.893441Z",
     "iopub.status.idle": "2023-09-24T11:20:41.934872Z",
     "shell.execute_reply": "2023-09-24T11:20:41.932960Z"
    },
    "papermill": {
     "duration": 4.07738,
     "end_time": "2023-09-24T11:20:41.940105",
     "exception": false,
     "start_time": "2023-09-24T11:20:37.862725",
     "status": "completed"
    },
    "tags": []
   },
   "outputs": [],
   "source": [
    "pca = PCA(n_components=0.99, svd_solver = 'full')\n",
    "X_train_pca = pca.fit_transform(X_train)\n",
    "X_val_pca = pca.transform(X_val)\n",
    "X_test_pca = pca.transform(X_test)"
   ]
  },
  {
   "cell_type": "code",
   "execution_count": 19,
   "id": "7d79ec13",
   "metadata": {
    "execution": {
     "iopub.execute_input": "2023-09-24T11:20:42.062405Z",
     "iopub.status.busy": "2023-09-24T11:20:42.061969Z",
     "iopub.status.idle": "2023-09-24T11:20:42.069795Z",
     "shell.execute_reply": "2023-09-24T11:20:42.068522Z"
    },
    "papermill": {
     "duration": 0.066938,
     "end_time": "2023-09-24T11:20:42.072112",
     "exception": false,
     "start_time": "2023-09-24T11:20:42.005174",
     "status": "completed"
    },
    "tags": []
   },
   "outputs": [
    {
     "data": {
      "text/plain": [
       "(28520, 314)"
      ]
     },
     "execution_count": 19,
     "metadata": {},
     "output_type": "execute_result"
    }
   ],
   "source": [
    "X_train_pca.shape"
   ]
  },
  {
   "cell_type": "code",
   "execution_count": 20,
   "id": "e328cdc9",
   "metadata": {
    "execution": {
     "iopub.execute_input": "2023-09-24T11:20:42.132900Z",
     "iopub.status.busy": "2023-09-24T11:20:42.132501Z",
     "iopub.status.idle": "2023-09-24T11:20:42.137883Z",
     "shell.execute_reply": "2023-09-24T11:20:42.136703Z"
    },
    "papermill": {
     "duration": 0.038479,
     "end_time": "2023-09-24T11:20:42.140197",
     "exception": false,
     "start_time": "2023-09-24T11:20:42.101718",
     "status": "completed"
    },
    "tags": []
   },
   "outputs": [],
   "source": [
    "# # defining parameter range\n",
    "# param_grid = {'depth': [6, 8],\n",
    "#               'learning_rate' : [0.01, 0.05, 0.1],\n",
    "#               'iterations': [100]}\n",
    "\n",
    "# # Create a CatBoostClassifier object\n",
    "# cb = CatBoostClassifier(task_type=\"GPU\")\n",
    "\n",
    "# # Create GridSearchCV object\n",
    "# grid = GridSearchCV(cb, param_grid, cv=3, verbose=2)\n",
    "\n",
    "# # fitting the model for grid search\n",
    "# grid.fit(X_train_pca, y_train['label_1'])\n",
    "\n",
    "# # get the best parameters\n",
    "# grid.best_params_\n"
   ]
  },
  {
   "cell_type": "code",
   "execution_count": 21,
   "id": "723eb21e",
   "metadata": {
    "execution": {
     "iopub.execute_input": "2023-09-24T11:20:42.199086Z",
     "iopub.status.busy": "2023-09-24T11:20:42.198670Z",
     "iopub.status.idle": "2023-09-24T11:20:42.204271Z",
     "shell.execute_reply": "2023-09-24T11:20:42.202970Z"
    },
    "papermill": {
     "duration": 0.038099,
     "end_time": "2023-09-24T11:20:42.206898",
     "exception": false,
     "start_time": "2023-09-24T11:20:42.168799",
     "status": "completed"
    },
    "tags": []
   },
   "outputs": [],
   "source": [
    "# # Define parameter range\n",
    "# param_grid = {'C': [100,1000], \n",
    "#               'gamma': [ 0.1, 0.01],\n",
    "#               'kernel': ['rbf']}\n",
    "\n",
    "# # Create a SVM object\n",
    "# svc = SVC()\n",
    "\n",
    "# # Create GridSearchCV object\n",
    "# grid = GridSearchCV(svc, param_grid, cv=3, verbose=2)\n",
    "\n",
    "# # Fit the model for grid search\n",
    "# grid.fit(X_train_pca, y_train['label_1'])\n",
    "\n",
    "# # Get the best parameters\n",
    "# grid.best_params_"
   ]
  },
  {
   "cell_type": "code",
   "execution_count": 22,
   "id": "eb52f654",
   "metadata": {
    "collapsed": true,
    "execution": {
     "iopub.execute_input": "2023-09-24T11:20:42.268240Z",
     "iopub.status.busy": "2023-09-24T11:20:42.267859Z",
     "iopub.status.idle": "2023-09-24T11:20:42.273164Z",
     "shell.execute_reply": "2023-09-24T11:20:42.271951Z"
    },
    "jupyter": {
     "outputs_hidden": true
    },
    "papermill": {
     "duration": 0.038803,
     "end_time": "2023-09-24T11:20:42.275417",
     "exception": false,
     "start_time": "2023-09-24T11:20:42.236614",
     "status": "completed"
    },
    "tags": []
   },
   "outputs": [],
   "source": [
    "# # Create a CatBoostClassifier object\n",
    "# cb = CatBoostClassifier(depth=6, learning_rate=0.1, iterations=100,task_type=\"GPU\")\n",
    "\n",
    "# # Perform cross-validation and compute the mean score\n",
    "# mean_score = cross_val_score(cb, X_train_pca, y_train['label_1'], cv=3).mean()"
   ]
  },
  {
   "cell_type": "code",
   "execution_count": 23,
   "id": "eb64e668",
   "metadata": {
    "execution": {
     "iopub.execute_input": "2023-09-24T11:20:42.336510Z",
     "iopub.status.busy": "2023-09-24T11:20:42.336109Z",
     "iopub.status.idle": "2023-09-24T11:25:08.967634Z",
     "shell.execute_reply": "2023-09-24T11:25:08.966460Z"
    },
    "papermill": {
     "duration": 266.6951,
     "end_time": "2023-09-24T11:25:09.000150",
     "exception": false,
     "start_time": "2023-09-24T11:20:42.305050",
     "status": "completed"
    },
    "tags": []
   },
   "outputs": [
    {
     "data": {
      "text/plain": [
       "0.9050139438671847"
      ]
     },
     "execution_count": 23,
     "metadata": {},
     "output_type": "execute_result"
    }
   ],
   "source": [
    "cross_val_score(SVC(C=1000, gamma=0.01, kernel='rbf'), X_train_pca, y_train['label_1'], cv=3).mean()"
   ]
  },
  {
   "cell_type": "code",
   "execution_count": 24,
   "id": "7185489a",
   "metadata": {
    "execution": {
     "iopub.execute_input": "2023-09-24T11:25:09.061812Z",
     "iopub.status.busy": "2023-09-24T11:25:09.061105Z",
     "iopub.status.idle": "2023-09-24T11:28:56.848448Z",
     "shell.execute_reply": "2023-09-24T11:28:56.847611Z"
    },
    "id": "LtzImnGTLdOr",
    "papermill": {
     "duration": 227.850698,
     "end_time": "2023-09-24T11:28:56.880914",
     "exception": false,
     "start_time": "2023-09-24T11:25:09.030216",
     "status": "completed"
    },
    "tags": []
   },
   "outputs": [
    {
     "data": {
      "text/html": [
       "<style>#sk-container-id-1 {color: black;background-color: white;}#sk-container-id-1 pre{padding: 0;}#sk-container-id-1 div.sk-toggleable {background-color: white;}#sk-container-id-1 label.sk-toggleable__label {cursor: pointer;display: block;width: 100%;margin-bottom: 0;padding: 0.3em;box-sizing: border-box;text-align: center;}#sk-container-id-1 label.sk-toggleable__label-arrow:before {content: \"▸\";float: left;margin-right: 0.25em;color: #696969;}#sk-container-id-1 label.sk-toggleable__label-arrow:hover:before {color: black;}#sk-container-id-1 div.sk-estimator:hover label.sk-toggleable__label-arrow:before {color: black;}#sk-container-id-1 div.sk-toggleable__content {max-height: 0;max-width: 0;overflow: hidden;text-align: left;background-color: #f0f8ff;}#sk-container-id-1 div.sk-toggleable__content pre {margin: 0.2em;color: black;border-radius: 0.25em;background-color: #f0f8ff;}#sk-container-id-1 input.sk-toggleable__control:checked~div.sk-toggleable__content {max-height: 200px;max-width: 100%;overflow: auto;}#sk-container-id-1 input.sk-toggleable__control:checked~label.sk-toggleable__label-arrow:before {content: \"▾\";}#sk-container-id-1 div.sk-estimator input.sk-toggleable__control:checked~label.sk-toggleable__label {background-color: #d4ebff;}#sk-container-id-1 div.sk-label input.sk-toggleable__control:checked~label.sk-toggleable__label {background-color: #d4ebff;}#sk-container-id-1 input.sk-hidden--visually {border: 0;clip: rect(1px 1px 1px 1px);clip: rect(1px, 1px, 1px, 1px);height: 1px;margin: -1px;overflow: hidden;padding: 0;position: absolute;width: 1px;}#sk-container-id-1 div.sk-estimator {font-family: monospace;background-color: #f0f8ff;border: 1px dotted black;border-radius: 0.25em;box-sizing: border-box;margin-bottom: 0.5em;}#sk-container-id-1 div.sk-estimator:hover {background-color: #d4ebff;}#sk-container-id-1 div.sk-parallel-item::after {content: \"\";width: 100%;border-bottom: 1px solid gray;flex-grow: 1;}#sk-container-id-1 div.sk-label:hover label.sk-toggleable__label {background-color: #d4ebff;}#sk-container-id-1 div.sk-serial::before {content: \"\";position: absolute;border-left: 1px solid gray;box-sizing: border-box;top: 0;bottom: 0;left: 50%;z-index: 0;}#sk-container-id-1 div.sk-serial {display: flex;flex-direction: column;align-items: center;background-color: white;padding-right: 0.2em;padding-left: 0.2em;position: relative;}#sk-container-id-1 div.sk-item {position: relative;z-index: 1;}#sk-container-id-1 div.sk-parallel {display: flex;align-items: stretch;justify-content: center;background-color: white;position: relative;}#sk-container-id-1 div.sk-item::before, #sk-container-id-1 div.sk-parallel-item::before {content: \"\";position: absolute;border-left: 1px solid gray;box-sizing: border-box;top: 0;bottom: 0;left: 50%;z-index: -1;}#sk-container-id-1 div.sk-parallel-item {display: flex;flex-direction: column;z-index: 1;position: relative;background-color: white;}#sk-container-id-1 div.sk-parallel-item:first-child::after {align-self: flex-end;width: 50%;}#sk-container-id-1 div.sk-parallel-item:last-child::after {align-self: flex-start;width: 50%;}#sk-container-id-1 div.sk-parallel-item:only-child::after {width: 0;}#sk-container-id-1 div.sk-dashed-wrapped {border: 1px dashed gray;margin: 0 0.4em 0.5em 0.4em;box-sizing: border-box;padding-bottom: 0.4em;background-color: white;}#sk-container-id-1 div.sk-label label {font-family: monospace;font-weight: bold;display: inline-block;line-height: 1.2em;}#sk-container-id-1 div.sk-label-container {text-align: center;}#sk-container-id-1 div.sk-container {/* jupyter's `normalize.less` sets `[hidden] { display: none; }` but bootstrap.min.css set `[hidden] { display: none !important; }` so we also need the `!important` here to be able to override the default hidden behavior on the sphinx rendered scikit-learn.org. See: https://github.com/scikit-learn/scikit-learn/issues/21755 */display: inline-block !important;position: relative;}#sk-container-id-1 div.sk-text-repr-fallback {display: none;}</style><div id=\"sk-container-id-1\" class=\"sk-top-container\"><div class=\"sk-text-repr-fallback\"><pre>SVC(C=1000, gamma=0.01, probability=True)</pre><b>In a Jupyter environment, please rerun this cell to show the HTML representation or trust the notebook. <br />On GitHub, the HTML representation is unable to render, please try loading this page with nbviewer.org.</b></div><div class=\"sk-container\" hidden><div class=\"sk-item\"><div class=\"sk-estimator sk-toggleable\"><input class=\"sk-toggleable__control sk-hidden--visually\" id=\"sk-estimator-id-1\" type=\"checkbox\" checked><label for=\"sk-estimator-id-1\" class=\"sk-toggleable__label sk-toggleable__label-arrow\">SVC</label><div class=\"sk-toggleable__content\"><pre>SVC(C=1000, gamma=0.01, probability=True)</pre></div></div></div></div></div>"
      ],
      "text/plain": [
       "SVC(C=1000, gamma=0.01, probability=True)"
      ]
     },
     "execution_count": 24,
     "metadata": {},
     "output_type": "execute_result"
    }
   ],
   "source": [
    "best_model_label_1 = SVC(C=1000, gamma=0.01, kernel='rbf', probability=True)\n",
    "best_model_label_1.fit(X_train_pca, y_train['label_1'])"
   ]
  },
  {
   "cell_type": "code",
   "execution_count": 25,
   "id": "4f3c1baf",
   "metadata": {
    "execution": {
     "iopub.execute_input": "2023-09-24T11:28:56.943049Z",
     "iopub.status.busy": "2023-09-24T11:28:56.942351Z",
     "iopub.status.idle": "2023-09-24T11:29:03.622244Z",
     "shell.execute_reply": "2023-09-24T11:29:03.620908Z"
    },
    "papermill": {
     "duration": 6.714419,
     "end_time": "2023-09-24T11:29:03.625063",
     "exception": false,
     "start_time": "2023-09-24T11:28:56.910644",
     "status": "completed"
    },
    "tags": []
   },
   "outputs": [],
   "source": [
    "label_1_pred_after = best_model_label_1.predict(np.array(X_test_pca))"
   ]
  },
  {
   "cell_type": "markdown",
   "id": "563747f6",
   "metadata": {
    "id": "GwFcUdxixFuQ",
    "papermill": {
     "duration": 0.029277,
     "end_time": "2023-09-24T11:29:03.684257",
     "exception": false,
     "start_time": "2023-09-24T11:29:03.654980",
     "status": "completed"
    },
    "tags": []
   },
   "source": [
    "# Label 2"
   ]
  },
  {
   "cell_type": "code",
   "execution_count": 26,
   "id": "90d30564",
   "metadata": {
    "execution": {
     "iopub.execute_input": "2023-09-24T11:29:03.745394Z",
     "iopub.status.busy": "2023-09-24T11:29:03.744966Z",
     "iopub.status.idle": "2023-09-24T11:29:03.846828Z",
     "shell.execute_reply": "2023-09-24T11:29:03.845735Z"
    },
    "id": "GtQisDnnxG5q",
    "outputId": "b70c86e9-8808-4b90-e615-d6568b3e50f3",
    "papermill": {
     "duration": 0.13495,
     "end_time": "2023-09-24T11:29:03.849077",
     "exception": false,
     "start_time": "2023-09-24T11:29:03.714127",
     "status": "completed"
    },
    "tags": []
   },
   "outputs": [
    {
     "data": {
      "text/html": [
       "<div>\n",
       "<style scoped>\n",
       "    .dataframe tbody tr th:only-of-type {\n",
       "        vertical-align: middle;\n",
       "    }\n",
       "\n",
       "    .dataframe tbody tr th {\n",
       "        vertical-align: top;\n",
       "    }\n",
       "\n",
       "    .dataframe thead th {\n",
       "        text-align: right;\n",
       "    }\n",
       "</style>\n",
       "<table border=\"1\" class=\"dataframe\">\n",
       "  <thead>\n",
       "    <tr style=\"text-align: right;\">\n",
       "      <th></th>\n",
       "      <th>ID</th>\n",
       "      <th>feature_1</th>\n",
       "      <th>feature_2</th>\n",
       "      <th>feature_3</th>\n",
       "      <th>feature_4</th>\n",
       "      <th>feature_5</th>\n",
       "      <th>feature_6</th>\n",
       "      <th>feature_7</th>\n",
       "      <th>feature_8</th>\n",
       "      <th>feature_9</th>\n",
       "      <th>...</th>\n",
       "      <th>feature_759</th>\n",
       "      <th>feature_760</th>\n",
       "      <th>feature_761</th>\n",
       "      <th>feature_762</th>\n",
       "      <th>feature_763</th>\n",
       "      <th>feature_764</th>\n",
       "      <th>feature_765</th>\n",
       "      <th>feature_766</th>\n",
       "      <th>feature_767</th>\n",
       "      <th>feature_768</th>\n",
       "    </tr>\n",
       "  </thead>\n",
       "  <tbody>\n",
       "    <tr>\n",
       "      <th>0</th>\n",
       "      <td>1</td>\n",
       "      <td>0.124623</td>\n",
       "      <td>0.196628</td>\n",
       "      <td>0.257004</td>\n",
       "      <td>-0.156045</td>\n",
       "      <td>-0.054916</td>\n",
       "      <td>0.006071</td>\n",
       "      <td>-0.035149</td>\n",
       "      <td>-0.092019</td>\n",
       "      <td>-0.196302</td>\n",
       "      <td>...</td>\n",
       "      <td>-0.221466</td>\n",
       "      <td>0.140292</td>\n",
       "      <td>0.123622</td>\n",
       "      <td>-0.175572</td>\n",
       "      <td>-0.107030</td>\n",
       "      <td>-0.087621</td>\n",
       "      <td>-0.026501</td>\n",
       "      <td>0.139337</td>\n",
       "      <td>-0.083030</td>\n",
       "      <td>0.059507</td>\n",
       "    </tr>\n",
       "    <tr>\n",
       "      <th>1</th>\n",
       "      <td>2</td>\n",
       "      <td>0.109655</td>\n",
       "      <td>0.170158</td>\n",
       "      <td>0.227644</td>\n",
       "      <td>-0.127088</td>\n",
       "      <td>-0.044476</td>\n",
       "      <td>-0.046852</td>\n",
       "      <td>-0.090026</td>\n",
       "      <td>-0.061321</td>\n",
       "      <td>-0.227288</td>\n",
       "      <td>...</td>\n",
       "      <td>-0.204930</td>\n",
       "      <td>0.110203</td>\n",
       "      <td>0.085665</td>\n",
       "      <td>-0.286787</td>\n",
       "      <td>-0.113195</td>\n",
       "      <td>-0.057312</td>\n",
       "      <td>-0.055680</td>\n",
       "      <td>0.143939</td>\n",
       "      <td>-0.045760</td>\n",
       "      <td>0.106113</td>\n",
       "    </tr>\n",
       "    <tr>\n",
       "      <th>2</th>\n",
       "      <td>3</td>\n",
       "      <td>0.014854</td>\n",
       "      <td>0.030051</td>\n",
       "      <td>0.115092</td>\n",
       "      <td>-0.017179</td>\n",
       "      <td>0.002720</td>\n",
       "      <td>-0.011692</td>\n",
       "      <td>-0.078855</td>\n",
       "      <td>-0.042991</td>\n",
       "      <td>-0.096283</td>\n",
       "      <td>...</td>\n",
       "      <td>-0.032937</td>\n",
       "      <td>0.075821</td>\n",
       "      <td>0.030987</td>\n",
       "      <td>-0.149850</td>\n",
       "      <td>-0.003155</td>\n",
       "      <td>-0.010207</td>\n",
       "      <td>-0.001427</td>\n",
       "      <td>0.000934</td>\n",
       "      <td>-0.017069</td>\n",
       "      <td>0.048123</td>\n",
       "    </tr>\n",
       "    <tr>\n",
       "      <th>3</th>\n",
       "      <td>4</td>\n",
       "      <td>0.196893</td>\n",
       "      <td>0.113314</td>\n",
       "      <td>0.352175</td>\n",
       "      <td>-0.108499</td>\n",
       "      <td>-0.064472</td>\n",
       "      <td>-0.073239</td>\n",
       "      <td>-0.086402</td>\n",
       "      <td>0.008671</td>\n",
       "      <td>-0.342217</td>\n",
       "      <td>...</td>\n",
       "      <td>-0.255167</td>\n",
       "      <td>0.096579</td>\n",
       "      <td>0.069413</td>\n",
       "      <td>-0.215386</td>\n",
       "      <td>-0.075168</td>\n",
       "      <td>-0.035071</td>\n",
       "      <td>-0.023375</td>\n",
       "      <td>0.067768</td>\n",
       "      <td>-0.181530</td>\n",
       "      <td>0.174444</td>\n",
       "    </tr>\n",
       "    <tr>\n",
       "      <th>4</th>\n",
       "      <td>5</td>\n",
       "      <td>0.033004</td>\n",
       "      <td>0.013373</td>\n",
       "      <td>0.124001</td>\n",
       "      <td>-0.016143</td>\n",
       "      <td>0.010120</td>\n",
       "      <td>0.010635</td>\n",
       "      <td>-0.055789</td>\n",
       "      <td>-0.036282</td>\n",
       "      <td>-0.059422</td>\n",
       "      <td>...</td>\n",
       "      <td>-0.035814</td>\n",
       "      <td>0.093764</td>\n",
       "      <td>0.027321</td>\n",
       "      <td>-0.116009</td>\n",
       "      <td>0.010096</td>\n",
       "      <td>-0.042293</td>\n",
       "      <td>0.005347</td>\n",
       "      <td>0.007722</td>\n",
       "      <td>-0.007731</td>\n",
       "      <td>0.058799</td>\n",
       "    </tr>\n",
       "  </tbody>\n",
       "</table>\n",
       "<p>5 rows × 769 columns</p>\n",
       "</div>"
      ],
      "text/plain": [
       "   ID  feature_1  feature_2  feature_3  feature_4  feature_5  feature_6  \\\n",
       "0   1   0.124623   0.196628   0.257004  -0.156045  -0.054916   0.006071   \n",
       "1   2   0.109655   0.170158   0.227644  -0.127088  -0.044476  -0.046852   \n",
       "2   3   0.014854   0.030051   0.115092  -0.017179   0.002720  -0.011692   \n",
       "3   4   0.196893   0.113314   0.352175  -0.108499  -0.064472  -0.073239   \n",
       "4   5   0.033004   0.013373   0.124001  -0.016143   0.010120   0.010635   \n",
       "\n",
       "   feature_7  feature_8  feature_9  ...  feature_759  feature_760  \\\n",
       "0  -0.035149  -0.092019  -0.196302  ...    -0.221466     0.140292   \n",
       "1  -0.090026  -0.061321  -0.227288  ...    -0.204930     0.110203   \n",
       "2  -0.078855  -0.042991  -0.096283  ...    -0.032937     0.075821   \n",
       "3  -0.086402   0.008671  -0.342217  ...    -0.255167     0.096579   \n",
       "4  -0.055789  -0.036282  -0.059422  ...    -0.035814     0.093764   \n",
       "\n",
       "   feature_761  feature_762  feature_763  feature_764  feature_765  \\\n",
       "0     0.123622    -0.175572    -0.107030    -0.087621    -0.026501   \n",
       "1     0.085665    -0.286787    -0.113195    -0.057312    -0.055680   \n",
       "2     0.030987    -0.149850    -0.003155    -0.010207    -0.001427   \n",
       "3     0.069413    -0.215386    -0.075168    -0.035071    -0.023375   \n",
       "4     0.027321    -0.116009     0.010096    -0.042293     0.005347   \n",
       "\n",
       "   feature_766  feature_767  feature_768  \n",
       "0     0.139337    -0.083030     0.059507  \n",
       "1     0.143939    -0.045760     0.106113  \n",
       "2     0.000934    -0.017069     0.048123  \n",
       "3     0.067768    -0.181530     0.174444  \n",
       "4     0.007722    -0.007731     0.058799  \n",
       "\n",
       "[5 rows x 769 columns]"
      ]
     },
     "execution_count": 26,
     "metadata": {},
     "output_type": "execute_result"
    }
   ],
   "source": [
    "label_2_train = train.copy()\n",
    "label_2_valid = valid.copy()\n",
    "label_2_test = test.copy()\n",
    "label_2_test.head()"
   ]
  },
  {
   "cell_type": "code",
   "execution_count": 27,
   "id": "82b41853",
   "metadata": {
    "execution": {
     "iopub.execute_input": "2023-09-24T11:29:03.911917Z",
     "iopub.status.busy": "2023-09-24T11:29:03.911512Z",
     "iopub.status.idle": "2023-09-24T11:29:04.004724Z",
     "shell.execute_reply": "2023-09-24T11:29:04.003770Z"
    },
    "id": "vSmw8-OBxLl1",
    "papermill": {
     "duration": 0.127991,
     "end_time": "2023-09-24T11:29:04.007481",
     "exception": false,
     "start_time": "2023-09-24T11:29:03.879490",
     "status": "completed"
    },
    "tags": []
   },
   "outputs": [],
   "source": [
    "label_2_train = label_2_train.dropna(subset=['label_2'])\n",
    "label_2_valid = label_2_valid.dropna(subset=['label_2'])"
   ]
  },
  {
   "cell_type": "code",
   "execution_count": 28,
   "id": "fb250435",
   "metadata": {
    "execution": {
     "iopub.execute_input": "2023-09-24T11:29:04.070310Z",
     "iopub.status.busy": "2023-09-24T11:29:04.069043Z",
     "iopub.status.idle": "2023-09-24T11:29:04.134484Z",
     "shell.execute_reply": "2023-09-24T11:29:04.133236Z"
    },
    "id": "7MwepTX7xNJ7",
    "papermill": {
     "duration": 0.099565,
     "end_time": "2023-09-24T11:29:04.137286",
     "exception": false,
     "start_time": "2023-09-24T11:29:04.037721",
     "status": "completed"
    },
    "tags": []
   },
   "outputs": [],
   "source": [
    "X_train = label_2_train.iloc[:, :-4]\n",
    "y_train = label_2_train.iloc[:, -3:]\n",
    "X_val = label_2_valid.iloc[:, :-4]\n",
    "y_val = label_2_valid.iloc[:, -3:]\n",
    "X_test = label_2_test.iloc[:, 1:]"
   ]
  },
  {
   "cell_type": "code",
   "execution_count": 29,
   "id": "09bda148",
   "metadata": {
    "execution": {
     "iopub.execute_input": "2023-09-24T11:29:04.199491Z",
     "iopub.status.busy": "2023-09-24T11:29:04.199040Z",
     "iopub.status.idle": "2023-09-24T11:29:04.229845Z",
     "shell.execute_reply": "2023-09-24T11:29:04.228830Z"
    },
    "id": "aRm0rjoA4Kyp",
    "outputId": "60b9bd09-a054-457f-814b-72d8e1da3521",
    "papermill": {
     "duration": 0.064665,
     "end_time": "2023-09-24T11:29:04.232139",
     "exception": false,
     "start_time": "2023-09-24T11:29:04.167474",
     "status": "completed"
    },
    "tags": []
   },
   "outputs": [
    {
     "data": {
      "text/html": [
       "<div>\n",
       "<style scoped>\n",
       "    .dataframe tbody tr th:only-of-type {\n",
       "        vertical-align: middle;\n",
       "    }\n",
       "\n",
       "    .dataframe tbody tr th {\n",
       "        vertical-align: top;\n",
       "    }\n",
       "\n",
       "    .dataframe thead th {\n",
       "        text-align: right;\n",
       "    }\n",
       "</style>\n",
       "<table border=\"1\" class=\"dataframe\">\n",
       "  <thead>\n",
       "    <tr style=\"text-align: right;\">\n",
       "      <th></th>\n",
       "      <th>feature_1</th>\n",
       "      <th>feature_2</th>\n",
       "      <th>feature_3</th>\n",
       "      <th>feature_4</th>\n",
       "      <th>feature_5</th>\n",
       "      <th>feature_6</th>\n",
       "      <th>feature_7</th>\n",
       "      <th>feature_8</th>\n",
       "      <th>feature_9</th>\n",
       "      <th>feature_10</th>\n",
       "      <th>...</th>\n",
       "      <th>feature_759</th>\n",
       "      <th>feature_760</th>\n",
       "      <th>feature_761</th>\n",
       "      <th>feature_762</th>\n",
       "      <th>feature_763</th>\n",
       "      <th>feature_764</th>\n",
       "      <th>feature_765</th>\n",
       "      <th>feature_766</th>\n",
       "      <th>feature_767</th>\n",
       "      <th>feature_768</th>\n",
       "    </tr>\n",
       "  </thead>\n",
       "  <tbody>\n",
       "    <tr>\n",
       "      <th>0</th>\n",
       "      <td>0.124623</td>\n",
       "      <td>0.196628</td>\n",
       "      <td>0.257004</td>\n",
       "      <td>-0.156045</td>\n",
       "      <td>-0.054916</td>\n",
       "      <td>0.006071</td>\n",
       "      <td>-0.035149</td>\n",
       "      <td>-0.092019</td>\n",
       "      <td>-0.196302</td>\n",
       "      <td>0.077971</td>\n",
       "      <td>...</td>\n",
       "      <td>-0.221466</td>\n",
       "      <td>0.140292</td>\n",
       "      <td>0.123622</td>\n",
       "      <td>-0.175572</td>\n",
       "      <td>-0.107030</td>\n",
       "      <td>-0.087621</td>\n",
       "      <td>-0.026501</td>\n",
       "      <td>0.139337</td>\n",
       "      <td>-0.083030</td>\n",
       "      <td>0.059507</td>\n",
       "    </tr>\n",
       "    <tr>\n",
       "      <th>1</th>\n",
       "      <td>0.109655</td>\n",
       "      <td>0.170158</td>\n",
       "      <td>0.227644</td>\n",
       "      <td>-0.127088</td>\n",
       "      <td>-0.044476</td>\n",
       "      <td>-0.046852</td>\n",
       "      <td>-0.090026</td>\n",
       "      <td>-0.061321</td>\n",
       "      <td>-0.227288</td>\n",
       "      <td>0.066863</td>\n",
       "      <td>...</td>\n",
       "      <td>-0.204930</td>\n",
       "      <td>0.110203</td>\n",
       "      <td>0.085665</td>\n",
       "      <td>-0.286787</td>\n",
       "      <td>-0.113195</td>\n",
       "      <td>-0.057312</td>\n",
       "      <td>-0.055680</td>\n",
       "      <td>0.143939</td>\n",
       "      <td>-0.045760</td>\n",
       "      <td>0.106113</td>\n",
       "    </tr>\n",
       "    <tr>\n",
       "      <th>2</th>\n",
       "      <td>0.014854</td>\n",
       "      <td>0.030051</td>\n",
       "      <td>0.115092</td>\n",
       "      <td>-0.017179</td>\n",
       "      <td>0.002720</td>\n",
       "      <td>-0.011692</td>\n",
       "      <td>-0.078855</td>\n",
       "      <td>-0.042991</td>\n",
       "      <td>-0.096283</td>\n",
       "      <td>0.042701</td>\n",
       "      <td>...</td>\n",
       "      <td>-0.032937</td>\n",
       "      <td>0.075821</td>\n",
       "      <td>0.030987</td>\n",
       "      <td>-0.149850</td>\n",
       "      <td>-0.003155</td>\n",
       "      <td>-0.010207</td>\n",
       "      <td>-0.001427</td>\n",
       "      <td>0.000934</td>\n",
       "      <td>-0.017069</td>\n",
       "      <td>0.048123</td>\n",
       "    </tr>\n",
       "    <tr>\n",
       "      <th>3</th>\n",
       "      <td>0.196893</td>\n",
       "      <td>0.113314</td>\n",
       "      <td>0.352175</td>\n",
       "      <td>-0.108499</td>\n",
       "      <td>-0.064472</td>\n",
       "      <td>-0.073239</td>\n",
       "      <td>-0.086402</td>\n",
       "      <td>0.008671</td>\n",
       "      <td>-0.342217</td>\n",
       "      <td>0.104941</td>\n",
       "      <td>...</td>\n",
       "      <td>-0.255167</td>\n",
       "      <td>0.096579</td>\n",
       "      <td>0.069413</td>\n",
       "      <td>-0.215386</td>\n",
       "      <td>-0.075168</td>\n",
       "      <td>-0.035071</td>\n",
       "      <td>-0.023375</td>\n",
       "      <td>0.067768</td>\n",
       "      <td>-0.181530</td>\n",
       "      <td>0.174444</td>\n",
       "    </tr>\n",
       "    <tr>\n",
       "      <th>4</th>\n",
       "      <td>0.033004</td>\n",
       "      <td>0.013373</td>\n",
       "      <td>0.124001</td>\n",
       "      <td>-0.016143</td>\n",
       "      <td>0.010120</td>\n",
       "      <td>0.010635</td>\n",
       "      <td>-0.055789</td>\n",
       "      <td>-0.036282</td>\n",
       "      <td>-0.059422</td>\n",
       "      <td>0.060278</td>\n",
       "      <td>...</td>\n",
       "      <td>-0.035814</td>\n",
       "      <td>0.093764</td>\n",
       "      <td>0.027321</td>\n",
       "      <td>-0.116009</td>\n",
       "      <td>0.010096</td>\n",
       "      <td>-0.042293</td>\n",
       "      <td>0.005347</td>\n",
       "      <td>0.007722</td>\n",
       "      <td>-0.007731</td>\n",
       "      <td>0.058799</td>\n",
       "    </tr>\n",
       "  </tbody>\n",
       "</table>\n",
       "<p>5 rows × 768 columns</p>\n",
       "</div>"
      ],
      "text/plain": [
       "   feature_1  feature_2  feature_3  feature_4  feature_5  feature_6  \\\n",
       "0   0.124623   0.196628   0.257004  -0.156045  -0.054916   0.006071   \n",
       "1   0.109655   0.170158   0.227644  -0.127088  -0.044476  -0.046852   \n",
       "2   0.014854   0.030051   0.115092  -0.017179   0.002720  -0.011692   \n",
       "3   0.196893   0.113314   0.352175  -0.108499  -0.064472  -0.073239   \n",
       "4   0.033004   0.013373   0.124001  -0.016143   0.010120   0.010635   \n",
       "\n",
       "   feature_7  feature_8  feature_9  feature_10  ...  feature_759  feature_760  \\\n",
       "0  -0.035149  -0.092019  -0.196302    0.077971  ...    -0.221466     0.140292   \n",
       "1  -0.090026  -0.061321  -0.227288    0.066863  ...    -0.204930     0.110203   \n",
       "2  -0.078855  -0.042991  -0.096283    0.042701  ...    -0.032937     0.075821   \n",
       "3  -0.086402   0.008671  -0.342217    0.104941  ...    -0.255167     0.096579   \n",
       "4  -0.055789  -0.036282  -0.059422    0.060278  ...    -0.035814     0.093764   \n",
       "\n",
       "   feature_761  feature_762  feature_763  feature_764  feature_765  \\\n",
       "0     0.123622    -0.175572    -0.107030    -0.087621    -0.026501   \n",
       "1     0.085665    -0.286787    -0.113195    -0.057312    -0.055680   \n",
       "2     0.030987    -0.149850    -0.003155    -0.010207    -0.001427   \n",
       "3     0.069413    -0.215386    -0.075168    -0.035071    -0.023375   \n",
       "4     0.027321    -0.116009     0.010096    -0.042293     0.005347   \n",
       "\n",
       "   feature_766  feature_767  feature_768  \n",
       "0     0.139337    -0.083030     0.059507  \n",
       "1     0.143939    -0.045760     0.106113  \n",
       "2     0.000934    -0.017069     0.048123  \n",
       "3     0.067768    -0.181530     0.174444  \n",
       "4     0.007722    -0.007731     0.058799  \n",
       "\n",
       "[5 rows x 768 columns]"
      ]
     },
     "execution_count": 29,
     "metadata": {},
     "output_type": "execute_result"
    }
   ],
   "source": [
    "X_test.head()"
   ]
  },
  {
   "cell_type": "code",
   "execution_count": 30,
   "id": "4bc779a6",
   "metadata": {
    "execution": {
     "iopub.execute_input": "2023-09-24T11:29:04.296296Z",
     "iopub.status.busy": "2023-09-24T11:29:04.295511Z",
     "iopub.status.idle": "2023-09-24T11:29:04.729085Z",
     "shell.execute_reply": "2023-09-24T11:29:04.727966Z"
    },
    "id": "U2RC1kQOxWH1",
    "outputId": "b3e3e173-0333-4e2b-e824-b3898b0609b3",
    "papermill": {
     "duration": 0.468605,
     "end_time": "2023-09-24T11:29:04.731454",
     "exception": false,
     "start_time": "2023-09-24T11:29:04.262849",
     "status": "completed"
    },
    "tags": []
   },
   "outputs": [
    {
     "data": {
      "image/png": "[encoded data removed]",
      "text/plain": [
       "<Figure size 1800x600 with 1 Axes>"
      ]
     },
     "metadata": {},
     "output_type": "display_data"
    }
   ],
   "source": [
    "plt.figure(figsize=(18, 6))\n",
    "ax = sn.countplot(x=y_train['label_2'], color='teal')\n",
    "\n",
    "for p in ax.patches:\n",
    "    ax.annotate(f'{p.get_height()}', (p.get_x() + p.get_width() / 2., p.get_height()),\n",
    "                ha='center', va='bottom', fontsize=9, color='black')"
   ]
  },
  {
   "cell_type": "code",
   "execution_count": 31,
   "id": "3a38e7d8",
   "metadata": {
    "execution": {
     "iopub.execute_input": "2023-09-24T11:29:04.794636Z",
     "iopub.status.busy": "2023-09-24T11:29:04.794217Z",
     "iopub.status.idle": "2023-09-24T11:29:05.894573Z",
     "shell.execute_reply": "2023-09-24T11:29:05.893396Z"
    },
    "papermill": {
     "duration": 1.135447,
     "end_time": "2023-09-24T11:29:05.897424",
     "exception": false,
     "start_time": "2023-09-24T11:29:04.761977",
     "status": "completed"
    },
    "tags": []
   },
   "outputs": [],
   "source": [
    "ros = RandomOverSampler(random_state=0)\n",
    "X_train_resampled, y_train_resampled = ros.fit_resample(X_train, y_train['label_2'])"
   ]
  },
  {
   "cell_type": "code",
   "execution_count": 32,
   "id": "8488edd1",
   "metadata": {
    "execution": {
     "iopub.execute_input": "2023-09-24T11:29:05.962187Z",
     "iopub.status.busy": "2023-09-24T11:29:05.961779Z",
     "iopub.status.idle": "2023-09-24T11:29:06.405512Z",
     "shell.execute_reply": "2023-09-24T11:29:06.404324Z"
    },
    "papermill": {
     "duration": 0.479158,
     "end_time": "2023-09-24T11:29:06.407856",
     "exception": false,
     "start_time": "2023-09-24T11:29:05.928698",
     "status": "completed"
    },
    "tags": []
   },
   "outputs": [
    {
     "data": {
      "image/png": "[encoded data removed]",
      "text/plain": [
       "<Figure size 1800x600 with 1 Axes>"
      ]
     },
     "metadata": {},
     "output_type": "display_data"
    }
   ],
   "source": [
    "plt.figure(figsize=(18, 6))\n",
    "ax = sn.countplot(x=y_train_resampled, color='teal')\n",
    "\n",
    "for p in ax.patches:\n",
    "    ax.annotate(f'{p.get_height()}', (p.get_x() + p.get_width() / 2., p.get_height()),\n",
    "                ha='center', va='bottom', fontsize=9, color='black')"
   ]
  },
  {
   "cell_type": "code",
   "execution_count": 33,
   "id": "74019088",
   "metadata": {
    "execution": {
     "iopub.execute_input": "2023-09-24T11:29:06.472310Z",
     "iopub.status.busy": "2023-09-24T11:29:06.471592Z",
     "iopub.status.idle": "2023-09-24T11:29:09.584906Z",
     "shell.execute_reply": "2023-09-24T11:29:09.583762Z"
    },
    "papermill": {
     "duration": 3.148553,
     "end_time": "2023-09-24T11:29:09.587597",
     "exception": false,
     "start_time": "2023-09-24T11:29:06.439044",
     "status": "completed"
    },
    "tags": []
   },
   "outputs": [],
   "source": [
    "scaler = RobustScaler()\n",
    "X_train_scaled = scaler.fit_transform(X_train_resampled)\n",
    "X_val_scaled = scaler.transform(X_val)\n",
    "X_test_scaled = scaler.transform(X_test)"
   ]
  },
  {
   "cell_type": "code",
   "execution_count": 34,
   "id": "83d9bc60",
   "metadata": {
    "execution": {
     "iopub.execute_input": "2023-09-24T11:29:09.652645Z",
     "iopub.status.busy": "2023-09-24T11:29:09.652219Z",
     "iopub.status.idle": "2023-09-24T11:29:09.658997Z",
     "shell.execute_reply": "2023-09-24T11:29:09.657952Z"
    },
    "papermill": {
     "duration": 0.042145,
     "end_time": "2023-09-24T11:29:09.661229",
     "exception": false,
     "start_time": "2023-09-24T11:29:09.619084",
     "status": "completed"
    },
    "tags": []
   },
   "outputs": [
    {
     "data": {
      "text/plain": [
       "(80954, 768)"
      ]
     },
     "execution_count": 34,
     "metadata": {},
     "output_type": "execute_result"
    }
   ],
   "source": [
    "X_train_scaled.shape"
   ]
  },
  {
   "cell_type": "code",
   "execution_count": 35,
   "id": "7d77e978",
   "metadata": {
    "execution": {
     "iopub.execute_input": "2023-09-24T11:29:09.726925Z",
     "iopub.status.busy": "2023-09-24T11:29:09.726514Z",
     "iopub.status.idle": "2023-09-24T11:41:57.430072Z",
     "shell.execute_reply": "2023-09-24T11:41:57.428503Z"
    },
    "papermill": {
     "duration": 767.773197,
     "end_time": "2023-09-24T11:41:57.466060",
     "exception": false,
     "start_time": "2023-09-24T11:29:09.692863",
     "status": "completed"
    },
    "tags": []
   },
   "outputs": [
    {
     "name": "stdout",
     "output_type": "stream",
     "text": [
      "Accuracy: 11.55% in 767.6966035366058 secs\n"
     ]
    }
   ],
   "source": [
    "# accuracy with all the features\n",
    "#svm\n",
    "start_time = time.time()\n",
    "accuracy = svm_classifier(X_train_scaled, y_train_resampled, X_val, y_val['label_2'] )\n",
    "elapsed_time = time.time() - start_time\n",
    "print(f\"Accuracy: {accuracy * 100:.2f}% in {elapsed_time} secs\")"
   ]
  },
  {
   "cell_type": "code",
   "execution_count": 36,
   "id": "3f5f5129",
   "metadata": {
    "execution": {
     "iopub.execute_input": "2023-09-24T11:41:57.534924Z",
     "iopub.status.busy": "2023-09-24T11:41:57.534468Z",
     "iopub.status.idle": "2023-09-24T11:41:59.850847Z",
     "shell.execute_reply": "2023-09-24T11:41:59.849582Z"
    },
    "papermill": {
     "duration": 2.354272,
     "end_time": "2023-09-24T11:41:59.853341",
     "exception": false,
     "start_time": "2023-09-24T11:41:57.499069",
     "status": "completed"
    },
    "tags": []
   },
   "outputs": [
    {
     "name": "stdout",
     "output_type": "stream",
     "text": [
      "Accuracy: 11.14% in 2.309518575668335 secs\n"
     ]
    }
   ],
   "source": [
    "# accuracy with all the features\n",
    "#knn\n",
    "start_time = time.time()\n",
    "accuracy = knn_classifier(X_train_scaled, y_train_resampled, X_val, y_val['label_2'] )\n",
    "elapsed_time = time.time() - start_time\n",
    "print(f\"Accuracy: {accuracy * 100:.2f}% in {elapsed_time} secs\")"
   ]
  },
  {
   "cell_type": "code",
   "execution_count": 37,
   "id": "3e16fb0a",
   "metadata": {
    "execution": {
     "iopub.execute_input": "2023-09-24T11:41:59.921617Z",
     "iopub.status.busy": "2023-09-24T11:41:59.921093Z",
     "iopub.status.idle": "2023-09-24T11:42:22.271566Z",
     "shell.execute_reply": "2023-09-24T11:42:22.269449Z"
    },
    "papermill": {
     "duration": 22.39017,
     "end_time": "2023-09-24T11:42:22.276023",
     "exception": false,
     "start_time": "2023-09-24T11:41:59.885853",
     "status": "completed"
    },
    "tags": []
   },
   "outputs": [
    {
     "name": "stdout",
     "output_type": "stream",
     "text": [
      "Accuracy: 17.12% in 22.338536739349365 secs\n"
     ]
    }
   ],
   "source": [
    "# accuracy with all the features\n",
    "#logistic_regression_classifier\n",
    "start_time = time.time()\n",
    "accuracy = logistic_regression_classifier(X_train, y_train['label_2'], X_val, y_val['label_2'] )\n",
    "elapsed_time = time.time() - start_time\n",
    "print(f\"Accuracy: {accuracy * 100:.2f}% in {elapsed_time} secs\")"
   ]
  },
  {
   "cell_type": "code",
   "execution_count": 38,
   "id": "a72595b1",
   "metadata": {
    "execution": {
     "iopub.execute_input": "2023-09-24T11:42:22.393088Z",
     "iopub.status.busy": "2023-09-24T11:42:22.392517Z",
     "iopub.status.idle": "2023-09-24T11:42:33.170393Z",
     "shell.execute_reply": "2023-09-24T11:42:33.168702Z"
    },
    "papermill": {
     "duration": 10.833268,
     "end_time": "2023-09-24T11:42:33.175537",
     "exception": false,
     "start_time": "2023-09-24T11:42:22.342269",
     "status": "completed"
    },
    "tags": []
   },
   "outputs": [],
   "source": [
    "pca = PCA(n_components=0.98, svd_solver = 'full')\n",
    "X_train_pca = pca.fit_transform(X_train_scaled)\n",
    "X_val_pca = pca.transform(X_val)\n",
    "X_test_pca = pca.transform(X_test)"
   ]
  },
  {
   "cell_type": "code",
   "execution_count": 39,
   "id": "2e6f4fb8",
   "metadata": {
    "execution": {
     "iopub.execute_input": "2023-09-24T11:42:33.302566Z",
     "iopub.status.busy": "2023-09-24T11:42:33.302133Z",
     "iopub.status.idle": "2023-09-24T11:42:33.310464Z",
     "shell.execute_reply": "2023-09-24T11:42:33.309214Z"
    },
    "papermill": {
     "duration": 0.068243,
     "end_time": "2023-09-24T11:42:33.312938",
     "exception": false,
     "start_time": "2023-09-24T11:42:33.244695",
     "status": "completed"
    },
    "tags": []
   },
   "outputs": [
    {
     "data": {
      "text/plain": [
       "(80954, 274)"
      ]
     },
     "execution_count": 39,
     "metadata": {},
     "output_type": "execute_result"
    }
   ],
   "source": [
    "X_train_pca.shape"
   ]
  },
  {
   "cell_type": "code",
   "execution_count": 40,
   "id": "ccfa9f20",
   "metadata": {
    "execution": {
     "iopub.execute_input": "2023-09-24T11:42:33.382371Z",
     "iopub.status.busy": "2023-09-24T11:42:33.381956Z",
     "iopub.status.idle": "2023-09-24T11:42:33.386869Z",
     "shell.execute_reply": "2023-09-24T11:42:33.385964Z"
    },
    "papermill": {
     "duration": 0.0419,
     "end_time": "2023-09-24T11:42:33.389070",
     "exception": false,
     "start_time": "2023-09-24T11:42:33.347170",
     "status": "completed"
    },
    "tags": []
   },
   "outputs": [],
   "source": [
    "# # defining parameter range\n",
    "# param_grid = {'depth': [6, 8],\n",
    "#               'learning_rate' : [0.01, 0.05, 0.1],\n",
    "#               'iterations': [100]}\n",
    "\n",
    "# # Create a CatBoostClassifier object\n",
    "# cb = CatBoostClassifier(task_type=\"GPU\")\n",
    "\n",
    "# # Create GridSearchCV object\n",
    "# grid = GridSearchCV(cb, param_grid, cv=3, verbose=2)\n",
    "\n",
    "# # fitting the model for grid search\n",
    "# grid.fit(X_train_pca, y_train_resampled)\n",
    "\n",
    "# # get the best parameters\n",
    "# grid.best_params_"
   ]
  },
  {
   "cell_type": "code",
   "execution_count": 41,
   "id": "2f9f8389",
   "metadata": {
    "execution": {
     "iopub.execute_input": "2023-09-24T11:42:33.458837Z",
     "iopub.status.busy": "2023-09-24T11:42:33.457862Z",
     "iopub.status.idle": "2023-09-24T11:42:33.463667Z",
     "shell.execute_reply": "2023-09-24T11:42:33.462749Z"
    },
    "papermill": {
     "duration": 0.042513,
     "end_time": "2023-09-24T11:42:33.465772",
     "exception": false,
     "start_time": "2023-09-24T11:42:33.423259",
     "status": "completed"
    },
    "tags": []
   },
   "outputs": [],
   "source": [
    "# # Define parameter range\n",
    "# param_grid = {'C': [100,1000], \n",
    "#               'gamma': [ 0.1, 0.01],\n",
    "#               'kernel': ['rbf']}\n",
    "\n",
    "# # Create a SVM object\n",
    "# svc = SVC()\n",
    "\n",
    "# # Create GridSearchCV object\n",
    "# grid = GridSearchCV(svc, param_grid, cv=3, verbose=2)\n",
    "\n",
    "# # Fit the model for grid search\n",
    "# grid.fit(X_train_pca, y_train_resampled)\n",
    "\n",
    "# # Get the best parameters\n",
    "# grid.best_params_"
   ]
  },
  {
   "cell_type": "code",
   "execution_count": 42,
   "id": "1c9d8d28",
   "metadata": {
    "collapsed": true,
    "execution": {
     "iopub.execute_input": "2023-09-24T11:42:33.535154Z",
     "iopub.status.busy": "2023-09-24T11:42:33.534726Z",
     "iopub.status.idle": "2023-09-24T11:42:33.539665Z",
     "shell.execute_reply": "2023-09-24T11:42:33.538451Z"
    },
    "jupyter": {
     "outputs_hidden": true
    },
    "papermill": {
     "duration": 0.042375,
     "end_time": "2023-09-24T11:42:33.542200",
     "exception": false,
     "start_time": "2023-09-24T11:42:33.499825",
     "status": "completed"
    },
    "tags": []
   },
   "outputs": [],
   "source": [
    "# # Create a CatBoostClassifier object\n",
    "# cb = CatBoostClassifier(depth=8, learning_rate=0.1, iterations=100,task_type=\"GPU\")\n",
    "\n",
    "# # Perform cross-validation and compute the mean score\n",
    "# cross_val_score(cb, X_train_pca, y_train_resampled, cv=3).mean()"
   ]
  },
  {
   "cell_type": "code",
   "execution_count": 43,
   "id": "f5804540",
   "metadata": {
    "collapsed": true,
    "execution": {
     "iopub.execute_input": "2023-09-24T11:42:33.609836Z",
     "iopub.status.busy": "2023-09-24T11:42:33.609400Z",
     "iopub.status.idle": "2023-09-24T11:42:33.614593Z",
     "shell.execute_reply": "2023-09-24T11:42:33.613290Z"
    },
    "jupyter": {
     "outputs_hidden": true
    },
    "papermill": {
     "duration": 0.042269,
     "end_time": "2023-09-24T11:42:33.617143",
     "exception": false,
     "start_time": "2023-09-24T11:42:33.574874",
     "status": "completed"
    },
    "tags": []
   },
   "outputs": [],
   "source": [
    "# best_model_label_2 = CatBoostClassifier(depth=8, learning_rate=0.1, iterations=100,task_type=\"GPU\")\n",
    "# best_model_label_2.fit(X_train_pca, y_train_resampled)"
   ]
  },
  {
   "cell_type": "code",
   "execution_count": 44,
   "id": "d3a19067",
   "metadata": {
    "execution": {
     "iopub.execute_input": "2023-09-24T11:42:33.685012Z",
     "iopub.status.busy": "2023-09-24T11:42:33.684594Z",
     "iopub.status.idle": "2023-09-24T12:19:44.723790Z",
     "shell.execute_reply": "2023-09-24T12:19:44.722443Z"
    },
    "papermill": {
     "duration": 2231.108617,
     "end_time": "2023-09-24T12:19:44.758554",
     "exception": false,
     "start_time": "2023-09-24T11:42:33.649937",
     "status": "completed"
    },
    "tags": []
   },
   "outputs": [
    {
     "data": {
      "text/plain": [
       "0.9420042333730918"
      ]
     },
     "execution_count": 44,
     "metadata": {},
     "output_type": "execute_result"
    }
   ],
   "source": [
    "cross_val_score(SVC(C=1000, gamma=0.01, kernel='rbf'), X_train_pca, y_train_resampled, cv=3).mean()"
   ]
  },
  {
   "cell_type": "code",
   "execution_count": 45,
   "id": "b9685784",
   "metadata": {
    "execution": {
     "iopub.execute_input": "2023-09-24T12:19:44.828047Z",
     "iopub.status.busy": "2023-09-24T12:19:44.826667Z",
     "iopub.status.idle": "2023-09-24T13:24:44.735390Z",
     "shell.execute_reply": "2023-09-24T13:24:44.733907Z"
    },
    "papermill": {
     "duration": 3899.981037,
     "end_time": "2023-09-24T13:24:44.771842",
     "exception": false,
     "start_time": "2023-09-24T12:19:44.790805",
     "status": "completed"
    },
    "tags": []
   },
   "outputs": [
    {
     "data": {
      "text/html": [
       "<style>#sk-container-id-2 {color: black;background-color: white;}#sk-container-id-2 pre{padding: 0;}#sk-container-id-2 div.sk-toggleable {background-color: white;}#sk-container-id-2 label.sk-toggleable__label {cursor: pointer;display: block;width: 100%;margin-bottom: 0;padding: 0.3em;box-sizing: border-box;text-align: center;}#sk-container-id-2 label.sk-toggleable__label-arrow:before {content: \"▸\";float: left;margin-right: 0.25em;color: #696969;}#sk-container-id-2 label.sk-toggleable__label-arrow:hover:before {color: black;}#sk-container-id-2 div.sk-estimator:hover label.sk-toggleable__label-arrow:before {color: black;}#sk-container-id-2 div.sk-toggleable__content {max-height: 0;max-width: 0;overflow: hidden;text-align: left;background-color: #f0f8ff;}#sk-container-id-2 div.sk-toggleable__content pre {margin: 0.2em;color: black;border-radius: 0.25em;background-color: #f0f8ff;}#sk-container-id-2 input.sk-toggleable__control:checked~div.sk-toggleable__content {max-height: 200px;max-width: 100%;overflow: auto;}#sk-container-id-2 input.sk-toggleable__control:checked~label.sk-toggleable__label-arrow:before {content: \"▾\";}#sk-container-id-2 div.sk-estimator input.sk-toggleable__control:checked~label.sk-toggleable__label {background-color: #d4ebff;}#sk-container-id-2 div.sk-label input.sk-toggleable__control:checked~label.sk-toggleable__label {background-color: #d4ebff;}#sk-container-id-2 input.sk-hidden--visually {border: 0;clip: rect(1px 1px 1px 1px);clip: rect(1px, 1px, 1px, 1px);height: 1px;margin: -1px;overflow: hidden;padding: 0;position: absolute;width: 1px;}#sk-container-id-2 div.sk-estimator {font-family: monospace;background-color: #f0f8ff;border: 1px dotted black;border-radius: 0.25em;box-sizing: border-box;margin-bottom: 0.5em;}#sk-container-id-2 div.sk-estimator:hover {background-color: #d4ebff;}#sk-container-id-2 div.sk-parallel-item::after {content: \"\";width: 100%;border-bottom: 1px solid gray;flex-grow: 1;}#sk-container-id-2 div.sk-label:hover label.sk-toggleable__label {background-color: #d4ebff;}#sk-container-id-2 div.sk-serial::before {content: \"\";position: absolute;border-left: 1px solid gray;box-sizing: border-box;top: 0;bottom: 0;left: 50%;z-index: 0;}#sk-container-id-2 div.sk-serial {display: flex;flex-direction: column;align-items: center;background-color: white;padding-right: 0.2em;padding-left: 0.2em;position: relative;}#sk-container-id-2 div.sk-item {position: relative;z-index: 1;}#sk-container-id-2 div.sk-parallel {display: flex;align-items: stretch;justify-content: center;background-color: white;position: relative;}#sk-container-id-2 div.sk-item::before, #sk-container-id-2 div.sk-parallel-item::before {content: \"\";position: absolute;border-left: 1px solid gray;box-sizing: border-box;top: 0;bottom: 0;left: 50%;z-index: -1;}#sk-container-id-2 div.sk-parallel-item {display: flex;flex-direction: column;z-index: 1;position: relative;background-color: white;}#sk-container-id-2 div.sk-parallel-item:first-child::after {align-self: flex-end;width: 50%;}#sk-container-id-2 div.sk-parallel-item:last-child::after {align-self: flex-start;width: 50%;}#sk-container-id-2 div.sk-parallel-item:only-child::after {width: 0;}#sk-container-id-2 div.sk-dashed-wrapped {border: 1px dashed gray;margin: 0 0.4em 0.5em 0.4em;box-sizing: border-box;padding-bottom: 0.4em;background-color: white;}#sk-container-id-2 div.sk-label label {font-family: monospace;font-weight: bold;display: inline-block;line-height: 1.2em;}#sk-container-id-2 div.sk-label-container {text-align: center;}#sk-container-id-2 div.sk-container {/* jupyter's `normalize.less` sets `[hidden] { display: none; }` but bootstrap.min.css set `[hidden] { display: none !important; }` so we also need the `!important` here to be able to override the default hidden behavior on the sphinx rendered scikit-learn.org. See: https://github.com/scikit-learn/scikit-learn/issues/21755 */display: inline-block !important;position: relative;}#sk-container-id-2 div.sk-text-repr-fallback {display: none;}</style><div id=\"sk-container-id-2\" class=\"sk-top-container\"><div class=\"sk-text-repr-fallback\"><pre>SVC(C=1000, gamma=0.01, probability=True)</pre><b>In a Jupyter environment, please rerun this cell to show the HTML representation or trust the notebook. <br />On GitHub, the HTML representation is unable to render, please try loading this page with nbviewer.org.</b></div><div class=\"sk-container\" hidden><div class=\"sk-item\"><div class=\"sk-estimator sk-toggleable\"><input class=\"sk-toggleable__control sk-hidden--visually\" id=\"sk-estimator-id-2\" type=\"checkbox\" checked><label for=\"sk-estimator-id-2\" class=\"sk-toggleable__label sk-toggleable__label-arrow\">SVC</label><div class=\"sk-toggleable__content\"><pre>SVC(C=1000, gamma=0.01, probability=True)</pre></div></div></div></div></div>"
      ],
      "text/plain": [
       "SVC(C=1000, gamma=0.01, probability=True)"
      ]
     },
     "execution_count": 45,
     "metadata": {},
     "output_type": "execute_result"
    }
   ],
   "source": [
    "best_model_label_2 = SVC(C=1000, gamma=0.01, kernel='rbf', probability=True)\n",
    "best_model_label_2.fit(X_train_pca, y_train_resampled)"
   ]
  },
  {
   "cell_type": "code",
   "execution_count": 46,
   "id": "c93b77c4",
   "metadata": {
    "execution": {
     "iopub.execute_input": "2023-09-24T13:24:44.839590Z",
     "iopub.status.busy": "2023-09-24T13:24:44.839138Z",
     "iopub.status.idle": "2023-09-24T13:25:00.694022Z",
     "shell.execute_reply": "2023-09-24T13:25:00.692794Z"
    },
    "id": "xkphPt_NNVhE",
    "papermill": {
     "duration": 15.892382,
     "end_time": "2023-09-24T13:25:00.697029",
     "exception": false,
     "start_time": "2023-09-24T13:24:44.804647",
     "status": "completed"
    },
    "tags": []
   },
   "outputs": [],
   "source": [
    "label_2_pred_after = best_model_label_2.predict(np.array(X_test_pca))"
   ]
  },
  {
   "cell_type": "markdown",
   "id": "17f43f95",
   "metadata": {
    "id": "TydTj0m46IhP",
    "papermill": {
     "duration": 0.032824,
     "end_time": "2023-09-24T13:25:00.763130",
     "exception": false,
     "start_time": "2023-09-24T13:25:00.730306",
     "status": "completed"
    },
    "tags": []
   },
   "source": [
    "# Label 3"
   ]
  },
  {
   "cell_type": "code",
   "execution_count": 47,
   "id": "89658649",
   "metadata": {
    "execution": {
     "iopub.execute_input": "2023-09-24T13:25:00.832435Z",
     "iopub.status.busy": "2023-09-24T13:25:00.832035Z",
     "iopub.status.idle": "2023-09-24T13:25:00.911416Z",
     "shell.execute_reply": "2023-09-24T13:25:00.910337Z"
    },
    "id": "wG3uMumaE2yX",
    "papermill": {
     "duration": 0.118103,
     "end_time": "2023-09-24T13:25:00.914866",
     "exception": false,
     "start_time": "2023-09-24T13:25:00.796763",
     "status": "completed"
    },
    "tags": []
   },
   "outputs": [],
   "source": [
    "label_3_train = train.copy()\n",
    "label_3_valid = valid.copy()\n",
    "label_3_test = test.copy()"
   ]
  },
  {
   "cell_type": "code",
   "execution_count": 48,
   "id": "e4ee5dde",
   "metadata": {
    "execution": {
     "iopub.execute_input": "2023-09-24T13:25:00.985527Z",
     "iopub.status.busy": "2023-09-24T13:25:00.985115Z",
     "iopub.status.idle": "2023-09-24T13:25:01.206543Z",
     "shell.execute_reply": "2023-09-24T13:25:01.205443Z"
    },
    "id": "92vFvZzD-QiO",
    "papermill": {
     "duration": 0.260707,
     "end_time": "2023-09-24T13:25:01.209583",
     "exception": false,
     "start_time": "2023-09-24T13:25:00.948876",
     "status": "completed"
    },
    "tags": []
   },
   "outputs": [],
   "source": [
    "label_3_train = label_3_train.dropna(subset=['label_3'])\n",
    "label_3_valid = label_3_valid.dropna(subset=['label_3'])"
   ]
  },
  {
   "cell_type": "code",
   "execution_count": 49,
   "id": "f49e9b84",
   "metadata": {
    "execution": {
     "iopub.execute_input": "2023-09-24T13:25:01.278702Z",
     "iopub.status.busy": "2023-09-24T13:25:01.278275Z",
     "iopub.status.idle": "2023-09-24T13:25:01.351241Z",
     "shell.execute_reply": "2023-09-24T13:25:01.350049Z"
    },
    "id": "F_3iT0AW6KIQ",
    "papermill": {
     "duration": 0.110807,
     "end_time": "2023-09-24T13:25:01.353969",
     "exception": false,
     "start_time": "2023-09-24T13:25:01.243162",
     "status": "completed"
    },
    "tags": []
   },
   "outputs": [],
   "source": [
    "X_train = label_3_train.iloc[:, :-4]\n",
    "y_train = label_3_train.iloc[:, -2:]\n",
    "X_val = label_3_valid.iloc[:, :-4]\n",
    "y_val = label_3_valid.iloc[:, -2:]\n",
    "X_test = label_3_test.iloc[:, 1:]"
   ]
  },
  {
   "cell_type": "code",
   "execution_count": 50,
   "id": "89aeb411",
   "metadata": {
    "execution": {
     "iopub.execute_input": "2023-09-24T13:25:01.424609Z",
     "iopub.status.busy": "2023-09-24T13:25:01.424198Z",
     "iopub.status.idle": "2023-09-24T13:25:01.812518Z",
     "shell.execute_reply": "2023-09-24T13:25:01.810963Z"
    },
    "papermill": {
     "duration": 0.426486,
     "end_time": "2023-09-24T13:25:01.815293",
     "exception": false,
     "start_time": "2023-09-24T13:25:01.388807",
     "status": "completed"
    },
    "tags": []
   },
   "outputs": [
    {
     "data": {
      "text/plain": [
       "<Axes: xlabel='label_3', ylabel='Count'>"
      ]
     },
     "execution_count": 50,
     "metadata": {},
     "output_type": "execute_result"
    },
    {
     "data": {
      "image/png": "[encoded data removed]",
      "text/plain": [
       "<Figure size 1800x600 with 1 Axes>"
      ]
     },
     "metadata": {},
     "output_type": "display_data"
    }
   ],
   "source": [
    "plt.figure(figsize=(18, 6))\n",
    "sn.histplot(data=y_train, x='label_3', bins=20, kde=False)"
   ]
  },
  {
   "cell_type": "code",
   "execution_count": 51,
   "id": "00ae379a",
   "metadata": {
    "execution": {
     "iopub.execute_input": "2023-09-24T13:25:01.885456Z",
     "iopub.status.busy": "2023-09-24T13:25:01.884971Z",
     "iopub.status.idle": "2023-09-24T13:25:02.603890Z",
     "shell.execute_reply": "2023-09-24T13:25:02.602995Z"
    },
    "id": "ghG5Y5zC8ayf",
    "papermill": {
     "duration": 0.757314,
     "end_time": "2023-09-24T13:25:02.606734",
     "exception": false,
     "start_time": "2023-09-24T13:25:01.849420",
     "status": "completed"
    },
    "tags": []
   },
   "outputs": [],
   "source": [
    "ros = RandomOverSampler(random_state=0, sampling_strategy=0.75)\n",
    "X_train_resampled, y_train_resampled = ros.fit_resample(X_train, y_train['label_3'])"
   ]
  },
  {
   "cell_type": "code",
   "execution_count": 52,
   "id": "97a84390",
   "metadata": {
    "execution": {
     "iopub.execute_input": "2023-09-24T13:25:02.676036Z",
     "iopub.status.busy": "2023-09-24T13:25:02.675359Z",
     "iopub.status.idle": "2023-09-24T13:25:02.683621Z",
     "shell.execute_reply": "2023-09-24T13:25:02.682607Z"
    },
    "id": "CQHKH9HS9EqV",
    "outputId": "54788c7b-9da0-4f49-bce9-ef7824235968",
    "papermill": {
     "duration": 0.04505,
     "end_time": "2023-09-24T13:25:02.685722",
     "exception": false,
     "start_time": "2023-09-24T13:25:02.640672",
     "status": "completed"
    },
    "tags": []
   },
   "outputs": [
    {
     "data": {
      "text/plain": [
       "0        1\n",
       "1        1\n",
       "2        1\n",
       "3        1\n",
       "4        1\n",
       "        ..\n",
       "39888    0\n",
       "39889    0\n",
       "39890    0\n",
       "39891    0\n",
       "39892    0\n",
       "Name: label_3, Length: 39893, dtype: int64"
      ]
     },
     "execution_count": 52,
     "metadata": {},
     "output_type": "execute_result"
    }
   ],
   "source": [
    "y_train_resampled"
   ]
  },
  {
   "cell_type": "code",
   "execution_count": 53,
   "id": "20401c08",
   "metadata": {
    "execution": {
     "iopub.execute_input": "2023-09-24T13:25:02.757543Z",
     "iopub.status.busy": "2023-09-24T13:25:02.757084Z",
     "iopub.status.idle": "2023-09-24T13:25:03.002760Z",
     "shell.execute_reply": "2023-09-24T13:25:03.001303Z"
    },
    "id": "pF0BFRqG6qje",
    "outputId": "786a6fc8-680f-4772-9e6e-69be06652924",
    "papermill": {
     "duration": 0.284146,
     "end_time": "2023-09-24T13:25:03.006711",
     "exception": false,
     "start_time": "2023-09-24T13:25:02.722565",
     "status": "completed"
    },
    "tags": []
   },
   "outputs": [
    {
     "data": {
      "image/png": "[encoded data removed]",
      "text/plain": [
       "<Figure size 640x480 with 1 Axes>"
      ]
     },
     "metadata": {},
     "output_type": "display_data"
    }
   ],
   "source": [
    "ax = sn.countplot(x=y_train_resampled)\n",
    "\n",
    "for p in ax.patches:\n",
    "    ax.annotate(f'{p.get_height()}', (p.get_x() + p.get_width() / 2., p.get_height()),\n",
    "                ha='center', va='bottom', fontsize=9, color='black')"
   ]
  },
  {
   "cell_type": "code",
   "execution_count": 54,
   "id": "2ed2f9ef",
   "metadata": {
    "execution": {
     "iopub.execute_input": "2023-09-24T13:25:03.080286Z",
     "iopub.status.busy": "2023-09-24T13:25:03.079856Z",
     "iopub.status.idle": "2023-09-24T13:26:39.467213Z",
     "shell.execute_reply": "2023-09-24T13:26:39.465719Z"
    },
    "id": "Y1PVSyc86vlE",
    "outputId": "e0d0077b-cbba-4cd4-a0dd-fc4fe928fda6",
    "papermill": {
     "duration": 96.465564,
     "end_time": "2023-09-24T13:26:39.508878",
     "exception": false,
     "start_time": "2023-09-24T13:25:03.043314",
     "status": "completed"
    },
    "tags": []
   },
   "outputs": [
    {
     "name": "stdout",
     "output_type": "stream",
     "text": [
      "Accuracy: 85.73% in 96.37975192070007 secs\n"
     ]
    }
   ],
   "source": [
    "# accuracy with all the features\n",
    "#svm\n",
    "start_time = time.time()\n",
    "accuracy = svm_classifier(X_train_resampled, y_train_resampled, X_val, y_val['label_3'] )\n",
    "elapsed_time = time.time() - start_time\n",
    "print(f\"Accuracy: {accuracy * 100:.2f}% in {elapsed_time} secs\")"
   ]
  },
  {
   "cell_type": "code",
   "execution_count": 55,
   "id": "e1e9b490",
   "metadata": {
    "execution": {
     "iopub.execute_input": "2023-09-24T13:26:39.580427Z",
     "iopub.status.busy": "2023-09-24T13:26:39.579979Z",
     "iopub.status.idle": "2023-09-24T13:26:40.908129Z",
     "shell.execute_reply": "2023-09-24T13:26:40.906675Z"
    },
    "id": "J7kg_NhO7AHg",
    "outputId": "291ba539-4614-46e7-f62d-07cd23926c4b",
    "papermill": {
     "duration": 1.366678,
     "end_time": "2023-09-24T13:26:40.910861",
     "exception": false,
     "start_time": "2023-09-24T13:26:39.544183",
     "status": "completed"
    },
    "tags": []
   },
   "outputs": [
    {
     "name": "stdout",
     "output_type": "stream",
     "text": [
      "Accuracy: 78.80% in 1.3212523460388184 secs\n"
     ]
    }
   ],
   "source": [
    "# accuracy with all the features\n",
    "#knn\n",
    "start_time = time.time()\n",
    "accuracy = knn_classifier(X_train_resampled, y_train_resampled, X_val, y_val['label_3'] )\n",
    "elapsed_time = time.time() - start_time\n",
    "print(f\"Accuracy: {accuracy * 100:.2f}% in {elapsed_time} secs\")"
   ]
  },
  {
   "cell_type": "code",
   "execution_count": 56,
   "id": "a4a87d11",
   "metadata": {
    "execution": {
     "iopub.execute_input": "2023-09-24T13:26:40.983260Z",
     "iopub.status.busy": "2023-09-24T13:26:40.982843Z",
     "iopub.status.idle": "2023-09-24T13:26:45.731606Z",
     "shell.execute_reply": "2023-09-24T13:26:45.730147Z"
    },
    "id": "R3DzhmGK7JBp",
    "outputId": "2d9137e8-9119-44e7-8bab-c7caa11ed50a",
    "papermill": {
     "duration": 4.789726,
     "end_time": "2023-09-24T13:26:45.735990",
     "exception": false,
     "start_time": "2023-09-24T13:26:40.946264",
     "status": "completed"
    },
    "tags": []
   },
   "outputs": [
    {
     "name": "stdout",
     "output_type": "stream",
     "text": [
      "Accuracy: 88.27% in 4.740875482559204 secs\n"
     ]
    }
   ],
   "source": [
    "# accuracy with all the features\n",
    "#logistic_regression_classifier\n",
    "start_time = time.time()\n",
    "accuracy = logistic_regression_classifier(X_train_resampled, y_train_resampled, X_val, y_val['label_3'] )\n",
    "elapsed_time = time.time() - start_time\n",
    "print(f\"Accuracy: {accuracy * 100:.2f}% in {elapsed_time} secs\")"
   ]
  },
  {
   "cell_type": "code",
   "execution_count": 57,
   "id": "2d1daa20",
   "metadata": {
    "collapsed": true,
    "execution": {
     "iopub.execute_input": "2023-09-24T13:26:45.864170Z",
     "iopub.status.busy": "2023-09-24T13:26:45.863730Z",
     "iopub.status.idle": "2023-09-24T13:30:10.568727Z",
     "shell.execute_reply": "2023-09-24T13:30:10.567104Z"
    },
    "jupyter": {
     "outputs_hidden": true
    },
    "papermill": {
     "duration": 204.762642,
     "end_time": "2023-09-24T13:30:10.571356",
     "exception": false,
     "start_time": "2023-09-24T13:26:45.808714",
     "status": "completed"
    },
    "tags": []
   },
   "outputs": [
    {
     "name": "stdout",
     "output_type": "stream",
     "text": [
      "Learning rate set to 0.049718\n",
      "0:\tlearn: 0.6624670\ttotal: 343ms\tremaining: 5m 42s\n",
      "1:\tlearn: 0.6361635\ttotal: 571ms\tremaining: 4m 45s\n",
      "2:\tlearn: 0.6124126\ttotal: 796ms\tremaining: 4m 24s\n",
      "3:\tlearn: 0.5909694\ttotal: 1.01s\tremaining: 4m 12s\n",
      "4:\tlearn: 0.5702891\ttotal: 1.24s\tremaining: 4m 5s\n",
      "5:\tlearn: 0.5522890\ttotal: 1.46s\tremaining: 4m 2s\n",
      "6:\tlearn: 0.5347580\ttotal: 1.7s\tremaining: 4m\n",
      "7:\tlearn: 0.5204252\ttotal: 1.91s\tremaining: 3m 57s\n",
      "8:\tlearn: 0.5051076\ttotal: 2.13s\tremaining: 3m 55s\n",
      "9:\tlearn: 0.4889241\ttotal: 2.36s\tremaining: 3m 53s\n",
      "10:\tlearn: 0.4755858\ttotal: 2.56s\tremaining: 3m 50s\n",
      "11:\tlearn: 0.4627174\ttotal: 2.79s\tremaining: 3m 49s\n",
      "12:\tlearn: 0.4518939\ttotal: 3.01s\tremaining: 3m 48s\n",
      "13:\tlearn: 0.4411343\ttotal: 3.23s\tremaining: 3m 47s\n",
      "14:\tlearn: 0.4315392\ttotal: 3.47s\tremaining: 3m 47s\n",
      "15:\tlearn: 0.4217272\ttotal: 3.69s\tremaining: 3m 47s\n",
      "16:\tlearn: 0.4120089\ttotal: 3.92s\tremaining: 3m 46s\n",
      "17:\tlearn: 0.4025341\ttotal: 4.14s\tremaining: 3m 45s\n",
      "18:\tlearn: 0.3944356\ttotal: 4.35s\tremaining: 3m 44s\n",
      "19:\tlearn: 0.3849413\ttotal: 4.57s\tremaining: 3m 43s\n",
      "20:\tlearn: 0.3774516\ttotal: 4.79s\tremaining: 3m 43s\n",
      "21:\tlearn: 0.3710114\ttotal: 5.02s\tremaining: 3m 43s\n",
      "22:\tlearn: 0.3644817\ttotal: 5.24s\tremaining: 3m 42s\n",
      "23:\tlearn: 0.3572930\ttotal: 5.5s\tremaining: 3m 43s\n",
      "24:\tlearn: 0.3504046\ttotal: 5.71s\tremaining: 3m 42s\n",
      "25:\tlearn: 0.3442568\ttotal: 5.92s\tremaining: 3m 41s\n",
      "26:\tlearn: 0.3383270\ttotal: 6.15s\tremaining: 3m 41s\n",
      "27:\tlearn: 0.3328035\ttotal: 6.38s\tremaining: 3m 41s\n",
      "28:\tlearn: 0.3281263\ttotal: 6.6s\tremaining: 3m 41s\n",
      "29:\tlearn: 0.3236487\ttotal: 6.82s\tremaining: 3m 40s\n",
      "30:\tlearn: 0.3186090\ttotal: 7.04s\tremaining: 3m 40s\n",
      "31:\tlearn: 0.3142570\ttotal: 7.25s\tremaining: 3m 39s\n",
      "32:\tlearn: 0.3094769\ttotal: 7.46s\tremaining: 3m 38s\n",
      "33:\tlearn: 0.3053645\ttotal: 7.67s\tremaining: 3m 38s\n",
      "34:\tlearn: 0.3014070\ttotal: 7.89s\tremaining: 3m 37s\n",
      "35:\tlearn: 0.2978016\ttotal: 8.1s\tremaining: 3m 36s\n",
      "36:\tlearn: 0.2936561\ttotal: 8.32s\tremaining: 3m 36s\n",
      "37:\tlearn: 0.2897620\ttotal: 8.53s\tremaining: 3m 36s\n",
      "38:\tlearn: 0.2861970\ttotal: 8.74s\tremaining: 3m 35s\n",
      "39:\tlearn: 0.2825397\ttotal: 8.96s\tremaining: 3m 35s\n",
      "40:\tlearn: 0.2790292\ttotal: 9.19s\tremaining: 3m 34s\n",
      "41:\tlearn: 0.2747761\ttotal: 9.41s\tremaining: 3m 34s\n",
      "42:\tlearn: 0.2711315\ttotal: 9.63s\tremaining: 3m 34s\n",
      "43:\tlearn: 0.2673499\ttotal: 9.82s\tremaining: 3m 33s\n",
      "44:\tlearn: 0.2642583\ttotal: 10s\tremaining: 3m 32s\n",
      "45:\tlearn: 0.2612607\ttotal: 10.3s\tremaining: 3m 32s\n",
      "46:\tlearn: 0.2583697\ttotal: 10.4s\tremaining: 3m 31s\n",
      "47:\tlearn: 0.2556863\ttotal: 10.7s\tremaining: 3m 31s\n",
      "48:\tlearn: 0.2528524\ttotal: 10.9s\tremaining: 3m 31s\n",
      "49:\tlearn: 0.2499776\ttotal: 11.1s\tremaining: 3m 30s\n",
      "50:\tlearn: 0.2472296\ttotal: 11.3s\tremaining: 3m 30s\n",
      "51:\tlearn: 0.2447048\ttotal: 11.5s\tremaining: 3m 29s\n",
      "52:\tlearn: 0.2420557\ttotal: 11.7s\tremaining: 3m 29s\n",
      "53:\tlearn: 0.2396930\ttotal: 11.9s\tremaining: 3m 29s\n",
      "54:\tlearn: 0.2368720\ttotal: 12.1s\tremaining: 3m 28s\n",
      "55:\tlearn: 0.2345588\ttotal: 12.4s\tremaining: 3m 28s\n",
      "56:\tlearn: 0.2322850\ttotal: 12.6s\tremaining: 3m 27s\n",
      "57:\tlearn: 0.2302972\ttotal: 12.8s\tremaining: 3m 27s\n",
      "58:\tlearn: 0.2279438\ttotal: 13s\tremaining: 3m 27s\n",
      "59:\tlearn: 0.2256395\ttotal: 13.2s\tremaining: 3m 26s\n",
      "60:\tlearn: 0.2234947\ttotal: 13.4s\tremaining: 3m 26s\n",
      "61:\tlearn: 0.2216353\ttotal: 13.6s\tremaining: 3m 25s\n",
      "62:\tlearn: 0.2192967\ttotal: 13.8s\tremaining: 3m 25s\n",
      "63:\tlearn: 0.2168796\ttotal: 14s\tremaining: 3m 25s\n",
      "64:\tlearn: 0.2149890\ttotal: 14.3s\tremaining: 3m 25s\n",
      "65:\tlearn: 0.2129954\ttotal: 14.5s\tremaining: 3m 25s\n",
      "66:\tlearn: 0.2109047\ttotal: 14.7s\tremaining: 3m 24s\n",
      "67:\tlearn: 0.2088837\ttotal: 14.9s\tremaining: 3m 24s\n",
      "68:\tlearn: 0.2072182\ttotal: 15.1s\tremaining: 3m 24s\n",
      "69:\tlearn: 0.2050015\ttotal: 15.4s\tremaining: 3m 24s\n",
      "70:\tlearn: 0.2031982\ttotal: 15.6s\tremaining: 3m 24s\n",
      "71:\tlearn: 0.2013203\ttotal: 15.8s\tremaining: 3m 24s\n",
      "72:\tlearn: 0.1993053\ttotal: 16.1s\tremaining: 3m 23s\n",
      "73:\tlearn: 0.1973453\ttotal: 16.3s\tremaining: 3m 23s\n",
      "74:\tlearn: 0.1956336\ttotal: 16.5s\tremaining: 3m 23s\n",
      "75:\tlearn: 0.1941218\ttotal: 16.7s\tremaining: 3m 23s\n",
      "76:\tlearn: 0.1928335\ttotal: 16.9s\tremaining: 3m 22s\n",
      "77:\tlearn: 0.1911313\ttotal: 17.1s\tremaining: 3m 22s\n",
      "78:\tlearn: 0.1895636\ttotal: 17.4s\tremaining: 3m 22s\n",
      "79:\tlearn: 0.1880572\ttotal: 17.6s\tremaining: 3m 22s\n",
      "80:\tlearn: 0.1866309\ttotal: 17.8s\tremaining: 3m 21s\n",
      "81:\tlearn: 0.1852464\ttotal: 18s\tremaining: 3m 21s\n",
      "82:\tlearn: 0.1838525\ttotal: 18.2s\tremaining: 3m 21s\n",
      "83:\tlearn: 0.1823150\ttotal: 18.4s\tremaining: 3m 20s\n",
      "84:\tlearn: 0.1810964\ttotal: 18.6s\tremaining: 3m 20s\n",
      "85:\tlearn: 0.1797074\ttotal: 18.8s\tremaining: 3m 20s\n",
      "86:\tlearn: 0.1782392\ttotal: 19s\tremaining: 3m 19s\n",
      "87:\tlearn: 0.1770720\ttotal: 19.2s\tremaining: 3m 19s\n",
      "88:\tlearn: 0.1756631\ttotal: 19.4s\tremaining: 3m 19s\n",
      "89:\tlearn: 0.1744439\ttotal: 19.7s\tremaining: 3m 18s\n",
      "90:\tlearn: 0.1732395\ttotal: 19.8s\tremaining: 3m 18s\n",
      "91:\tlearn: 0.1719304\ttotal: 20s\tremaining: 3m 17s\n",
      "92:\tlearn: 0.1707877\ttotal: 20.2s\tremaining: 3m 17s\n",
      "93:\tlearn: 0.1694737\ttotal: 20.4s\tremaining: 3m 17s\n",
      "94:\tlearn: 0.1681546\ttotal: 20.7s\tremaining: 3m 16s\n",
      "95:\tlearn: 0.1666916\ttotal: 20.9s\tremaining: 3m 16s\n",
      "96:\tlearn: 0.1655117\ttotal: 21.1s\tremaining: 3m 16s\n",
      "97:\tlearn: 0.1642742\ttotal: 21.3s\tremaining: 3m 15s\n",
      "98:\tlearn: 0.1630182\ttotal: 21.5s\tremaining: 3m 15s\n",
      "99:\tlearn: 0.1619671\ttotal: 21.7s\tremaining: 3m 15s\n",
      "100:\tlearn: 0.1607487\ttotal: 21.9s\tremaining: 3m 14s\n",
      "101:\tlearn: 0.1597854\ttotal: 22.1s\tremaining: 3m 14s\n",
      "102:\tlearn: 0.1587768\ttotal: 22.3s\tremaining: 3m 13s\n",
      "103:\tlearn: 0.1578477\ttotal: 22.5s\tremaining: 3m 14s\n",
      "104:\tlearn: 0.1568300\ttotal: 22.8s\tremaining: 3m 14s\n",
      "105:\tlearn: 0.1558260\ttotal: 23.1s\tremaining: 3m 14s\n",
      "106:\tlearn: 0.1547957\ttotal: 23.3s\tremaining: 3m 14s\n",
      "107:\tlearn: 0.1538161\ttotal: 23.6s\tremaining: 3m 14s\n",
      "108:\tlearn: 0.1527555\ttotal: 23.9s\tremaining: 3m 15s\n",
      "109:\tlearn: 0.1518547\ttotal: 24.1s\tremaining: 3m 14s\n",
      "110:\tlearn: 0.1507851\ttotal: 24.3s\tremaining: 3m 14s\n",
      "111:\tlearn: 0.1498229\ttotal: 24.5s\tremaining: 3m 14s\n",
      "112:\tlearn: 0.1489382\ttotal: 24.7s\tremaining: 3m 13s\n",
      "113:\tlearn: 0.1479521\ttotal: 24.9s\tremaining: 3m 13s\n",
      "114:\tlearn: 0.1470230\ttotal: 25.1s\tremaining: 3m 13s\n",
      "115:\tlearn: 0.1460191\ttotal: 25.4s\tremaining: 3m 13s\n",
      "116:\tlearn: 0.1452040\ttotal: 25.6s\tremaining: 3m 12s\n",
      "117:\tlearn: 0.1445248\ttotal: 25.8s\tremaining: 3m 12s\n",
      "118:\tlearn: 0.1435132\ttotal: 26s\tremaining: 3m 12s\n",
      "119:\tlearn: 0.1427456\ttotal: 26.2s\tremaining: 3m 11s\n",
      "120:\tlearn: 0.1419574\ttotal: 26.4s\tremaining: 3m 11s\n",
      "121:\tlearn: 0.1411709\ttotal: 26.5s\tremaining: 3m 11s\n",
      "122:\tlearn: 0.1404374\ttotal: 26.7s\tremaining: 3m 10s\n",
      "123:\tlearn: 0.1396057\ttotal: 27s\tremaining: 3m 10s\n",
      "124:\tlearn: 0.1387444\ttotal: 27.2s\tremaining: 3m 10s\n",
      "125:\tlearn: 0.1379120\ttotal: 27.4s\tremaining: 3m 9s\n",
      "126:\tlearn: 0.1370470\ttotal: 27.6s\tremaining: 3m 9s\n",
      "127:\tlearn: 0.1361886\ttotal: 27.8s\tremaining: 3m 9s\n",
      "128:\tlearn: 0.1353814\ttotal: 28s\tremaining: 3m 8s\n",
      "129:\tlearn: 0.1346904\ttotal: 28.2s\tremaining: 3m 8s\n",
      "130:\tlearn: 0.1339046\ttotal: 28.4s\tremaining: 3m 8s\n",
      "131:\tlearn: 0.1332017\ttotal: 28.6s\tremaining: 3m 7s\n",
      "132:\tlearn: 0.1323077\ttotal: 28.8s\tremaining: 3m 7s\n",
      "133:\tlearn: 0.1317686\ttotal: 29s\tremaining: 3m 7s\n",
      "134:\tlearn: 0.1308468\ttotal: 29.2s\tremaining: 3m 7s\n",
      "135:\tlearn: 0.1300788\ttotal: 29.4s\tremaining: 3m 6s\n",
      "136:\tlearn: 0.1293353\ttotal: 29.6s\tremaining: 3m 6s\n",
      "137:\tlearn: 0.1286274\ttotal: 29.9s\tremaining: 3m 6s\n",
      "138:\tlearn: 0.1278986\ttotal: 30.1s\tremaining: 3m 6s\n",
      "139:\tlearn: 0.1271059\ttotal: 30.2s\tremaining: 3m 5s\n",
      "140:\tlearn: 0.1264728\ttotal: 30.4s\tremaining: 3m 5s\n",
      "141:\tlearn: 0.1258332\ttotal: 30.6s\tremaining: 3m 5s\n",
      "142:\tlearn: 0.1251313\ttotal: 30.8s\tremaining: 3m 4s\n",
      "143:\tlearn: 0.1244805\ttotal: 31s\tremaining: 3m 4s\n",
      "144:\tlearn: 0.1237053\ttotal: 31.2s\tremaining: 3m 4s\n",
      "145:\tlearn: 0.1229499\ttotal: 31.4s\tremaining: 3m 3s\n",
      "146:\tlearn: 0.1223747\ttotal: 31.6s\tremaining: 3m 3s\n",
      "147:\tlearn: 0.1216638\ttotal: 31.8s\tremaining: 3m 3s\n",
      "148:\tlearn: 0.1208426\ttotal: 32s\tremaining: 3m 2s\n",
      "149:\tlearn: 0.1200897\ttotal: 32.2s\tremaining: 3m 2s\n",
      "150:\tlearn: 0.1194331\ttotal: 32.4s\tremaining: 3m 2s\n",
      "151:\tlearn: 0.1187824\ttotal: 32.7s\tremaining: 3m 2s\n",
      "152:\tlearn: 0.1181605\ttotal: 32.8s\tremaining: 3m 1s\n",
      "153:\tlearn: 0.1175469\ttotal: 33s\tremaining: 3m 1s\n",
      "154:\tlearn: 0.1169259\ttotal: 33.2s\tremaining: 3m 1s\n",
      "155:\tlearn: 0.1162436\ttotal: 33.5s\tremaining: 3m 1s\n",
      "156:\tlearn: 0.1156847\ttotal: 33.7s\tremaining: 3m\n",
      "157:\tlearn: 0.1150561\ttotal: 33.9s\tremaining: 3m\n",
      "158:\tlearn: 0.1144254\ttotal: 34.1s\tremaining: 3m\n",
      "159:\tlearn: 0.1137286\ttotal: 34.3s\tremaining: 3m\n",
      "160:\tlearn: 0.1130660\ttotal: 34.5s\tremaining: 2m 59s\n",
      "161:\tlearn: 0.1124837\ttotal: 34.7s\tremaining: 2m 59s\n",
      "162:\tlearn: 0.1119741\ttotal: 34.9s\tremaining: 2m 59s\n",
      "163:\tlearn: 0.1113206\ttotal: 35.1s\tremaining: 2m 58s\n",
      "164:\tlearn: 0.1108326\ttotal: 35.3s\tremaining: 2m 58s\n",
      "165:\tlearn: 0.1101336\ttotal: 35.5s\tremaining: 2m 58s\n",
      "166:\tlearn: 0.1095093\ttotal: 35.8s\tremaining: 2m 58s\n",
      "167:\tlearn: 0.1089951\ttotal: 36s\tremaining: 2m 58s\n",
      "168:\tlearn: 0.1084591\ttotal: 36.2s\tremaining: 2m 57s\n",
      "169:\tlearn: 0.1078672\ttotal: 36.3s\tremaining: 2m 57s\n",
      "170:\tlearn: 0.1073160\ttotal: 36.5s\tremaining: 2m 57s\n",
      "171:\tlearn: 0.1066953\ttotal: 36.7s\tremaining: 2m 56s\n",
      "172:\tlearn: 0.1061497\ttotal: 36.9s\tremaining: 2m 56s\n",
      "173:\tlearn: 0.1055967\ttotal: 37.2s\tremaining: 2m 56s\n",
      "174:\tlearn: 0.1052204\ttotal: 37.3s\tremaining: 2m 55s\n",
      "175:\tlearn: 0.1047665\ttotal: 37.5s\tremaining: 2m 55s\n",
      "176:\tlearn: 0.1041948\ttotal: 37.7s\tremaining: 2m 55s\n",
      "177:\tlearn: 0.1036760\ttotal: 37.9s\tremaining: 2m 55s\n",
      "178:\tlearn: 0.1031053\ttotal: 38.1s\tremaining: 2m 54s\n",
      "179:\tlearn: 0.1026249\ttotal: 38.3s\tremaining: 2m 54s\n",
      "180:\tlearn: 0.1021312\ttotal: 38.5s\tremaining: 2m 54s\n",
      "181:\tlearn: 0.1015947\ttotal: 38.7s\tremaining: 2m 53s\n",
      "182:\tlearn: 0.1011972\ttotal: 38.9s\tremaining: 2m 53s\n",
      "183:\tlearn: 0.1006381\ttotal: 39.1s\tremaining: 2m 53s\n",
      "184:\tlearn: 0.1000645\ttotal: 39.3s\tremaining: 2m 53s\n",
      "185:\tlearn: 0.0994636\ttotal: 39.5s\tremaining: 2m 52s\n",
      "186:\tlearn: 0.0989496\ttotal: 39.7s\tremaining: 2m 52s\n",
      "187:\tlearn: 0.0985345\ttotal: 39.9s\tremaining: 2m 52s\n",
      "188:\tlearn: 0.0981414\ttotal: 40.1s\tremaining: 2m 52s\n",
      "189:\tlearn: 0.0976601\ttotal: 40.3s\tremaining: 2m 51s\n",
      "190:\tlearn: 0.0971626\ttotal: 40.5s\tremaining: 2m 51s\n",
      "191:\tlearn: 0.0966619\ttotal: 40.7s\tremaining: 2m 51s\n",
      "192:\tlearn: 0.0962294\ttotal: 40.9s\tremaining: 2m 51s\n",
      "193:\tlearn: 0.0957216\ttotal: 41.1s\tremaining: 2m 50s\n",
      "194:\tlearn: 0.0952181\ttotal: 41.3s\tremaining: 2m 50s\n",
      "195:\tlearn: 0.0947176\ttotal: 41.5s\tremaining: 2m 50s\n",
      "196:\tlearn: 0.0942831\ttotal: 41.7s\tremaining: 2m 50s\n",
      "197:\tlearn: 0.0937261\ttotal: 41.9s\tremaining: 2m 49s\n",
      "198:\tlearn: 0.0932087\ttotal: 42.1s\tremaining: 2m 49s\n",
      "199:\tlearn: 0.0927742\ttotal: 42.3s\tremaining: 2m 49s\n",
      "200:\tlearn: 0.0921713\ttotal: 42.5s\tremaining: 2m 48s\n",
      "201:\tlearn: 0.0917107\ttotal: 42.7s\tremaining: 2m 48s\n",
      "202:\tlearn: 0.0913392\ttotal: 42.9s\tremaining: 2m 48s\n",
      "203:\tlearn: 0.0909470\ttotal: 43.1s\tremaining: 2m 48s\n",
      "204:\tlearn: 0.0904352\ttotal: 43.3s\tremaining: 2m 47s\n",
      "205:\tlearn: 0.0900034\ttotal: 43.5s\tremaining: 2m 47s\n",
      "206:\tlearn: 0.0896590\ttotal: 43.7s\tremaining: 2m 47s\n",
      "207:\tlearn: 0.0892376\ttotal: 43.9s\tremaining: 2m 47s\n",
      "208:\tlearn: 0.0888264\ttotal: 44.1s\tremaining: 2m 46s\n",
      "209:\tlearn: 0.0883998\ttotal: 44.3s\tremaining: 2m 46s\n",
      "210:\tlearn: 0.0879520\ttotal: 44.4s\tremaining: 2m 46s\n",
      "211:\tlearn: 0.0874718\ttotal: 44.7s\tremaining: 2m 45s\n",
      "212:\tlearn: 0.0871111\ttotal: 44.9s\tremaining: 2m 45s\n",
      "213:\tlearn: 0.0866592\ttotal: 45.1s\tremaining: 2m 45s\n",
      "214:\tlearn: 0.0861697\ttotal: 45.4s\tremaining: 2m 45s\n",
      "215:\tlearn: 0.0856997\ttotal: 45.6s\tremaining: 2m 45s\n",
      "216:\tlearn: 0.0852454\ttotal: 45.8s\tremaining: 2m 45s\n",
      "217:\tlearn: 0.0848868\ttotal: 46s\tremaining: 2m 44s\n",
      "218:\tlearn: 0.0844316\ttotal: 46.2s\tremaining: 2m 44s\n",
      "219:\tlearn: 0.0840408\ttotal: 46.4s\tremaining: 2m 44s\n",
      "220:\tlearn: 0.0836570\ttotal: 46.5s\tremaining: 2m 44s\n",
      "221:\tlearn: 0.0832663\ttotal: 46.7s\tremaining: 2m 43s\n",
      "222:\tlearn: 0.0829814\ttotal: 46.9s\tremaining: 2m 43s\n",
      "223:\tlearn: 0.0824953\ttotal: 47.1s\tremaining: 2m 43s\n",
      "224:\tlearn: 0.0821965\ttotal: 47.3s\tremaining: 2m 42s\n",
      "225:\tlearn: 0.0817770\ttotal: 47.5s\tremaining: 2m 42s\n",
      "226:\tlearn: 0.0813684\ttotal: 47.7s\tremaining: 2m 42s\n",
      "227:\tlearn: 0.0809154\ttotal: 47.9s\tremaining: 2m 42s\n",
      "228:\tlearn: 0.0805475\ttotal: 48.1s\tremaining: 2m 41s\n",
      "229:\tlearn: 0.0802738\ttotal: 48.3s\tremaining: 2m 41s\n",
      "230:\tlearn: 0.0798411\ttotal: 48.5s\tremaining: 2m 41s\n",
      "231:\tlearn: 0.0794671\ttotal: 48.7s\tremaining: 2m 41s\n",
      "232:\tlearn: 0.0790610\ttotal: 48.9s\tremaining: 2m 41s\n",
      "233:\tlearn: 0.0786149\ttotal: 49.1s\tremaining: 2m 40s\n",
      "234:\tlearn: 0.0782171\ttotal: 49.3s\tremaining: 2m 40s\n",
      "235:\tlearn: 0.0778361\ttotal: 49.5s\tremaining: 2m 40s\n",
      "236:\tlearn: 0.0775147\ttotal: 49.7s\tremaining: 2m 40s\n",
      "237:\tlearn: 0.0771374\ttotal: 49.9s\tremaining: 2m 39s\n",
      "238:\tlearn: 0.0767423\ttotal: 50.1s\tremaining: 2m 39s\n",
      "239:\tlearn: 0.0763802\ttotal: 50.3s\tremaining: 2m 39s\n",
      "240:\tlearn: 0.0759676\ttotal: 50.5s\tremaining: 2m 39s\n",
      "241:\tlearn: 0.0755655\ttotal: 50.7s\tremaining: 2m 38s\n",
      "242:\tlearn: 0.0752222\ttotal: 50.9s\tremaining: 2m 38s\n",
      "243:\tlearn: 0.0748590\ttotal: 51.1s\tremaining: 2m 38s\n",
      "244:\tlearn: 0.0744164\ttotal: 51.3s\tremaining: 2m 38s\n",
      "245:\tlearn: 0.0741473\ttotal: 51.5s\tremaining: 2m 37s\n",
      "246:\tlearn: 0.0737953\ttotal: 51.7s\tremaining: 2m 37s\n",
      "247:\tlearn: 0.0734527\ttotal: 51.9s\tremaining: 2m 37s\n",
      "248:\tlearn: 0.0731559\ttotal: 52.1s\tremaining: 2m 37s\n",
      "249:\tlearn: 0.0728249\ttotal: 52.3s\tremaining: 2m 36s\n",
      "250:\tlearn: 0.0724758\ttotal: 52.5s\tremaining: 2m 36s\n",
      "251:\tlearn: 0.0721876\ttotal: 52.6s\tremaining: 2m 36s\n",
      "252:\tlearn: 0.0718290\ttotal: 52.9s\tremaining: 2m 36s\n",
      "253:\tlearn: 0.0714809\ttotal: 53.1s\tremaining: 2m 35s\n",
      "254:\tlearn: 0.0710817\ttotal: 53.3s\tremaining: 2m 35s\n",
      "255:\tlearn: 0.0707335\ttotal: 53.4s\tremaining: 2m 35s\n",
      "256:\tlearn: 0.0703963\ttotal: 53.6s\tremaining: 2m 35s\n",
      "257:\tlearn: 0.0700645\ttotal: 53.8s\tremaining: 2m 34s\n",
      "258:\tlearn: 0.0697342\ttotal: 54s\tremaining: 2m 34s\n",
      "259:\tlearn: 0.0693776\ttotal: 54.3s\tremaining: 2m 34s\n",
      "260:\tlearn: 0.0690412\ttotal: 54.5s\tremaining: 2m 34s\n",
      "261:\tlearn: 0.0687056\ttotal: 54.8s\tremaining: 2m 34s\n",
      "262:\tlearn: 0.0683868\ttotal: 55.1s\tremaining: 2m 34s\n",
      "263:\tlearn: 0.0681044\ttotal: 55.4s\tremaining: 2m 34s\n",
      "264:\tlearn: 0.0677645\ttotal: 55.6s\tremaining: 2m 34s\n",
      "265:\tlearn: 0.0674680\ttotal: 55.9s\tremaining: 2m 34s\n",
      "266:\tlearn: 0.0671430\ttotal: 56.1s\tremaining: 2m 33s\n",
      "267:\tlearn: 0.0668150\ttotal: 56.2s\tremaining: 2m 33s\n",
      "268:\tlearn: 0.0664477\ttotal: 56.5s\tremaining: 2m 33s\n",
      "269:\tlearn: 0.0661661\ttotal: 56.7s\tremaining: 2m 33s\n",
      "270:\tlearn: 0.0658786\ttotal: 56.8s\tremaining: 2m 32s\n",
      "271:\tlearn: 0.0656228\ttotal: 57s\tremaining: 2m 32s\n",
      "272:\tlearn: 0.0652950\ttotal: 57.2s\tremaining: 2m 32s\n",
      "273:\tlearn: 0.0649659\ttotal: 57.4s\tremaining: 2m 32s\n",
      "274:\tlearn: 0.0646623\ttotal: 57.6s\tremaining: 2m 31s\n",
      "275:\tlearn: 0.0643099\ttotal: 57.8s\tremaining: 2m 31s\n",
      "276:\tlearn: 0.0640098\ttotal: 58s\tremaining: 2m 31s\n",
      "277:\tlearn: 0.0636892\ttotal: 58.2s\tremaining: 2m 31s\n",
      "278:\tlearn: 0.0632667\ttotal: 58.5s\tremaining: 2m 31s\n",
      "279:\tlearn: 0.0630480\ttotal: 58.7s\tremaining: 2m 30s\n",
      "280:\tlearn: 0.0627534\ttotal: 58.9s\tremaining: 2m 30s\n",
      "281:\tlearn: 0.0624320\ttotal: 59.1s\tremaining: 2m 30s\n",
      "282:\tlearn: 0.0621691\ttotal: 59.3s\tremaining: 2m 30s\n",
      "283:\tlearn: 0.0618559\ttotal: 59.5s\tremaining: 2m 30s\n",
      "284:\tlearn: 0.0616078\ttotal: 59.7s\tremaining: 2m 29s\n",
      "285:\tlearn: 0.0612714\ttotal: 59.9s\tremaining: 2m 29s\n",
      "286:\tlearn: 0.0610212\ttotal: 1m\tremaining: 2m 29s\n",
      "287:\tlearn: 0.0607978\ttotal: 1m\tremaining: 2m 29s\n",
      "288:\tlearn: 0.0604741\ttotal: 1m\tremaining: 2m 28s\n",
      "289:\tlearn: 0.0601903\ttotal: 1m\tremaining: 2m 28s\n",
      "290:\tlearn: 0.0599196\ttotal: 1m\tremaining: 2m 28s\n",
      "291:\tlearn: 0.0596321\ttotal: 1m 1s\tremaining: 2m 27s\n",
      "292:\tlearn: 0.0593189\ttotal: 1m 1s\tremaining: 2m 27s\n",
      "293:\tlearn: 0.0590341\ttotal: 1m 1s\tremaining: 2m 27s\n",
      "294:\tlearn: 0.0587456\ttotal: 1m 1s\tremaining: 2m 27s\n",
      "295:\tlearn: 0.0584885\ttotal: 1m 1s\tremaining: 2m 27s\n",
      "296:\tlearn: 0.0582233\ttotal: 1m 2s\tremaining: 2m 26s\n",
      "297:\tlearn: 0.0579669\ttotal: 1m 2s\tremaining: 2m 26s\n",
      "298:\tlearn: 0.0576908\ttotal: 1m 2s\tremaining: 2m 26s\n",
      "299:\tlearn: 0.0573715\ttotal: 1m 2s\tremaining: 2m 26s\n",
      "300:\tlearn: 0.0570871\ttotal: 1m 2s\tremaining: 2m 25s\n",
      "301:\tlearn: 0.0568914\ttotal: 1m 3s\tremaining: 2m 25s\n",
      "302:\tlearn: 0.0566295\ttotal: 1m 3s\tremaining: 2m 25s\n",
      "303:\tlearn: 0.0563741\ttotal: 1m 3s\tremaining: 2m 25s\n",
      "304:\tlearn: 0.0561545\ttotal: 1m 3s\tremaining: 2m 24s\n",
      "305:\tlearn: 0.0559051\ttotal: 1m 3s\tremaining: 2m 24s\n",
      "306:\tlearn: 0.0556123\ttotal: 1m 4s\tremaining: 2m 24s\n",
      "307:\tlearn: 0.0553770\ttotal: 1m 4s\tremaining: 2m 24s\n",
      "308:\tlearn: 0.0551734\ttotal: 1m 4s\tremaining: 2m 24s\n",
      "309:\tlearn: 0.0549694\ttotal: 1m 4s\tremaining: 2m 23s\n",
      "310:\tlearn: 0.0547681\ttotal: 1m 4s\tremaining: 2m 23s\n",
      "311:\tlearn: 0.0544765\ttotal: 1m 4s\tremaining: 2m 23s\n",
      "312:\tlearn: 0.0542117\ttotal: 1m 5s\tremaining: 2m 23s\n",
      "313:\tlearn: 0.0539973\ttotal: 1m 5s\tremaining: 2m 22s\n",
      "314:\tlearn: 0.0537192\ttotal: 1m 5s\tremaining: 2m 22s\n",
      "315:\tlearn: 0.0534615\ttotal: 1m 5s\tremaining: 2m 22s\n",
      "316:\tlearn: 0.0532372\ttotal: 1m 5s\tremaining: 2m 22s\n",
      "317:\tlearn: 0.0530610\ttotal: 1m 6s\tremaining: 2m 21s\n",
      "318:\tlearn: 0.0528701\ttotal: 1m 6s\tremaining: 2m 21s\n",
      "319:\tlearn: 0.0525891\ttotal: 1m 6s\tremaining: 2m 21s\n",
      "320:\tlearn: 0.0523696\ttotal: 1m 6s\tremaining: 2m 21s\n",
      "321:\tlearn: 0.0521004\ttotal: 1m 7s\tremaining: 2m 21s\n",
      "322:\tlearn: 0.0518999\ttotal: 1m 7s\tremaining: 2m 20s\n",
      "323:\tlearn: 0.0516577\ttotal: 1m 7s\tremaining: 2m 20s\n",
      "324:\tlearn: 0.0514515\ttotal: 1m 7s\tremaining: 2m 20s\n",
      "325:\tlearn: 0.0512718\ttotal: 1m 7s\tremaining: 2m 20s\n",
      "326:\tlearn: 0.0510497\ttotal: 1m 7s\tremaining: 2m 19s\n",
      "327:\tlearn: 0.0508846\ttotal: 1m 8s\tremaining: 2m 19s\n",
      "328:\tlearn: 0.0506163\ttotal: 1m 8s\tremaining: 2m 19s\n",
      "329:\tlearn: 0.0504030\ttotal: 1m 8s\tremaining: 2m 19s\n",
      "330:\tlearn: 0.0502358\ttotal: 1m 8s\tremaining: 2m 18s\n",
      "331:\tlearn: 0.0500610\ttotal: 1m 8s\tremaining: 2m 18s\n",
      "332:\tlearn: 0.0498302\ttotal: 1m 9s\tremaining: 2m 18s\n",
      "333:\tlearn: 0.0496270\ttotal: 1m 9s\tremaining: 2m 18s\n",
      "334:\tlearn: 0.0494779\ttotal: 1m 9s\tremaining: 2m 17s\n",
      "335:\tlearn: 0.0493312\ttotal: 1m 9s\tremaining: 2m 17s\n",
      "336:\tlearn: 0.0491772\ttotal: 1m 9s\tremaining: 2m 17s\n",
      "337:\tlearn: 0.0489582\ttotal: 1m 10s\tremaining: 2m 17s\n",
      "338:\tlearn: 0.0487604\ttotal: 1m 10s\tremaining: 2m 17s\n",
      "339:\tlearn: 0.0485358\ttotal: 1m 10s\tremaining: 2m 16s\n",
      "340:\tlearn: 0.0483029\ttotal: 1m 10s\tremaining: 2m 16s\n",
      "341:\tlearn: 0.0481096\ttotal: 1m 10s\tremaining: 2m 16s\n",
      "342:\tlearn: 0.0478821\ttotal: 1m 11s\tremaining: 2m 16s\n",
      "343:\tlearn: 0.0477212\ttotal: 1m 11s\tremaining: 2m 16s\n",
      "344:\tlearn: 0.0474882\ttotal: 1m 11s\tremaining: 2m 15s\n",
      "345:\tlearn: 0.0472830\ttotal: 1m 11s\tremaining: 2m 15s\n",
      "346:\tlearn: 0.0471166\ttotal: 1m 11s\tremaining: 2m 15s\n",
      "347:\tlearn: 0.0469275\ttotal: 1m 12s\tremaining: 2m 15s\n",
      "348:\tlearn: 0.0467051\ttotal: 1m 12s\tremaining: 2m 14s\n",
      "349:\tlearn: 0.0465530\ttotal: 1m 12s\tremaining: 2m 14s\n",
      "350:\tlearn: 0.0463303\ttotal: 1m 12s\tremaining: 2m 14s\n",
      "351:\tlearn: 0.0461277\ttotal: 1m 12s\tremaining: 2m 14s\n",
      "352:\tlearn: 0.0459960\ttotal: 1m 13s\tremaining: 2m 14s\n",
      "353:\tlearn: 0.0457587\ttotal: 1m 13s\tremaining: 2m 13s\n",
      "354:\tlearn: 0.0455450\ttotal: 1m 13s\tremaining: 2m 13s\n",
      "355:\tlearn: 0.0453696\ttotal: 1m 13s\tremaining: 2m 13s\n",
      "356:\tlearn: 0.0452320\ttotal: 1m 13s\tremaining: 2m 13s\n",
      "357:\tlearn: 0.0450273\ttotal: 1m 14s\tremaining: 2m 12s\n",
      "358:\tlearn: 0.0448218\ttotal: 1m 14s\tremaining: 2m 12s\n",
      "359:\tlearn: 0.0446006\ttotal: 1m 14s\tremaining: 2m 12s\n",
      "360:\tlearn: 0.0444378\ttotal: 1m 14s\tremaining: 2m 12s\n",
      "361:\tlearn: 0.0442793\ttotal: 1m 14s\tremaining: 2m 12s\n",
      "362:\tlearn: 0.0440787\ttotal: 1m 15s\tremaining: 2m 11s\n",
      "363:\tlearn: 0.0438960\ttotal: 1m 15s\tremaining: 2m 11s\n",
      "364:\tlearn: 0.0437171\ttotal: 1m 15s\tremaining: 2m 11s\n",
      "365:\tlearn: 0.0435203\ttotal: 1m 15s\tremaining: 2m 11s\n",
      "366:\tlearn: 0.0433270\ttotal: 1m 16s\tremaining: 2m 11s\n",
      "367:\tlearn: 0.0431341\ttotal: 1m 16s\tremaining: 2m 10s\n",
      "368:\tlearn: 0.0429437\ttotal: 1m 16s\tremaining: 2m 10s\n",
      "369:\tlearn: 0.0427662\ttotal: 1m 16s\tremaining: 2m 10s\n",
      "370:\tlearn: 0.0426069\ttotal: 1m 16s\tremaining: 2m 10s\n",
      "371:\tlearn: 0.0424331\ttotal: 1m 17s\tremaining: 2m 10s\n",
      "372:\tlearn: 0.0422732\ttotal: 1m 17s\tremaining: 2m 9s\n",
      "373:\tlearn: 0.0421033\ttotal: 1m 17s\tremaining: 2m 9s\n",
      "374:\tlearn: 0.0419481\ttotal: 1m 17s\tremaining: 2m 9s\n",
      "375:\tlearn: 0.0418326\ttotal: 1m 17s\tremaining: 2m 9s\n",
      "376:\tlearn: 0.0416746\ttotal: 1m 17s\tremaining: 2m 8s\n",
      "377:\tlearn: 0.0415469\ttotal: 1m 18s\tremaining: 2m 8s\n",
      "378:\tlearn: 0.0413582\ttotal: 1m 18s\tremaining: 2m 8s\n",
      "379:\tlearn: 0.0411835\ttotal: 1m 18s\tremaining: 2m 8s\n",
      "380:\tlearn: 0.0410354\ttotal: 1m 18s\tremaining: 2m 7s\n",
      "381:\tlearn: 0.0408800\ttotal: 1m 18s\tremaining: 2m 7s\n",
      "382:\tlearn: 0.0406610\ttotal: 1m 19s\tremaining: 2m 7s\n",
      "383:\tlearn: 0.0405133\ttotal: 1m 19s\tremaining: 2m 7s\n",
      "384:\tlearn: 0.0403330\ttotal: 1m 19s\tremaining: 2m 7s\n",
      "385:\tlearn: 0.0401739\ttotal: 1m 19s\tremaining: 2m 6s\n",
      "386:\tlearn: 0.0400197\ttotal: 1m 19s\tremaining: 2m 6s\n",
      "387:\tlearn: 0.0398617\ttotal: 1m 20s\tremaining: 2m 6s\n",
      "388:\tlearn: 0.0396923\ttotal: 1m 20s\tremaining: 2m 6s\n",
      "389:\tlearn: 0.0395707\ttotal: 1m 20s\tremaining: 2m 6s\n",
      "390:\tlearn: 0.0394218\ttotal: 1m 20s\tremaining: 2m 5s\n",
      "391:\tlearn: 0.0392881\ttotal: 1m 20s\tremaining: 2m 5s\n",
      "392:\tlearn: 0.0390965\ttotal: 1m 21s\tremaining: 2m 5s\n",
      "393:\tlearn: 0.0389663\ttotal: 1m 21s\tremaining: 2m 5s\n",
      "394:\tlearn: 0.0387928\ttotal: 1m 21s\tremaining: 2m 4s\n",
      "395:\tlearn: 0.0386277\ttotal: 1m 21s\tremaining: 2m 4s\n",
      "396:\tlearn: 0.0385112\ttotal: 1m 21s\tremaining: 2m 4s\n",
      "397:\tlearn: 0.0383289\ttotal: 1m 22s\tremaining: 2m 4s\n",
      "398:\tlearn: 0.0381530\ttotal: 1m 22s\tremaining: 2m 4s\n",
      "399:\tlearn: 0.0380300\ttotal: 1m 22s\tremaining: 2m 3s\n",
      "400:\tlearn: 0.0378969\ttotal: 1m 22s\tremaining: 2m 3s\n",
      "401:\tlearn: 0.0377299\ttotal: 1m 22s\tremaining: 2m 3s\n",
      "402:\tlearn: 0.0375708\ttotal: 1m 23s\tremaining: 2m 3s\n",
      "403:\tlearn: 0.0374477\ttotal: 1m 23s\tremaining: 2m 2s\n",
      "404:\tlearn: 0.0372783\ttotal: 1m 23s\tremaining: 2m 2s\n",
      "405:\tlearn: 0.0371217\ttotal: 1m 23s\tremaining: 2m 2s\n",
      "406:\tlearn: 0.0369873\ttotal: 1m 23s\tremaining: 2m 2s\n",
      "407:\tlearn: 0.0368694\ttotal: 1m 24s\tremaining: 2m 2s\n",
      "408:\tlearn: 0.0367168\ttotal: 1m 24s\tremaining: 2m 1s\n",
      "409:\tlearn: 0.0365466\ttotal: 1m 24s\tremaining: 2m 1s\n",
      "410:\tlearn: 0.0364251\ttotal: 1m 24s\tremaining: 2m 1s\n",
      "411:\tlearn: 0.0362647\ttotal: 1m 24s\tremaining: 2m 1s\n",
      "412:\tlearn: 0.0361013\ttotal: 1m 25s\tremaining: 2m\n",
      "413:\tlearn: 0.0359562\ttotal: 1m 25s\tremaining: 2m\n",
      "414:\tlearn: 0.0358026\ttotal: 1m 25s\tremaining: 2m\n",
      "415:\tlearn: 0.0356545\ttotal: 1m 25s\tremaining: 2m\n",
      "416:\tlearn: 0.0355231\ttotal: 1m 25s\tremaining: 2m\n",
      "417:\tlearn: 0.0354083\ttotal: 1m 26s\tremaining: 1m 59s\n",
      "418:\tlearn: 0.0352854\ttotal: 1m 26s\tremaining: 1m 59s\n",
      "419:\tlearn: 0.0351355\ttotal: 1m 26s\tremaining: 1m 59s\n",
      "420:\tlearn: 0.0350105\ttotal: 1m 26s\tremaining: 1m 59s\n",
      "421:\tlearn: 0.0348559\ttotal: 1m 27s\tremaining: 1m 59s\n",
      "422:\tlearn: 0.0347204\ttotal: 1m 27s\tremaining: 1m 59s\n",
      "423:\tlearn: 0.0345524\ttotal: 1m 27s\tremaining: 1m 59s\n",
      "424:\tlearn: 0.0344101\ttotal: 1m 27s\tremaining: 1m 58s\n",
      "425:\tlearn: 0.0342810\ttotal: 1m 28s\tremaining: 1m 58s\n",
      "426:\tlearn: 0.0341686\ttotal: 1m 28s\tremaining: 1m 58s\n",
      "427:\tlearn: 0.0340673\ttotal: 1m 28s\tremaining: 1m 58s\n",
      "428:\tlearn: 0.0339510\ttotal: 1m 28s\tremaining: 1m 58s\n",
      "429:\tlearn: 0.0338073\ttotal: 1m 28s\tremaining: 1m 57s\n",
      "430:\tlearn: 0.0336726\ttotal: 1m 29s\tremaining: 1m 57s\n",
      "431:\tlearn: 0.0335673\ttotal: 1m 29s\tremaining: 1m 57s\n",
      "432:\tlearn: 0.0334249\ttotal: 1m 29s\tremaining: 1m 57s\n",
      "433:\tlearn: 0.0332868\ttotal: 1m 29s\tremaining: 1m 57s\n",
      "434:\tlearn: 0.0331635\ttotal: 1m 30s\tremaining: 1m 56s\n",
      "435:\tlearn: 0.0330551\ttotal: 1m 30s\tremaining: 1m 56s\n",
      "436:\tlearn: 0.0329588\ttotal: 1m 30s\tremaining: 1m 56s\n",
      "437:\tlearn: 0.0328477\ttotal: 1m 30s\tremaining: 1m 56s\n",
      "438:\tlearn: 0.0327419\ttotal: 1m 30s\tremaining: 1m 55s\n",
      "439:\tlearn: 0.0326451\ttotal: 1m 30s\tremaining: 1m 55s\n",
      "440:\tlearn: 0.0325082\ttotal: 1m 31s\tremaining: 1m 55s\n",
      "441:\tlearn: 0.0324073\ttotal: 1m 31s\tremaining: 1m 55s\n",
      "442:\tlearn: 0.0322880\ttotal: 1m 31s\tremaining: 1m 55s\n",
      "443:\tlearn: 0.0321697\ttotal: 1m 31s\tremaining: 1m 54s\n",
      "444:\tlearn: 0.0320339\ttotal: 1m 31s\tremaining: 1m 54s\n",
      "445:\tlearn: 0.0319210\ttotal: 1m 32s\tremaining: 1m 54s\n",
      "446:\tlearn: 0.0318152\ttotal: 1m 32s\tremaining: 1m 54s\n",
      "447:\tlearn: 0.0316894\ttotal: 1m 32s\tremaining: 1m 53s\n",
      "448:\tlearn: 0.0315681\ttotal: 1m 32s\tremaining: 1m 53s\n",
      "449:\tlearn: 0.0314536\ttotal: 1m 32s\tremaining: 1m 53s\n",
      "450:\tlearn: 0.0313526\ttotal: 1m 32s\tremaining: 1m 53s\n",
      "451:\tlearn: 0.0312530\ttotal: 1m 33s\tremaining: 1m 52s\n",
      "452:\tlearn: 0.0311507\ttotal: 1m 33s\tremaining: 1m 52s\n",
      "453:\tlearn: 0.0310484\ttotal: 1m 33s\tremaining: 1m 52s\n",
      "454:\tlearn: 0.0309455\ttotal: 1m 33s\tremaining: 1m 52s\n",
      "455:\tlearn: 0.0308184\ttotal: 1m 33s\tremaining: 1m 52s\n",
      "456:\tlearn: 0.0307094\ttotal: 1m 34s\tremaining: 1m 51s\n",
      "457:\tlearn: 0.0305591\ttotal: 1m 34s\tremaining: 1m 51s\n",
      "458:\tlearn: 0.0304521\ttotal: 1m 34s\tremaining: 1m 51s\n",
      "459:\tlearn: 0.0303370\ttotal: 1m 34s\tremaining: 1m 51s\n",
      "460:\tlearn: 0.0302245\ttotal: 1m 34s\tremaining: 1m 51s\n",
      "461:\tlearn: 0.0301098\ttotal: 1m 35s\tremaining: 1m 50s\n",
      "462:\tlearn: 0.0299961\ttotal: 1m 35s\tremaining: 1m 50s\n",
      "463:\tlearn: 0.0298826\ttotal: 1m 35s\tremaining: 1m 50s\n",
      "464:\tlearn: 0.0297769\ttotal: 1m 35s\tremaining: 1m 50s\n",
      "465:\tlearn: 0.0296646\ttotal: 1m 36s\tremaining: 1m 50s\n",
      "466:\tlearn: 0.0295288\ttotal: 1m 36s\tremaining: 1m 49s\n",
      "467:\tlearn: 0.0294303\ttotal: 1m 36s\tremaining: 1m 49s\n",
      "468:\tlearn: 0.0293331\ttotal: 1m 36s\tremaining: 1m 49s\n",
      "469:\tlearn: 0.0292206\ttotal: 1m 36s\tremaining: 1m 49s\n",
      "470:\tlearn: 0.0291053\ttotal: 1m 37s\tremaining: 1m 49s\n",
      "471:\tlearn: 0.0289999\ttotal: 1m 37s\tremaining: 1m 48s\n",
      "472:\tlearn: 0.0289123\ttotal: 1m 37s\tremaining: 1m 48s\n",
      "473:\tlearn: 0.0288223\ttotal: 1m 37s\tremaining: 1m 48s\n",
      "474:\tlearn: 0.0287076\ttotal: 1m 37s\tremaining: 1m 48s\n",
      "475:\tlearn: 0.0285956\ttotal: 1m 38s\tremaining: 1m 47s\n",
      "476:\tlearn: 0.0285136\ttotal: 1m 38s\tremaining: 1m 47s\n",
      "477:\tlearn: 0.0284266\ttotal: 1m 38s\tremaining: 1m 47s\n",
      "478:\tlearn: 0.0283204\ttotal: 1m 38s\tremaining: 1m 47s\n",
      "479:\tlearn: 0.0282170\ttotal: 1m 38s\tremaining: 1m 47s\n",
      "480:\tlearn: 0.0281526\ttotal: 1m 38s\tremaining: 1m 46s\n",
      "481:\tlearn: 0.0280512\ttotal: 1m 39s\tremaining: 1m 46s\n",
      "482:\tlearn: 0.0279473\ttotal: 1m 39s\tremaining: 1m 46s\n",
      "483:\tlearn: 0.0278456\ttotal: 1m 39s\tremaining: 1m 46s\n",
      "484:\tlearn: 0.0277334\ttotal: 1m 39s\tremaining: 1m 45s\n",
      "485:\tlearn: 0.0276397\ttotal: 1m 39s\tremaining: 1m 45s\n",
      "486:\tlearn: 0.0275493\ttotal: 1m 40s\tremaining: 1m 45s\n",
      "487:\tlearn: 0.0274277\ttotal: 1m 40s\tremaining: 1m 45s\n",
      "488:\tlearn: 0.0273377\ttotal: 1m 40s\tremaining: 1m 45s\n",
      "489:\tlearn: 0.0272598\ttotal: 1m 40s\tremaining: 1m 44s\n",
      "490:\tlearn: 0.0271559\ttotal: 1m 40s\tremaining: 1m 44s\n",
      "491:\tlearn: 0.0270453\ttotal: 1m 41s\tremaining: 1m 44s\n",
      "492:\tlearn: 0.0269498\ttotal: 1m 41s\tremaining: 1m 44s\n",
      "493:\tlearn: 0.0268720\ttotal: 1m 41s\tremaining: 1m 43s\n",
      "494:\tlearn: 0.0267967\ttotal: 1m 41s\tremaining: 1m 43s\n",
      "495:\tlearn: 0.0266757\ttotal: 1m 41s\tremaining: 1m 43s\n",
      "496:\tlearn: 0.0265799\ttotal: 1m 42s\tremaining: 1m 43s\n",
      "497:\tlearn: 0.0264539\ttotal: 1m 42s\tremaining: 1m 43s\n",
      "498:\tlearn: 0.0263487\ttotal: 1m 42s\tremaining: 1m 42s\n",
      "499:\tlearn: 0.0262292\ttotal: 1m 42s\tremaining: 1m 42s\n",
      "500:\tlearn: 0.0261400\ttotal: 1m 42s\tremaining: 1m 42s\n",
      "501:\tlearn: 0.0260491\ttotal: 1m 43s\tremaining: 1m 42s\n",
      "502:\tlearn: 0.0259476\ttotal: 1m 43s\tremaining: 1m 42s\n",
      "503:\tlearn: 0.0258424\ttotal: 1m 43s\tremaining: 1m 41s\n",
      "504:\tlearn: 0.0257410\ttotal: 1m 43s\tremaining: 1m 41s\n",
      "505:\tlearn: 0.0256904\ttotal: 1m 43s\tremaining: 1m 41s\n",
      "506:\tlearn: 0.0255950\ttotal: 1m 44s\tremaining: 1m 41s\n",
      "507:\tlearn: 0.0255176\ttotal: 1m 44s\tremaining: 1m 41s\n",
      "508:\tlearn: 0.0254131\ttotal: 1m 44s\tremaining: 1m 40s\n",
      "509:\tlearn: 0.0253540\ttotal: 1m 44s\tremaining: 1m 40s\n",
      "510:\tlearn: 0.0252715\ttotal: 1m 44s\tremaining: 1m 40s\n",
      "511:\tlearn: 0.0252009\ttotal: 1m 45s\tremaining: 1m 40s\n",
      "512:\tlearn: 0.0251046\ttotal: 1m 45s\tremaining: 1m 40s\n",
      "513:\tlearn: 0.0250309\ttotal: 1m 45s\tremaining: 1m 39s\n",
      "514:\tlearn: 0.0249328\ttotal: 1m 45s\tremaining: 1m 39s\n",
      "515:\tlearn: 0.0248718\ttotal: 1m 45s\tremaining: 1m 39s\n",
      "516:\tlearn: 0.0247957\ttotal: 1m 46s\tremaining: 1m 39s\n",
      "517:\tlearn: 0.0247175\ttotal: 1m 46s\tremaining: 1m 38s\n",
      "518:\tlearn: 0.0246309\ttotal: 1m 46s\tremaining: 1m 38s\n",
      "519:\tlearn: 0.0245289\ttotal: 1m 46s\tremaining: 1m 38s\n",
      "520:\tlearn: 0.0244632\ttotal: 1m 46s\tremaining: 1m 38s\n",
      "521:\tlearn: 0.0243710\ttotal: 1m 47s\tremaining: 1m 38s\n",
      "522:\tlearn: 0.0242780\ttotal: 1m 47s\tremaining: 1m 37s\n",
      "523:\tlearn: 0.0242008\ttotal: 1m 47s\tremaining: 1m 37s\n",
      "524:\tlearn: 0.0241339\ttotal: 1m 47s\tremaining: 1m 37s\n",
      "525:\tlearn: 0.0240672\ttotal: 1m 47s\tremaining: 1m 37s\n",
      "526:\tlearn: 0.0239804\ttotal: 1m 48s\tremaining: 1m 37s\n",
      "527:\tlearn: 0.0238912\ttotal: 1m 48s\tremaining: 1m 36s\n",
      "528:\tlearn: 0.0238047\ttotal: 1m 48s\tremaining: 1m 36s\n",
      "529:\tlearn: 0.0237383\ttotal: 1m 48s\tremaining: 1m 36s\n",
      "530:\tlearn: 0.0236505\ttotal: 1m 48s\tremaining: 1m 36s\n",
      "531:\tlearn: 0.0235756\ttotal: 1m 49s\tremaining: 1m 35s\n",
      "532:\tlearn: 0.0234676\ttotal: 1m 49s\tremaining: 1m 35s\n",
      "533:\tlearn: 0.0233909\ttotal: 1m 49s\tremaining: 1m 35s\n",
      "534:\tlearn: 0.0232973\ttotal: 1m 49s\tremaining: 1m 35s\n",
      "535:\tlearn: 0.0232417\ttotal: 1m 49s\tremaining: 1m 35s\n",
      "536:\tlearn: 0.0231696\ttotal: 1m 50s\tremaining: 1m 34s\n",
      "537:\tlearn: 0.0230833\ttotal: 1m 50s\tremaining: 1m 34s\n",
      "538:\tlearn: 0.0230053\ttotal: 1m 50s\tremaining: 1m 34s\n",
      "539:\tlearn: 0.0229264\ttotal: 1m 50s\tremaining: 1m 34s\n",
      "540:\tlearn: 0.0228419\ttotal: 1m 50s\tremaining: 1m 34s\n",
      "541:\tlearn: 0.0227791\ttotal: 1m 51s\tremaining: 1m 33s\n",
      "542:\tlearn: 0.0227185\ttotal: 1m 51s\tremaining: 1m 33s\n",
      "543:\tlearn: 0.0226446\ttotal: 1m 51s\tremaining: 1m 33s\n",
      "544:\tlearn: 0.0225822\ttotal: 1m 51s\tremaining: 1m 33s\n",
      "545:\tlearn: 0.0225035\ttotal: 1m 51s\tremaining: 1m 32s\n",
      "546:\tlearn: 0.0224166\ttotal: 1m 52s\tremaining: 1m 32s\n",
      "547:\tlearn: 0.0223450\ttotal: 1m 52s\tremaining: 1m 32s\n",
      "548:\tlearn: 0.0222831\ttotal: 1m 52s\tremaining: 1m 32s\n",
      "549:\tlearn: 0.0222202\ttotal: 1m 52s\tremaining: 1m 32s\n",
      "550:\tlearn: 0.0221551\ttotal: 1m 52s\tremaining: 1m 31s\n",
      "551:\tlearn: 0.0221039\ttotal: 1m 53s\tremaining: 1m 31s\n",
      "552:\tlearn: 0.0220464\ttotal: 1m 53s\tremaining: 1m 31s\n",
      "553:\tlearn: 0.0219835\ttotal: 1m 53s\tremaining: 1m 31s\n",
      "554:\tlearn: 0.0219229\ttotal: 1m 53s\tremaining: 1m 31s\n",
      "555:\tlearn: 0.0218430\ttotal: 1m 53s\tremaining: 1m 30s\n",
      "556:\tlearn: 0.0217804\ttotal: 1m 53s\tremaining: 1m 30s\n",
      "557:\tlearn: 0.0217101\ttotal: 1m 54s\tremaining: 1m 30s\n",
      "558:\tlearn: 0.0216241\ttotal: 1m 54s\tremaining: 1m 30s\n",
      "559:\tlearn: 0.0215790\ttotal: 1m 54s\tremaining: 1m 29s\n",
      "560:\tlearn: 0.0215010\ttotal: 1m 54s\tremaining: 1m 29s\n",
      "561:\tlearn: 0.0214210\ttotal: 1m 54s\tremaining: 1m 29s\n",
      "562:\tlearn: 0.0213337\ttotal: 1m 55s\tremaining: 1m 29s\n",
      "563:\tlearn: 0.0212721\ttotal: 1m 55s\tremaining: 1m 29s\n",
      "564:\tlearn: 0.0212235\ttotal: 1m 55s\tremaining: 1m 28s\n",
      "565:\tlearn: 0.0211644\ttotal: 1m 55s\tremaining: 1m 28s\n",
      "566:\tlearn: 0.0210982\ttotal: 1m 55s\tremaining: 1m 28s\n",
      "567:\tlearn: 0.0210493\ttotal: 1m 56s\tremaining: 1m 28s\n",
      "568:\tlearn: 0.0209737\ttotal: 1m 56s\tremaining: 1m 28s\n",
      "569:\tlearn: 0.0209018\ttotal: 1m 56s\tremaining: 1m 27s\n",
      "570:\tlearn: 0.0208390\ttotal: 1m 56s\tremaining: 1m 27s\n",
      "571:\tlearn: 0.0207904\ttotal: 1m 56s\tremaining: 1m 27s\n",
      "572:\tlearn: 0.0206821\ttotal: 1m 57s\tremaining: 1m 27s\n",
      "573:\tlearn: 0.0205790\ttotal: 1m 57s\tremaining: 1m 27s\n",
      "574:\tlearn: 0.0205139\ttotal: 1m 57s\tremaining: 1m 26s\n",
      "575:\tlearn: 0.0204595\ttotal: 1m 57s\tremaining: 1m 26s\n",
      "576:\tlearn: 0.0203749\ttotal: 1m 57s\tremaining: 1m 26s\n",
      "577:\tlearn: 0.0203275\ttotal: 1m 58s\tremaining: 1m 26s\n",
      "578:\tlearn: 0.0202875\ttotal: 1m 58s\tremaining: 1m 26s\n",
      "579:\tlearn: 0.0202221\ttotal: 1m 58s\tremaining: 1m 25s\n",
      "580:\tlearn: 0.0201511\ttotal: 1m 59s\tremaining: 1m 25s\n",
      "581:\tlearn: 0.0200826\ttotal: 1m 59s\tremaining: 1m 25s\n",
      "582:\tlearn: 0.0200079\ttotal: 1m 59s\tremaining: 1m 25s\n",
      "583:\tlearn: 0.0199428\ttotal: 1m 59s\tremaining: 1m 25s\n",
      "584:\tlearn: 0.0198796\ttotal: 1m 59s\tremaining: 1m 25s\n",
      "585:\tlearn: 0.0197948\ttotal: 2m\tremaining: 1m 24s\n",
      "586:\tlearn: 0.0197392\ttotal: 2m\tremaining: 1m 24s\n",
      "587:\tlearn: 0.0196652\ttotal: 2m\tremaining: 1m 24s\n",
      "588:\tlearn: 0.0196077\ttotal: 2m\tremaining: 1m 24s\n",
      "589:\tlearn: 0.0195342\ttotal: 2m\tremaining: 1m 24s\n",
      "590:\tlearn: 0.0194819\ttotal: 2m 1s\tremaining: 1m 23s\n",
      "591:\tlearn: 0.0194232\ttotal: 2m 1s\tremaining: 1m 23s\n",
      "592:\tlearn: 0.0193447\ttotal: 2m 1s\tremaining: 1m 23s\n",
      "593:\tlearn: 0.0193026\ttotal: 2m 1s\tremaining: 1m 23s\n",
      "594:\tlearn: 0.0192522\ttotal: 2m 1s\tremaining: 1m 22s\n",
      "595:\tlearn: 0.0191923\ttotal: 2m 2s\tremaining: 1m 22s\n",
      "596:\tlearn: 0.0191376\ttotal: 2m 2s\tremaining: 1m 22s\n",
      "597:\tlearn: 0.0190844\ttotal: 2m 2s\tremaining: 1m 22s\n",
      "598:\tlearn: 0.0190315\ttotal: 2m 2s\tremaining: 1m 22s\n",
      "599:\tlearn: 0.0189802\ttotal: 2m 2s\tremaining: 1m 21s\n",
      "600:\tlearn: 0.0189241\ttotal: 2m 3s\tremaining: 1m 21s\n",
      "601:\tlearn: 0.0188707\ttotal: 2m 3s\tremaining: 1m 21s\n",
      "602:\tlearn: 0.0188121\ttotal: 2m 3s\tremaining: 1m 21s\n",
      "603:\tlearn: 0.0187384\ttotal: 2m 3s\tremaining: 1m 21s\n",
      "604:\tlearn: 0.0186816\ttotal: 2m 3s\tremaining: 1m 20s\n",
      "605:\tlearn: 0.0186205\ttotal: 2m 3s\tremaining: 1m 20s\n",
      "606:\tlearn: 0.0185561\ttotal: 2m 4s\tremaining: 1m 20s\n",
      "607:\tlearn: 0.0185240\ttotal: 2m 4s\tremaining: 1m 20s\n",
      "608:\tlearn: 0.0184746\ttotal: 2m 4s\tremaining: 1m 19s\n",
      "609:\tlearn: 0.0184212\ttotal: 2m 4s\tremaining: 1m 19s\n",
      "610:\tlearn: 0.0183652\ttotal: 2m 4s\tremaining: 1m 19s\n",
      "611:\tlearn: 0.0182840\ttotal: 2m 5s\tremaining: 1m 19s\n",
      "612:\tlearn: 0.0182171\ttotal: 2m 5s\tremaining: 1m 19s\n",
      "613:\tlearn: 0.0181568\ttotal: 2m 5s\tremaining: 1m 18s\n",
      "614:\tlearn: 0.0180868\ttotal: 2m 5s\tremaining: 1m 18s\n",
      "615:\tlearn: 0.0180209\ttotal: 2m 6s\tremaining: 1m 18s\n",
      "616:\tlearn: 0.0179603\ttotal: 2m 6s\tremaining: 1m 18s\n",
      "617:\tlearn: 0.0178895\ttotal: 2m 6s\tremaining: 1m 18s\n",
      "618:\tlearn: 0.0178208\ttotal: 2m 6s\tremaining: 1m 17s\n",
      "619:\tlearn: 0.0177617\ttotal: 2m 6s\tremaining: 1m 17s\n",
      "620:\tlearn: 0.0176981\ttotal: 2m 7s\tremaining: 1m 17s\n",
      "621:\tlearn: 0.0176478\ttotal: 2m 7s\tremaining: 1m 17s\n",
      "622:\tlearn: 0.0175796\ttotal: 2m 7s\tremaining: 1m 17s\n",
      "623:\tlearn: 0.0175292\ttotal: 2m 7s\tremaining: 1m 16s\n",
      "624:\tlearn: 0.0174668\ttotal: 2m 7s\tremaining: 1m 16s\n",
      "625:\tlearn: 0.0174040\ttotal: 2m 8s\tremaining: 1m 16s\n",
      "626:\tlearn: 0.0173617\ttotal: 2m 8s\tremaining: 1m 16s\n",
      "627:\tlearn: 0.0173190\ttotal: 2m 8s\tremaining: 1m 16s\n",
      "628:\tlearn: 0.0172496\ttotal: 2m 8s\tremaining: 1m 15s\n",
      "629:\tlearn: 0.0171994\ttotal: 2m 8s\tremaining: 1m 15s\n",
      "630:\tlearn: 0.0171467\ttotal: 2m 8s\tremaining: 1m 15s\n",
      "631:\tlearn: 0.0171012\ttotal: 2m 9s\tremaining: 1m 15s\n",
      "632:\tlearn: 0.0170460\ttotal: 2m 9s\tremaining: 1m 15s\n",
      "633:\tlearn: 0.0169871\ttotal: 2m 9s\tremaining: 1m 14s\n",
      "634:\tlearn: 0.0169394\ttotal: 2m 9s\tremaining: 1m 14s\n",
      "635:\tlearn: 0.0168774\ttotal: 2m 9s\tremaining: 1m 14s\n",
      "636:\tlearn: 0.0168135\ttotal: 2m 10s\tremaining: 1m 14s\n",
      "637:\tlearn: 0.0167617\ttotal: 2m 10s\tremaining: 1m 13s\n",
      "638:\tlearn: 0.0167253\ttotal: 2m 10s\tremaining: 1m 13s\n",
      "639:\tlearn: 0.0166754\ttotal: 2m 10s\tremaining: 1m 13s\n",
      "640:\tlearn: 0.0166077\ttotal: 2m 10s\tremaining: 1m 13s\n",
      "641:\tlearn: 0.0165463\ttotal: 2m 11s\tremaining: 1m 13s\n",
      "642:\tlearn: 0.0164873\ttotal: 2m 11s\tremaining: 1m 12s\n",
      "643:\tlearn: 0.0164312\ttotal: 2m 11s\tremaining: 1m 12s\n",
      "644:\tlearn: 0.0163856\ttotal: 2m 11s\tremaining: 1m 12s\n",
      "645:\tlearn: 0.0163324\ttotal: 2m 11s\tremaining: 1m 12s\n",
      "646:\tlearn: 0.0162939\ttotal: 2m 12s\tremaining: 1m 12s\n",
      "647:\tlearn: 0.0162435\ttotal: 2m 12s\tremaining: 1m 11s\n",
      "648:\tlearn: 0.0161920\ttotal: 2m 12s\tremaining: 1m 11s\n",
      "649:\tlearn: 0.0161241\ttotal: 2m 12s\tremaining: 1m 11s\n",
      "650:\tlearn: 0.0160909\ttotal: 2m 12s\tremaining: 1m 11s\n",
      "651:\tlearn: 0.0160467\ttotal: 2m 13s\tremaining: 1m 11s\n",
      "652:\tlearn: 0.0160128\ttotal: 2m 13s\tremaining: 1m 10s\n",
      "653:\tlearn: 0.0159728\ttotal: 2m 13s\tremaining: 1m 10s\n",
      "654:\tlearn: 0.0159021\ttotal: 2m 13s\tremaining: 1m 10s\n",
      "655:\tlearn: 0.0158497\ttotal: 2m 13s\tremaining: 1m 10s\n",
      "656:\tlearn: 0.0158116\ttotal: 2m 14s\tremaining: 1m 9s\n",
      "657:\tlearn: 0.0157680\ttotal: 2m 14s\tremaining: 1m 9s\n",
      "658:\tlearn: 0.0157149\ttotal: 2m 14s\tremaining: 1m 9s\n",
      "659:\tlearn: 0.0156637\ttotal: 2m 14s\tremaining: 1m 9s\n",
      "660:\tlearn: 0.0156235\ttotal: 2m 14s\tremaining: 1m 9s\n",
      "661:\tlearn: 0.0155653\ttotal: 2m 15s\tremaining: 1m 8s\n",
      "662:\tlearn: 0.0155182\ttotal: 2m 15s\tremaining: 1m 8s\n",
      "663:\tlearn: 0.0154697\ttotal: 2m 15s\tremaining: 1m 8s\n",
      "664:\tlearn: 0.0154297\ttotal: 2m 15s\tremaining: 1m 8s\n",
      "665:\tlearn: 0.0153791\ttotal: 2m 15s\tremaining: 1m 8s\n",
      "666:\tlearn: 0.0153327\ttotal: 2m 16s\tremaining: 1m 7s\n",
      "667:\tlearn: 0.0152817\ttotal: 2m 16s\tremaining: 1m 7s\n",
      "668:\tlearn: 0.0152201\ttotal: 2m 16s\tremaining: 1m 7s\n",
      "669:\tlearn: 0.0151703\ttotal: 2m 16s\tremaining: 1m 7s\n",
      "670:\tlearn: 0.0151362\ttotal: 2m 16s\tremaining: 1m 7s\n",
      "671:\tlearn: 0.0150896\ttotal: 2m 17s\tremaining: 1m 6s\n",
      "672:\tlearn: 0.0150411\ttotal: 2m 17s\tremaining: 1m 6s\n",
      "673:\tlearn: 0.0149859\ttotal: 2m 17s\tremaining: 1m 6s\n",
      "674:\tlearn: 0.0149540\ttotal: 2m 17s\tremaining: 1m 6s\n",
      "675:\tlearn: 0.0149213\ttotal: 2m 17s\tremaining: 1m 6s\n",
      "676:\tlearn: 0.0148893\ttotal: 2m 18s\tremaining: 1m 5s\n",
      "677:\tlearn: 0.0148415\ttotal: 2m 18s\tremaining: 1m 5s\n",
      "678:\tlearn: 0.0148068\ttotal: 2m 18s\tremaining: 1m 5s\n",
      "679:\tlearn: 0.0147630\ttotal: 2m 18s\tremaining: 1m 5s\n",
      "680:\tlearn: 0.0147178\ttotal: 2m 18s\tremaining: 1m 5s\n",
      "681:\tlearn: 0.0146670\ttotal: 2m 19s\tremaining: 1m 4s\n",
      "682:\tlearn: 0.0146297\ttotal: 2m 19s\tremaining: 1m 4s\n",
      "683:\tlearn: 0.0145691\ttotal: 2m 19s\tremaining: 1m 4s\n",
      "684:\tlearn: 0.0145181\ttotal: 2m 19s\tremaining: 1m 4s\n",
      "685:\tlearn: 0.0144636\ttotal: 2m 19s\tremaining: 1m 4s\n",
      "686:\tlearn: 0.0144237\ttotal: 2m 20s\tremaining: 1m 3s\n",
      "687:\tlearn: 0.0143831\ttotal: 2m 20s\tremaining: 1m 3s\n",
      "688:\tlearn: 0.0143411\ttotal: 2m 20s\tremaining: 1m 3s\n",
      "689:\tlearn: 0.0142906\ttotal: 2m 20s\tremaining: 1m 3s\n",
      "690:\tlearn: 0.0142427\ttotal: 2m 20s\tremaining: 1m 2s\n",
      "691:\tlearn: 0.0141969\ttotal: 2m 21s\tremaining: 1m 2s\n",
      "692:\tlearn: 0.0141574\ttotal: 2m 21s\tremaining: 1m 2s\n",
      "693:\tlearn: 0.0141065\ttotal: 2m 21s\tremaining: 1m 2s\n",
      "694:\tlearn: 0.0140526\ttotal: 2m 21s\tremaining: 1m 2s\n",
      "695:\tlearn: 0.0140177\ttotal: 2m 21s\tremaining: 1m 1s\n",
      "696:\tlearn: 0.0139685\ttotal: 2m 21s\tremaining: 1m 1s\n",
      "697:\tlearn: 0.0139309\ttotal: 2m 22s\tremaining: 1m 1s\n",
      "698:\tlearn: 0.0138954\ttotal: 2m 22s\tremaining: 1m 1s\n",
      "699:\tlearn: 0.0138660\ttotal: 2m 22s\tremaining: 1m 1s\n",
      "700:\tlearn: 0.0138167\ttotal: 2m 22s\tremaining: 1m\n",
      "701:\tlearn: 0.0137630\ttotal: 2m 22s\tremaining: 1m\n",
      "702:\tlearn: 0.0137281\ttotal: 2m 23s\tremaining: 1m\n",
      "703:\tlearn: 0.0136909\ttotal: 2m 23s\tremaining: 1m\n",
      "704:\tlearn: 0.0136664\ttotal: 2m 23s\tremaining: 1m\n",
      "705:\tlearn: 0.0136166\ttotal: 2m 23s\tremaining: 59.9s\n",
      "706:\tlearn: 0.0135834\ttotal: 2m 23s\tremaining: 59.6s\n",
      "707:\tlearn: 0.0135350\ttotal: 2m 24s\tremaining: 59.4s\n",
      "708:\tlearn: 0.0134931\ttotal: 2m 24s\tremaining: 59.2s\n",
      "709:\tlearn: 0.0134639\ttotal: 2m 24s\tremaining: 59s\n",
      "710:\tlearn: 0.0134215\ttotal: 2m 24s\tremaining: 58.8s\n",
      "711:\tlearn: 0.0133704\ttotal: 2m 24s\tremaining: 58.6s\n",
      "712:\tlearn: 0.0133295\ttotal: 2m 25s\tremaining: 58.4s\n",
      "713:\tlearn: 0.0132936\ttotal: 2m 25s\tremaining: 58.2s\n",
      "714:\tlearn: 0.0132584\ttotal: 2m 25s\tremaining: 58s\n",
      "715:\tlearn: 0.0132151\ttotal: 2m 25s\tremaining: 57.8s\n",
      "716:\tlearn: 0.0131881\ttotal: 2m 25s\tremaining: 57.6s\n",
      "717:\tlearn: 0.0131584\ttotal: 2m 26s\tremaining: 57.4s\n",
      "718:\tlearn: 0.0131189\ttotal: 2m 26s\tremaining: 57.2s\n",
      "719:\tlearn: 0.0130833\ttotal: 2m 26s\tremaining: 57s\n",
      "720:\tlearn: 0.0130388\ttotal: 2m 26s\tremaining: 56.8s\n",
      "721:\tlearn: 0.0130008\ttotal: 2m 26s\tremaining: 56.6s\n",
      "722:\tlearn: 0.0129548\ttotal: 2m 27s\tremaining: 56.4s\n",
      "723:\tlearn: 0.0129228\ttotal: 2m 27s\tremaining: 56.1s\n",
      "724:\tlearn: 0.0128999\ttotal: 2m 27s\tremaining: 55.9s\n",
      "725:\tlearn: 0.0128585\ttotal: 2m 27s\tremaining: 55.7s\n",
      "726:\tlearn: 0.0128109\ttotal: 2m 27s\tremaining: 55.5s\n",
      "727:\tlearn: 0.0127750\ttotal: 2m 28s\tremaining: 55.3s\n",
      "728:\tlearn: 0.0127378\ttotal: 2m 28s\tremaining: 55.1s\n",
      "729:\tlearn: 0.0127116\ttotal: 2m 28s\tremaining: 54.9s\n",
      "730:\tlearn: 0.0126552\ttotal: 2m 28s\tremaining: 54.7s\n",
      "731:\tlearn: 0.0126093\ttotal: 2m 28s\tremaining: 54.5s\n",
      "732:\tlearn: 0.0125761\ttotal: 2m 29s\tremaining: 54.3s\n",
      "733:\tlearn: 0.0125384\ttotal: 2m 29s\tremaining: 54.1s\n",
      "734:\tlearn: 0.0125004\ttotal: 2m 29s\tremaining: 53.9s\n",
      "735:\tlearn: 0.0124694\ttotal: 2m 29s\tremaining: 53.7s\n",
      "736:\tlearn: 0.0124406\ttotal: 2m 29s\tremaining: 53.5s\n",
      "737:\tlearn: 0.0124139\ttotal: 2m 30s\tremaining: 53.3s\n",
      "738:\tlearn: 0.0123795\ttotal: 2m 30s\tremaining: 53.1s\n",
      "739:\tlearn: 0.0123497\ttotal: 2m 30s\tremaining: 53s\n",
      "740:\tlearn: 0.0123050\ttotal: 2m 31s\tremaining: 52.8s\n",
      "741:\tlearn: 0.0122583\ttotal: 2m 31s\tremaining: 52.6s\n",
      "742:\tlearn: 0.0122113\ttotal: 2m 31s\tremaining: 52.4s\n",
      "743:\tlearn: 0.0121816\ttotal: 2m 31s\tremaining: 52.2s\n",
      "744:\tlearn: 0.0121611\ttotal: 2m 31s\tremaining: 52s\n",
      "745:\tlearn: 0.0121232\ttotal: 2m 32s\tremaining: 51.8s\n",
      "746:\tlearn: 0.0120824\ttotal: 2m 32s\tremaining: 51.6s\n",
      "747:\tlearn: 0.0120552\ttotal: 2m 32s\tremaining: 51.4s\n",
      "748:\tlearn: 0.0120236\ttotal: 2m 32s\tremaining: 51.2s\n",
      "749:\tlearn: 0.0119958\ttotal: 2m 32s\tremaining: 51s\n",
      "750:\tlearn: 0.0119530\ttotal: 2m 33s\tremaining: 50.8s\n",
      "751:\tlearn: 0.0119207\ttotal: 2m 33s\tremaining: 50.5s\n",
      "752:\tlearn: 0.0118891\ttotal: 2m 33s\tremaining: 50.3s\n",
      "753:\tlearn: 0.0118528\ttotal: 2m 33s\tremaining: 50.1s\n",
      "754:\tlearn: 0.0118199\ttotal: 2m 33s\tremaining: 49.9s\n",
      "755:\tlearn: 0.0117859\ttotal: 2m 34s\tremaining: 49.7s\n",
      "756:\tlearn: 0.0117531\ttotal: 2m 34s\tremaining: 49.5s\n",
      "757:\tlearn: 0.0117324\ttotal: 2m 34s\tremaining: 49.3s\n",
      "758:\tlearn: 0.0117109\ttotal: 2m 34s\tremaining: 49.1s\n",
      "759:\tlearn: 0.0116767\ttotal: 2m 34s\tremaining: 48.9s\n",
      "760:\tlearn: 0.0116492\ttotal: 2m 35s\tremaining: 48.7s\n",
      "761:\tlearn: 0.0116180\ttotal: 2m 35s\tremaining: 48.5s\n",
      "762:\tlearn: 0.0115850\ttotal: 2m 35s\tremaining: 48.3s\n",
      "763:\tlearn: 0.0115518\ttotal: 2m 35s\tremaining: 48.1s\n",
      "764:\tlearn: 0.0115142\ttotal: 2m 35s\tremaining: 47.9s\n",
      "765:\tlearn: 0.0114804\ttotal: 2m 36s\tremaining: 47.7s\n",
      "766:\tlearn: 0.0114598\ttotal: 2m 36s\tremaining: 47.5s\n",
      "767:\tlearn: 0.0114332\ttotal: 2m 36s\tremaining: 47.2s\n",
      "768:\tlearn: 0.0113928\ttotal: 2m 36s\tremaining: 47s\n",
      "769:\tlearn: 0.0113582\ttotal: 2m 36s\tremaining: 46.8s\n",
      "770:\tlearn: 0.0113208\ttotal: 2m 36s\tremaining: 46.6s\n",
      "771:\tlearn: 0.0112982\ttotal: 2m 37s\tremaining: 46.4s\n",
      "772:\tlearn: 0.0112699\ttotal: 2m 37s\tremaining: 46.2s\n",
      "773:\tlearn: 0.0112334\ttotal: 2m 37s\tremaining: 46s\n",
      "774:\tlearn: 0.0112053\ttotal: 2m 37s\tremaining: 45.8s\n",
      "775:\tlearn: 0.0111752\ttotal: 2m 37s\tremaining: 45.6s\n",
      "776:\tlearn: 0.0111443\ttotal: 2m 38s\tremaining: 45.4s\n",
      "777:\tlearn: 0.0111274\ttotal: 2m 38s\tremaining: 45.2s\n",
      "778:\tlearn: 0.0110997\ttotal: 2m 38s\tremaining: 45s\n",
      "779:\tlearn: 0.0110672\ttotal: 2m 38s\tremaining: 44.8s\n",
      "780:\tlearn: 0.0110330\ttotal: 2m 38s\tremaining: 44.6s\n",
      "781:\tlearn: 0.0109941\ttotal: 2m 39s\tremaining: 44.4s\n",
      "782:\tlearn: 0.0109587\ttotal: 2m 39s\tremaining: 44.2s\n",
      "783:\tlearn: 0.0109243\ttotal: 2m 39s\tremaining: 43.9s\n",
      "784:\tlearn: 0.0108878\ttotal: 2m 39s\tremaining: 43.7s\n",
      "785:\tlearn: 0.0108582\ttotal: 2m 39s\tremaining: 43.5s\n",
      "786:\tlearn: 0.0108310\ttotal: 2m 40s\tremaining: 43.3s\n",
      "787:\tlearn: 0.0107986\ttotal: 2m 40s\tremaining: 43.1s\n",
      "788:\tlearn: 0.0107613\ttotal: 2m 40s\tremaining: 42.9s\n",
      "789:\tlearn: 0.0107253\ttotal: 2m 40s\tremaining: 42.7s\n",
      "790:\tlearn: 0.0106907\ttotal: 2m 40s\tremaining: 42.5s\n",
      "791:\tlearn: 0.0106721\ttotal: 2m 41s\tremaining: 42.3s\n",
      "792:\tlearn: 0.0106530\ttotal: 2m 41s\tremaining: 42.1s\n",
      "793:\tlearn: 0.0106240\ttotal: 2m 41s\tremaining: 41.9s\n",
      "794:\tlearn: 0.0106056\ttotal: 2m 41s\tremaining: 41.7s\n",
      "795:\tlearn: 0.0105736\ttotal: 2m 41s\tremaining: 41.5s\n",
      "796:\tlearn: 0.0105526\ttotal: 2m 41s\tremaining: 41.3s\n",
      "797:\tlearn: 0.0105310\ttotal: 2m 42s\tremaining: 41s\n",
      "798:\tlearn: 0.0105009\ttotal: 2m 42s\tremaining: 40.8s\n",
      "799:\tlearn: 0.0104786\ttotal: 2m 42s\tremaining: 40.6s\n",
      "800:\tlearn: 0.0104546\ttotal: 2m 42s\tremaining: 40.4s\n",
      "801:\tlearn: 0.0104329\ttotal: 2m 42s\tremaining: 40.2s\n",
      "802:\tlearn: 0.0104062\ttotal: 2m 43s\tremaining: 40s\n",
      "803:\tlearn: 0.0103706\ttotal: 2m 43s\tremaining: 39.8s\n",
      "804:\tlearn: 0.0103397\ttotal: 2m 43s\tremaining: 39.6s\n",
      "805:\tlearn: 0.0103121\ttotal: 2m 43s\tremaining: 39.4s\n",
      "806:\tlearn: 0.0102817\ttotal: 2m 43s\tremaining: 39.2s\n",
      "807:\tlearn: 0.0102533\ttotal: 2m 44s\tremaining: 39s\n",
      "808:\tlearn: 0.0102238\ttotal: 2m 44s\tremaining: 38.8s\n",
      "809:\tlearn: 0.0101895\ttotal: 2m 44s\tremaining: 38.6s\n",
      "810:\tlearn: 0.0101619\ttotal: 2m 44s\tremaining: 38.4s\n",
      "811:\tlearn: 0.0101409\ttotal: 2m 44s\tremaining: 38.2s\n",
      "812:\tlearn: 0.0101176\ttotal: 2m 45s\tremaining: 38s\n",
      "813:\tlearn: 0.0100898\ttotal: 2m 45s\tremaining: 37.8s\n",
      "814:\tlearn: 0.0100610\ttotal: 2m 45s\tremaining: 37.6s\n",
      "815:\tlearn: 0.0100294\ttotal: 2m 45s\tremaining: 37.4s\n",
      "816:\tlearn: 0.0099954\ttotal: 2m 45s\tremaining: 37.2s\n",
      "817:\tlearn: 0.0099613\ttotal: 2m 46s\tremaining: 37s\n",
      "818:\tlearn: 0.0099381\ttotal: 2m 46s\tremaining: 36.8s\n",
      "819:\tlearn: 0.0099114\ttotal: 2m 46s\tremaining: 36.6s\n",
      "820:\tlearn: 0.0098813\ttotal: 2m 46s\tremaining: 36.4s\n",
      "821:\tlearn: 0.0098498\ttotal: 2m 46s\tremaining: 36.2s\n",
      "822:\tlearn: 0.0098244\ttotal: 2m 47s\tremaining: 36s\n",
      "823:\tlearn: 0.0097991\ttotal: 2m 47s\tremaining: 35.7s\n",
      "824:\tlearn: 0.0097810\ttotal: 2m 47s\tremaining: 35.5s\n",
      "825:\tlearn: 0.0097540\ttotal: 2m 47s\tremaining: 35.3s\n",
      "826:\tlearn: 0.0097403\ttotal: 2m 47s\tremaining: 35.1s\n",
      "827:\tlearn: 0.0097172\ttotal: 2m 48s\tremaining: 34.9s\n",
      "828:\tlearn: 0.0096959\ttotal: 2m 48s\tremaining: 34.7s\n",
      "829:\tlearn: 0.0096682\ttotal: 2m 48s\tremaining: 34.5s\n",
      "830:\tlearn: 0.0096396\ttotal: 2m 48s\tremaining: 34.3s\n",
      "831:\tlearn: 0.0096097\ttotal: 2m 48s\tremaining: 34.1s\n",
      "832:\tlearn: 0.0095839\ttotal: 2m 49s\tremaining: 33.9s\n",
      "833:\tlearn: 0.0095646\ttotal: 2m 49s\tremaining: 33.7s\n",
      "834:\tlearn: 0.0095312\ttotal: 2m 49s\tremaining: 33.5s\n",
      "835:\tlearn: 0.0095181\ttotal: 2m 49s\tremaining: 33.3s\n",
      "836:\tlearn: 0.0094927\ttotal: 2m 49s\tremaining: 33.1s\n",
      "837:\tlearn: 0.0094674\ttotal: 2m 50s\tremaining: 32.9s\n",
      "838:\tlearn: 0.0094520\ttotal: 2m 50s\tremaining: 32.7s\n",
      "839:\tlearn: 0.0094276\ttotal: 2m 50s\tremaining: 32.5s\n",
      "840:\tlearn: 0.0093991\ttotal: 2m 50s\tremaining: 32.3s\n",
      "841:\tlearn: 0.0093750\ttotal: 2m 50s\tremaining: 32s\n",
      "842:\tlearn: 0.0093518\ttotal: 2m 50s\tremaining: 31.8s\n",
      "843:\tlearn: 0.0093228\ttotal: 2m 51s\tremaining: 31.6s\n",
      "844:\tlearn: 0.0093007\ttotal: 2m 51s\tremaining: 31.4s\n",
      "845:\tlearn: 0.0092860\ttotal: 2m 51s\tremaining: 31.2s\n",
      "846:\tlearn: 0.0092643\ttotal: 2m 51s\tremaining: 31s\n",
      "847:\tlearn: 0.0092359\ttotal: 2m 51s\tremaining: 30.8s\n",
      "848:\tlearn: 0.0092063\ttotal: 2m 52s\tremaining: 30.6s\n",
      "849:\tlearn: 0.0091807\ttotal: 2m 52s\tremaining: 30.4s\n",
      "850:\tlearn: 0.0091542\ttotal: 2m 52s\tremaining: 30.2s\n",
      "851:\tlearn: 0.0091239\ttotal: 2m 52s\tremaining: 30s\n",
      "852:\tlearn: 0.0091022\ttotal: 2m 52s\tremaining: 29.8s\n",
      "853:\tlearn: 0.0090799\ttotal: 2m 53s\tremaining: 29.6s\n",
      "854:\tlearn: 0.0090596\ttotal: 2m 53s\tremaining: 29.4s\n",
      "855:\tlearn: 0.0090323\ttotal: 2m 53s\tremaining: 29.2s\n",
      "856:\tlearn: 0.0090183\ttotal: 2m 53s\tremaining: 29s\n",
      "857:\tlearn: 0.0089927\ttotal: 2m 53s\tremaining: 28.8s\n",
      "858:\tlearn: 0.0089642\ttotal: 2m 54s\tremaining: 28.6s\n",
      "859:\tlearn: 0.0089411\ttotal: 2m 54s\tremaining: 28.4s\n",
      "860:\tlearn: 0.0089127\ttotal: 2m 54s\tremaining: 28.2s\n",
      "861:\tlearn: 0.0088906\ttotal: 2m 54s\tremaining: 28s\n",
      "862:\tlearn: 0.0088719\ttotal: 2m 54s\tremaining: 27.8s\n",
      "863:\tlearn: 0.0088489\ttotal: 2m 55s\tremaining: 27.6s\n",
      "864:\tlearn: 0.0088263\ttotal: 2m 55s\tremaining: 27.3s\n",
      "865:\tlearn: 0.0088026\ttotal: 2m 55s\tremaining: 27.1s\n",
      "866:\tlearn: 0.0087805\ttotal: 2m 55s\tremaining: 26.9s\n",
      "867:\tlearn: 0.0087570\ttotal: 2m 55s\tremaining: 26.7s\n",
      "868:\tlearn: 0.0087310\ttotal: 2m 56s\tremaining: 26.5s\n",
      "869:\tlearn: 0.0086988\ttotal: 2m 56s\tremaining: 26.3s\n",
      "870:\tlearn: 0.0086714\ttotal: 2m 56s\tremaining: 26.1s\n",
      "871:\tlearn: 0.0086455\ttotal: 2m 56s\tremaining: 25.9s\n",
      "872:\tlearn: 0.0086228\ttotal: 2m 56s\tremaining: 25.7s\n",
      "873:\tlearn: 0.0085992\ttotal: 2m 57s\tremaining: 25.5s\n",
      "874:\tlearn: 0.0085754\ttotal: 2m 57s\tremaining: 25.3s\n",
      "875:\tlearn: 0.0085548\ttotal: 2m 57s\tremaining: 25.1s\n",
      "876:\tlearn: 0.0085364\ttotal: 2m 57s\tremaining: 24.9s\n",
      "877:\tlearn: 0.0085074\ttotal: 2m 57s\tremaining: 24.7s\n",
      "878:\tlearn: 0.0084789\ttotal: 2m 58s\tremaining: 24.5s\n",
      "879:\tlearn: 0.0084520\ttotal: 2m 58s\tremaining: 24.3s\n",
      "880:\tlearn: 0.0084321\ttotal: 2m 58s\tremaining: 24.1s\n",
      "881:\tlearn: 0.0084074\ttotal: 2m 58s\tremaining: 23.9s\n",
      "882:\tlearn: 0.0083884\ttotal: 2m 58s\tremaining: 23.7s\n",
      "883:\tlearn: 0.0083681\ttotal: 2m 59s\tremaining: 23.5s\n",
      "884:\tlearn: 0.0083451\ttotal: 2m 59s\tremaining: 23.3s\n",
      "885:\tlearn: 0.0083208\ttotal: 2m 59s\tremaining: 23.1s\n",
      "886:\tlearn: 0.0083020\ttotal: 2m 59s\tremaining: 22.9s\n",
      "887:\tlearn: 0.0082774\ttotal: 2m 59s\tremaining: 22.7s\n",
      "888:\tlearn: 0.0082605\ttotal: 3m\tremaining: 22.5s\n",
      "889:\tlearn: 0.0082348\ttotal: 3m\tremaining: 22.3s\n",
      "890:\tlearn: 0.0082154\ttotal: 3m\tremaining: 22.1s\n",
      "891:\tlearn: 0.0081886\ttotal: 3m\tremaining: 21.9s\n",
      "892:\tlearn: 0.0081649\ttotal: 3m\tremaining: 21.7s\n",
      "893:\tlearn: 0.0081376\ttotal: 3m 1s\tremaining: 21.5s\n",
      "894:\tlearn: 0.0081175\ttotal: 3m 1s\tremaining: 21.3s\n",
      "895:\tlearn: 0.0080982\ttotal: 3m 1s\tremaining: 21.1s\n",
      "896:\tlearn: 0.0080779\ttotal: 3m 1s\tremaining: 20.9s\n",
      "897:\tlearn: 0.0080532\ttotal: 3m 1s\tremaining: 20.7s\n",
      "898:\tlearn: 0.0080280\ttotal: 3m 2s\tremaining: 20.5s\n",
      "899:\tlearn: 0.0079997\ttotal: 3m 2s\tremaining: 20.3s\n",
      "900:\tlearn: 0.0079788\ttotal: 3m 2s\tremaining: 20.1s\n",
      "901:\tlearn: 0.0079618\ttotal: 3m 3s\tremaining: 19.9s\n",
      "902:\tlearn: 0.0079418\ttotal: 3m 3s\tremaining: 19.7s\n",
      "903:\tlearn: 0.0079116\ttotal: 3m 3s\tremaining: 19.5s\n",
      "904:\tlearn: 0.0078906\ttotal: 3m 3s\tremaining: 19.3s\n",
      "905:\tlearn: 0.0078691\ttotal: 3m 3s\tremaining: 19.1s\n",
      "906:\tlearn: 0.0078479\ttotal: 3m 4s\tremaining: 18.9s\n",
      "907:\tlearn: 0.0078178\ttotal: 3m 4s\tremaining: 18.7s\n",
      "908:\tlearn: 0.0077953\ttotal: 3m 4s\tremaining: 18.5s\n",
      "909:\tlearn: 0.0077771\ttotal: 3m 4s\tremaining: 18.3s\n",
      "910:\tlearn: 0.0077559\ttotal: 3m 4s\tremaining: 18.1s\n",
      "911:\tlearn: 0.0077356\ttotal: 3m 5s\tremaining: 17.9s\n",
      "912:\tlearn: 0.0077224\ttotal: 3m 5s\tremaining: 17.7s\n",
      "913:\tlearn: 0.0077041\ttotal: 3m 5s\tremaining: 17.5s\n",
      "914:\tlearn: 0.0076763\ttotal: 3m 5s\tremaining: 17.3s\n",
      "915:\tlearn: 0.0076622\ttotal: 3m 5s\tremaining: 17s\n",
      "916:\tlearn: 0.0076460\ttotal: 3m 6s\tremaining: 16.8s\n",
      "917:\tlearn: 0.0076236\ttotal: 3m 6s\tremaining: 16.6s\n",
      "918:\tlearn: 0.0076103\ttotal: 3m 6s\tremaining: 16.4s\n",
      "919:\tlearn: 0.0075938\ttotal: 3m 6s\tremaining: 16.2s\n",
      "920:\tlearn: 0.0075763\ttotal: 3m 6s\tremaining: 16s\n",
      "921:\tlearn: 0.0075540\ttotal: 3m 7s\tremaining: 15.8s\n",
      "922:\tlearn: 0.0075279\ttotal: 3m 7s\tremaining: 15.6s\n",
      "923:\tlearn: 0.0075115\ttotal: 3m 7s\tremaining: 15.4s\n",
      "924:\tlearn: 0.0074931\ttotal: 3m 7s\tremaining: 15.2s\n",
      "925:\tlearn: 0.0074693\ttotal: 3m 7s\tremaining: 15s\n",
      "926:\tlearn: 0.0074471\ttotal: 3m 8s\tremaining: 14.8s\n",
      "927:\tlearn: 0.0074297\ttotal: 3m 8s\tremaining: 14.6s\n",
      "928:\tlearn: 0.0074057\ttotal: 3m 8s\tremaining: 14.4s\n",
      "929:\tlearn: 0.0073807\ttotal: 3m 8s\tremaining: 14.2s\n",
      "930:\tlearn: 0.0073656\ttotal: 3m 8s\tremaining: 14s\n",
      "931:\tlearn: 0.0073461\ttotal: 3m 9s\tremaining: 13.8s\n",
      "932:\tlearn: 0.0073276\ttotal: 3m 9s\tremaining: 13.6s\n",
      "933:\tlearn: 0.0073091\ttotal: 3m 9s\tremaining: 13.4s\n",
      "934:\tlearn: 0.0072973\ttotal: 3m 9s\tremaining: 13.2s\n",
      "935:\tlearn: 0.0072828\ttotal: 3m 9s\tremaining: 13s\n",
      "936:\tlearn: 0.0072683\ttotal: 3m 9s\tremaining: 12.8s\n",
      "937:\tlearn: 0.0072524\ttotal: 3m 10s\tremaining: 12.6s\n",
      "938:\tlearn: 0.0072332\ttotal: 3m 10s\tremaining: 12.4s\n",
      "939:\tlearn: 0.0072128\ttotal: 3m 10s\tremaining: 12.2s\n",
      "940:\tlearn: 0.0071903\ttotal: 3m 10s\tremaining: 12s\n",
      "941:\tlearn: 0.0071666\ttotal: 3m 10s\tremaining: 11.8s\n",
      "942:\tlearn: 0.0071451\ttotal: 3m 11s\tremaining: 11.6s\n",
      "943:\tlearn: 0.0071263\ttotal: 3m 11s\tremaining: 11.4s\n",
      "944:\tlearn: 0.0071069\ttotal: 3m 11s\tremaining: 11.1s\n",
      "945:\tlearn: 0.0070899\ttotal: 3m 11s\tremaining: 10.9s\n",
      "946:\tlearn: 0.0070719\ttotal: 3m 11s\tremaining: 10.7s\n",
      "947:\tlearn: 0.0070459\ttotal: 3m 12s\tremaining: 10.5s\n",
      "948:\tlearn: 0.0070184\ttotal: 3m 12s\tremaining: 10.3s\n",
      "949:\tlearn: 0.0069973\ttotal: 3m 12s\tremaining: 10.1s\n",
      "950:\tlearn: 0.0069810\ttotal: 3m 12s\tremaining: 9.93s\n",
      "951:\tlearn: 0.0069613\ttotal: 3m 13s\tremaining: 9.73s\n",
      "952:\tlearn: 0.0069457\ttotal: 3m 13s\tremaining: 9.53s\n",
      "953:\tlearn: 0.0069230\ttotal: 3m 13s\tremaining: 9.32s\n",
      "954:\tlearn: 0.0069011\ttotal: 3m 13s\tremaining: 9.12s\n",
      "955:\tlearn: 0.0068861\ttotal: 3m 13s\tremaining: 8.92s\n",
      "956:\tlearn: 0.0068715\ttotal: 3m 14s\tremaining: 8.72s\n",
      "957:\tlearn: 0.0068546\ttotal: 3m 14s\tremaining: 8.51s\n",
      "958:\tlearn: 0.0068386\ttotal: 3m 14s\tremaining: 8.31s\n",
      "959:\tlearn: 0.0068214\ttotal: 3m 14s\tremaining: 8.11s\n",
      "960:\tlearn: 0.0068005\ttotal: 3m 14s\tremaining: 7.91s\n",
      "961:\tlearn: 0.0067802\ttotal: 3m 15s\tremaining: 7.7s\n",
      "962:\tlearn: 0.0067630\ttotal: 3m 15s\tremaining: 7.5s\n",
      "963:\tlearn: 0.0067500\ttotal: 3m 15s\tremaining: 7.3s\n",
      "964:\tlearn: 0.0067392\ttotal: 3m 15s\tremaining: 7.09s\n",
      "965:\tlearn: 0.0067185\ttotal: 3m 15s\tremaining: 6.89s\n",
      "966:\tlearn: 0.0067019\ttotal: 3m 15s\tremaining: 6.69s\n",
      "967:\tlearn: 0.0066794\ttotal: 3m 16s\tremaining: 6.49s\n",
      "968:\tlearn: 0.0066670\ttotal: 3m 16s\tremaining: 6.28s\n",
      "969:\tlearn: 0.0066484\ttotal: 3m 16s\tremaining: 6.08s\n",
      "970:\tlearn: 0.0066288\ttotal: 3m 16s\tremaining: 5.88s\n",
      "971:\tlearn: 0.0066087\ttotal: 3m 16s\tremaining: 5.67s\n",
      "972:\tlearn: 0.0065950\ttotal: 3m 17s\tremaining: 5.47s\n",
      "973:\tlearn: 0.0065709\ttotal: 3m 17s\tremaining: 5.27s\n",
      "974:\tlearn: 0.0065541\ttotal: 3m 17s\tremaining: 5.06s\n",
      "975:\tlearn: 0.0065423\ttotal: 3m 17s\tremaining: 4.86s\n",
      "976:\tlearn: 0.0065331\ttotal: 3m 17s\tremaining: 4.66s\n",
      "977:\tlearn: 0.0065202\ttotal: 3m 18s\tremaining: 4.46s\n",
      "978:\tlearn: 0.0065012\ttotal: 3m 18s\tremaining: 4.25s\n",
      "979:\tlearn: 0.0064867\ttotal: 3m 18s\tremaining: 4.05s\n",
      "980:\tlearn: 0.0064679\ttotal: 3m 18s\tremaining: 3.85s\n",
      "981:\tlearn: 0.0064509\ttotal: 3m 18s\tremaining: 3.64s\n",
      "982:\tlearn: 0.0064366\ttotal: 3m 19s\tremaining: 3.44s\n",
      "983:\tlearn: 0.0064183\ttotal: 3m 19s\tremaining: 3.24s\n",
      "984:\tlearn: 0.0064060\ttotal: 3m 19s\tremaining: 3.04s\n",
      "985:\tlearn: 0.0063944\ttotal: 3m 19s\tremaining: 2.83s\n",
      "986:\tlearn: 0.0063703\ttotal: 3m 19s\tremaining: 2.63s\n",
      "987:\tlearn: 0.0063560\ttotal: 3m 20s\tremaining: 2.43s\n",
      "988:\tlearn: 0.0063367\ttotal: 3m 20s\tremaining: 2.23s\n",
      "989:\tlearn: 0.0063225\ttotal: 3m 20s\tremaining: 2.02s\n",
      "990:\tlearn: 0.0063062\ttotal: 3m 20s\tremaining: 1.82s\n",
      "991:\tlearn: 0.0062895\ttotal: 3m 20s\tremaining: 1.62s\n",
      "992:\tlearn: 0.0062768\ttotal: 3m 21s\tremaining: 1.42s\n",
      "993:\tlearn: 0.0062542\ttotal: 3m 21s\tremaining: 1.21s\n",
      "994:\tlearn: 0.0062355\ttotal: 3m 21s\tremaining: 1.01s\n",
      "995:\tlearn: 0.0062191\ttotal: 3m 21s\tremaining: 810ms\n",
      "996:\tlearn: 0.0061995\ttotal: 3m 21s\tremaining: 607ms\n",
      "997:\tlearn: 0.0061811\ttotal: 3m 22s\tremaining: 405ms\n",
      "998:\tlearn: 0.0061680\ttotal: 3m 22s\tremaining: 202ms\n",
      "999:\tlearn: 0.0061524\ttotal: 3m 22s\tremaining: 0us\n",
      "Accuracy: 86.00% in 204.69766330718994 secs\n"
     ]
    }
   ],
   "source": [
    "# accuracy with all the features\n",
    "# catboost_classifier\n",
    "start_time = time.time()\n",
    "accuracy = catboost_classifier(X_train_resampled, y_train_resampled, X_val, y_val['label_3'] )\n",
    "elapsed_time = time.time() - start_time\n",
    "print(f\"Accuracy: {accuracy * 100:.2f}% in {elapsed_time} secs\")"
   ]
  },
  {
   "cell_type": "code",
   "execution_count": 58,
   "id": "bcb7487e",
   "metadata": {
    "execution": {
     "iopub.execute_input": "2023-09-24T13:30:10.760647Z",
     "iopub.status.busy": "2023-09-24T13:30:10.760142Z",
     "iopub.status.idle": "2023-09-24T13:30:12.668789Z",
     "shell.execute_reply": "2023-09-24T13:30:12.667434Z"
    },
    "papermill": {
     "duration": 2.006742,
     "end_time": "2023-09-24T13:30:12.671822",
     "exception": false,
     "start_time": "2023-09-24T13:30:10.665080",
     "status": "completed"
    },
    "tags": []
   },
   "outputs": [],
   "source": [
    "scaler = RobustScaler()\n",
    "X_train_scaled = scaler.fit_transform(X_train_resampled)\n",
    "X_val_scaled = scaler.transform(X_val)\n",
    "X_test_scaled = scaler.transform(X_test)"
   ]
  },
  {
   "cell_type": "code",
   "execution_count": 59,
   "id": "e40eb84c",
   "metadata": {
    "execution": {
     "iopub.execute_input": "2023-09-24T13:30:12.869803Z",
     "iopub.status.busy": "2023-09-24T13:30:12.869169Z",
     "iopub.status.idle": "2023-09-24T13:30:18.451479Z",
     "shell.execute_reply": "2023-09-24T13:30:18.449304Z"
    },
    "papermill": {
     "duration": 5.68435,
     "end_time": "2023-09-24T13:30:18.456224",
     "exception": false,
     "start_time": "2023-09-24T13:30:12.771874",
     "status": "completed"
    },
    "tags": []
   },
   "outputs": [],
   "source": [
    "pca = PCA(n_components=0.98, svd_solver = 'full')\n",
    "X_train_pca = pca.fit_transform(X_train_scaled)\n",
    "X_val_pca = pca.transform(X_val)\n",
    "X_test_pca = pca.transform(X_test)"
   ]
  },
  {
   "cell_type": "code",
   "execution_count": 60,
   "id": "747a9622",
   "metadata": {
    "execution": {
     "iopub.execute_input": "2023-09-24T13:30:18.703095Z",
     "iopub.status.busy": "2023-09-24T13:30:18.701711Z",
     "iopub.status.idle": "2023-09-24T13:30:18.708537Z",
     "shell.execute_reply": "2023-09-24T13:30:18.707719Z"
    },
    "papermill": {
     "duration": 0.103366,
     "end_time": "2023-09-24T13:30:18.710574",
     "exception": false,
     "start_time": "2023-09-24T13:30:18.607208",
     "status": "completed"
    },
    "tags": []
   },
   "outputs": [
    {
     "data": {
      "text/plain": [
       "(39893, 276)"
      ]
     },
     "execution_count": 60,
     "metadata": {},
     "output_type": "execute_result"
    }
   ],
   "source": [
    "X_train_pca.shape"
   ]
  },
  {
   "cell_type": "code",
   "execution_count": 61,
   "id": "a8a2dbb0",
   "metadata": {
    "collapsed": true,
    "execution": {
     "iopub.execute_input": "2023-09-24T13:30:18.898280Z",
     "iopub.status.busy": "2023-09-24T13:30:18.897151Z",
     "iopub.status.idle": "2023-09-24T13:30:18.902536Z",
     "shell.execute_reply": "2023-09-24T13:30:18.901577Z"
    },
    "jupyter": {
     "outputs_hidden": true
    },
    "papermill": {
     "duration": 0.10199,
     "end_time": "2023-09-24T13:30:18.904798",
     "exception": false,
     "start_time": "2023-09-24T13:30:18.802808",
     "status": "completed"
    },
    "tags": []
   },
   "outputs": [],
   "source": [
    "# # defining parameter range\n",
    "# param_grid = {'depth': [6, 8],\n",
    "#               'learning_rate' : [0.01, 0.05, 0.1],\n",
    "#               'iterations': [100]}\n",
    "\n",
    "# # Create a CatBoostClassifier object\n",
    "# cb = CatBoostClassifier(task_type=\"GPU\")\n",
    "\n",
    "# # Create GridSearchCV object\n",
    "# grid = GridSearchCV(cb, param_grid, cv=3, verbose=2)\n",
    "\n",
    "# # fitting the model for grid search\n",
    "# grid.fit(X_train_pca, y_train_resampled)\n",
    "\n",
    "# # get the best parameters\n",
    "# grid.best_params_"
   ]
  },
  {
   "cell_type": "code",
   "execution_count": 62,
   "id": "3f7c0d47",
   "metadata": {
    "execution": {
     "iopub.execute_input": "2023-09-24T13:30:19.096979Z",
     "iopub.status.busy": "2023-09-24T13:30:19.096519Z",
     "iopub.status.idle": "2023-09-24T13:30:19.101724Z",
     "shell.execute_reply": "2023-09-24T13:30:19.100644Z"
    },
    "papermill": {
     "duration": 0.102945,
     "end_time": "2023-09-24T13:30:19.103986",
     "exception": false,
     "start_time": "2023-09-24T13:30:19.001041",
     "status": "completed"
    },
    "tags": []
   },
   "outputs": [],
   "source": [
    "# # Define parameter range\n",
    "# param_grid = {'C': [100,1000], \n",
    "#               'gamma': [ 0.1, 0.01],\n",
    "#               'kernel': ['rbf']}\n",
    "\n",
    "# # Create a SVM object\n",
    "# svc = SVC()\n",
    "\n",
    "# # Create GridSearchCV object\n",
    "# grid = GridSearchCV(svc, param_grid, cv=3, verbose=2)\n",
    "\n",
    "# # Fit the model for grid search\n",
    "# grid.fit(X_train_pca, y_train_resampled)\n",
    "\n",
    "# # Get the best parameters\n",
    "# grid.best_params_"
   ]
  },
  {
   "cell_type": "code",
   "execution_count": 63,
   "id": "fa791d90",
   "metadata": {
    "collapsed": true,
    "execution": {
     "iopub.execute_input": "2023-09-24T13:30:19.294151Z",
     "iopub.status.busy": "2023-09-24T13:30:19.293626Z",
     "iopub.status.idle": "2023-09-24T13:30:19.299210Z",
     "shell.execute_reply": "2023-09-24T13:30:19.298016Z"
    },
    "jupyter": {
     "outputs_hidden": true
    },
    "papermill": {
     "duration": 0.103352,
     "end_time": "2023-09-24T13:30:19.301573",
     "exception": false,
     "start_time": "2023-09-24T13:30:19.198221",
     "status": "completed"
    },
    "tags": []
   },
   "outputs": [],
   "source": [
    "# # Create a CatBoostClassifier object\n",
    "# cb = CatBoostClassifier(depth=8, learning_rate=0.1, iterations=100,task_type=\"GPU\")\n",
    "\n",
    "# # Perform cross-validation and compute the mean score\n",
    "# cross_val_score(cb, X_train_pca, y_train_resampled, cv=3).mean()"
   ]
  },
  {
   "cell_type": "code",
   "execution_count": 64,
   "id": "bef7e970",
   "metadata": {
    "execution": {
     "iopub.execute_input": "2023-09-24T13:30:19.491268Z",
     "iopub.status.busy": "2023-09-24T13:30:19.490775Z",
     "iopub.status.idle": "2023-09-24T13:50:29.546528Z",
     "shell.execute_reply": "2023-09-24T13:50:29.545237Z"
    },
    "papermill": {
     "duration": 1210.253207,
     "end_time": "2023-09-24T13:50:29.649291",
     "exception": false,
     "start_time": "2023-09-24T13:30:19.396084",
     "status": "completed"
    },
    "tags": []
   },
   "outputs": [
    {
     "data": {
      "text/plain": [
       "0.9925552281116591"
      ]
     },
     "execution_count": 64,
     "metadata": {},
     "output_type": "execute_result"
    }
   ],
   "source": [
    "cross_val_score(SVC(C=1000, gamma=0.01, kernel='rbf'), X_train_pca, y_train_resampled, cv=3).mean()"
   ]
  },
  {
   "cell_type": "code",
   "execution_count": 65,
   "id": "7c391d38",
   "metadata": {
    "execution": {
     "iopub.execute_input": "2023-09-24T13:50:29.841776Z",
     "iopub.status.busy": "2023-09-24T13:50:29.840664Z",
     "iopub.status.idle": "2023-09-24T14:03:26.714879Z",
     "shell.execute_reply": "2023-09-24T14:03:26.713356Z"
    },
    "papermill": {
     "duration": 777.194656,
     "end_time": "2023-09-24T14:03:26.939176",
     "exception": false,
     "start_time": "2023-09-24T13:50:29.744520",
     "status": "completed"
    },
    "tags": []
   },
   "outputs": [
    {
     "data": {
      "text/html": [
       "<style>#sk-container-id-3 {color: black;background-color: white;}#sk-container-id-3 pre{padding: 0;}#sk-container-id-3 div.sk-toggleable {background-color: white;}#sk-container-id-3 label.sk-toggleable__label {cursor: pointer;display: block;width: 100%;margin-bottom: 0;padding: 0.3em;box-sizing: border-box;text-align: center;}#sk-container-id-3 label.sk-toggleable__label-arrow:before {content: \"▸\";float: left;margin-right: 0.25em;color: #696969;}#sk-container-id-3 label.sk-toggleable__label-arrow:hover:before {color: black;}#sk-container-id-3 div.sk-estimator:hover label.sk-toggleable__label-arrow:before {color: black;}#sk-container-id-3 div.sk-toggleable__content {max-height: 0;max-width: 0;overflow: hidden;text-align: left;background-color: #f0f8ff;}#sk-container-id-3 div.sk-toggleable__content pre {margin: 0.2em;color: black;border-radius: 0.25em;background-color: #f0f8ff;}#sk-container-id-3 input.sk-toggleable__control:checked~div.sk-toggleable__content {max-height: 200px;max-width: 100%;overflow: auto;}#sk-container-id-3 input.sk-toggleable__control:checked~label.sk-toggleable__label-arrow:before {content: \"▾\";}#sk-container-id-3 div.sk-estimator input.sk-toggleable__control:checked~label.sk-toggleable__label {background-color: #d4ebff;}#sk-container-id-3 div.sk-label input.sk-toggleable__control:checked~label.sk-toggleable__label {background-color: #d4ebff;}#sk-container-id-3 input.sk-hidden--visually {border: 0;clip: rect(1px 1px 1px 1px);clip: rect(1px, 1px, 1px, 1px);height: 1px;margin: -1px;overflow: hidden;padding: 0;position: absolute;width: 1px;}#sk-container-id-3 div.sk-estimator {font-family: monospace;background-color: #f0f8ff;border: 1px dotted black;border-radius: 0.25em;box-sizing: border-box;margin-bottom: 0.5em;}#sk-container-id-3 div.sk-estimator:hover {background-color: #d4ebff;}#sk-container-id-3 div.sk-parallel-item::after {content: \"\";width: 100%;border-bottom: 1px solid gray;flex-grow: 1;}#sk-container-id-3 div.sk-label:hover label.sk-toggleable__label {background-color: #d4ebff;}#sk-container-id-3 div.sk-serial::before {content: \"\";position: absolute;border-left: 1px solid gray;box-sizing: border-box;top: 0;bottom: 0;left: 50%;z-index: 0;}#sk-container-id-3 div.sk-serial {display: flex;flex-direction: column;align-items: center;background-color: white;padding-right: 0.2em;padding-left: 0.2em;position: relative;}#sk-container-id-3 div.sk-item {position: relative;z-index: 1;}#sk-container-id-3 div.sk-parallel {display: flex;align-items: stretch;justify-content: center;background-color: white;position: relative;}#sk-container-id-3 div.sk-item::before, #sk-container-id-3 div.sk-parallel-item::before {content: \"\";position: absolute;border-left: 1px solid gray;box-sizing: border-box;top: 0;bottom: 0;left: 50%;z-index: -1;}#sk-container-id-3 div.sk-parallel-item {display: flex;flex-direction: column;z-index: 1;position: relative;background-color: white;}#sk-container-id-3 div.sk-parallel-item:first-child::after {align-self: flex-end;width: 50%;}#sk-container-id-3 div.sk-parallel-item:last-child::after {align-self: flex-start;width: 50%;}#sk-container-id-3 div.sk-parallel-item:only-child::after {width: 0;}#sk-container-id-3 div.sk-dashed-wrapped {border: 1px dashed gray;margin: 0 0.4em 0.5em 0.4em;box-sizing: border-box;padding-bottom: 0.4em;background-color: white;}#sk-container-id-3 div.sk-label label {font-family: monospace;font-weight: bold;display: inline-block;line-height: 1.2em;}#sk-container-id-3 div.sk-label-container {text-align: center;}#sk-container-id-3 div.sk-container {/* jupyter's `normalize.less` sets `[hidden] { display: none; }` but bootstrap.min.css set `[hidden] { display: none !important; }` so we also need the `!important` here to be able to override the default hidden behavior on the sphinx rendered scikit-learn.org. See: https://github.com/scikit-learn/scikit-learn/issues/21755 */display: inline-block !important;position: relative;}#sk-container-id-3 div.sk-text-repr-fallback {display: none;}</style><div id=\"sk-container-id-3\" class=\"sk-top-container\"><div class=\"sk-text-repr-fallback\"><pre>SVC(C=1000, gamma=0.01)</pre><b>In a Jupyter environment, please rerun this cell to show the HTML representation or trust the notebook. <br />On GitHub, the HTML representation is unable to render, please try loading this page with nbviewer.org.</b></div><div class=\"sk-container\" hidden><div class=\"sk-item\"><div class=\"sk-estimator sk-toggleable\"><input class=\"sk-toggleable__control sk-hidden--visually\" id=\"sk-estimator-id-3\" type=\"checkbox\" checked><label for=\"sk-estimator-id-3\" class=\"sk-toggleable__label sk-toggleable__label-arrow\">SVC</label><div class=\"sk-toggleable__content\"><pre>SVC(C=1000, gamma=0.01)</pre></div></div></div></div></div>"
      ],
      "text/plain": [
       "SVC(C=1000, gamma=0.01)"
      ]
     },
     "execution_count": 65,
     "metadata": {},
     "output_type": "execute_result"
    }
   ],
   "source": [
    "best_model_label_3 = SVC(C=1000, gamma=0.01, kernel='rbf')\n",
    "best_model_label_3.fit(X_train_pca, y_train_resampled)"
   ]
  },
  {
   "cell_type": "code",
   "execution_count": 66,
   "id": "ac287564",
   "metadata": {
    "execution": {
     "iopub.execute_input": "2023-09-24T14:03:27.135419Z",
     "iopub.status.busy": "2023-09-24T14:03:27.133736Z",
     "iopub.status.idle": "2023-09-24T14:03:31.674978Z",
     "shell.execute_reply": "2023-09-24T14:03:31.673558Z"
    },
    "id": "GHOnq9B4QHvN",
    "papermill": {
     "duration": 4.642964,
     "end_time": "2023-09-24T14:03:31.678472",
     "exception": false,
     "start_time": "2023-09-24T14:03:27.035508",
     "status": "completed"
    },
    "tags": []
   },
   "outputs": [],
   "source": [
    "label_3_pred_after = best_model_label_3.predict(np.array(X_test_pca))"
   ]
  },
  {
   "cell_type": "markdown",
   "id": "6893b7e8",
   "metadata": {
    "id": "AU2JK0lf-fwO",
    "papermill": {
     "duration": 0.095279,
     "end_time": "2023-09-24T14:03:31.871574",
     "exception": false,
     "start_time": "2023-09-24T14:03:31.776295",
     "status": "completed"
    },
    "tags": []
   },
   "source": [
    "# Label 4"
   ]
  },
  {
   "cell_type": "code",
   "execution_count": 67,
   "id": "40537056",
   "metadata": {
    "execution": {
     "iopub.execute_input": "2023-09-24T14:03:32.075039Z",
     "iopub.status.busy": "2023-09-24T14:03:32.074615Z",
     "iopub.status.idle": "2023-09-24T14:03:32.289856Z",
     "shell.execute_reply": "2023-09-24T14:03:32.288461Z"
    },
    "id": "-8xrCT6xFEaw",
    "papermill": {
     "duration": 0.323642,
     "end_time": "2023-09-24T14:03:32.292916",
     "exception": false,
     "start_time": "2023-09-24T14:03:31.969274",
     "status": "completed"
    },
    "tags": []
   },
   "outputs": [],
   "source": [
    "label_4_train = train.copy()\n",
    "label_4_valid = valid.copy()\n",
    "label_4_test = test.copy()"
   ]
  },
  {
   "cell_type": "code",
   "execution_count": 68,
   "id": "51dbb083",
   "metadata": {
    "execution": {
     "iopub.execute_input": "2023-09-24T14:03:32.488690Z",
     "iopub.status.busy": "2023-09-24T14:03:32.488246Z",
     "iopub.status.idle": "2023-09-24T14:03:32.728747Z",
     "shell.execute_reply": "2023-09-24T14:03:32.727140Z"
    },
    "id": "bvb63pxuDGeq",
    "papermill": {
     "duration": 0.341045,
     "end_time": "2023-09-24T14:03:32.731908",
     "exception": false,
     "start_time": "2023-09-24T14:03:32.390863",
     "status": "completed"
    },
    "tags": []
   },
   "outputs": [],
   "source": [
    "label_4_train = label_4_train.dropna(subset=['label_4'])\n",
    "label_4_valid = label_4_valid.dropna(subset=['label_4'])"
   ]
  },
  {
   "cell_type": "code",
   "execution_count": 69,
   "id": "ceb540d0",
   "metadata": {
    "execution": {
     "iopub.execute_input": "2023-09-24T14:03:32.938252Z",
     "iopub.status.busy": "2023-09-24T14:03:32.937602Z",
     "iopub.status.idle": "2023-09-24T14:03:33.059697Z",
     "shell.execute_reply": "2023-09-24T14:03:33.058682Z"
    },
    "id": "xp0L9mysEqYd",
    "papermill": {
     "duration": 0.231926,
     "end_time": "2023-09-24T14:03:33.062739",
     "exception": false,
     "start_time": "2023-09-24T14:03:32.830813",
     "status": "completed"
    },
    "tags": []
   },
   "outputs": [],
   "source": [
    "X_train = label_4_train.iloc[:, :-4]\n",
    "y_train = label_4_train.iloc[:, -1:]\n",
    "X_val = label_4_valid.iloc[:, :-4]\n",
    "y_val = label_4_valid.iloc[:, -1:]\n",
    "X_test = label_4_test.iloc[:, 1:]"
   ]
  },
  {
   "cell_type": "code",
   "execution_count": 70,
   "id": "25892cbb",
   "metadata": {
    "execution": {
     "iopub.execute_input": "2023-09-24T14:03:33.262924Z",
     "iopub.status.busy": "2023-09-24T14:03:33.262410Z",
     "iopub.status.idle": "2023-09-24T14:03:33.687111Z",
     "shell.execute_reply": "2023-09-24T14:03:33.685461Z"
    },
    "papermill": {
     "duration": 0.527325,
     "end_time": "2023-09-24T14:03:33.689887",
     "exception": false,
     "start_time": "2023-09-24T14:03:33.162562",
     "status": "completed"
    },
    "tags": []
   },
   "outputs": [
    {
     "data": {
      "text/plain": [
       "<Axes: xlabel='label_4', ylabel='Count'>"
      ]
     },
     "execution_count": 70,
     "metadata": {},
     "output_type": "execute_result"
    },
    {
     "data": {
      "image/png": "[encoded data removed]",
      "text/plain": [
       "<Figure size 1800x600 with 1 Axes>"
      ]
     },
     "metadata": {},
     "output_type": "display_data"
    }
   ],
   "source": [
    "plt.figure(figsize=(18, 6))\n",
    "sn.histplot(data=y_train, x='label_4', bins=20, kde=False)"
   ]
  },
  {
   "cell_type": "code",
   "execution_count": 71,
   "id": "088b60ac",
   "metadata": {
    "execution": {
     "iopub.execute_input": "2023-09-24T14:03:33.887094Z",
     "iopub.status.busy": "2023-09-24T14:03:33.886611Z",
     "iopub.status.idle": "2023-09-24T14:03:34.350466Z",
     "shell.execute_reply": "2023-09-24T14:03:34.349187Z"
    },
    "id": "Y6rfOPwG-gvs",
    "outputId": "7ffd7930-ccf4-49f7-db22-cebc61e35b09",
    "papermill": {
     "duration": 0.566171,
     "end_time": "2023-09-24T14:03:34.353390",
     "exception": false,
     "start_time": "2023-09-24T14:03:33.787219",
     "status": "completed"
    },
    "tags": []
   },
   "outputs": [
    {
     "data": {
      "image/png": "[encoded data removed]",
      "text/plain": [
       "<Figure size 1800x600 with 1 Axes>"
      ]
     },
     "metadata": {},
     "output_type": "display_data"
    }
   ],
   "source": [
    "plt.figure(figsize=(18, 6))\n",
    "ax = sn.countplot(x=y_train['label_4'], color='teal')\n",
    "\n",
    "for p in ax.patches:\n",
    "    ax.annotate(f'{p.get_height()}', (p.get_x() + p.get_width() / 2., p.get_height()),\n",
    "                ha='center', va='bottom', fontsize=9, color='black')"
   ]
  },
  {
   "cell_type": "code",
   "execution_count": 72,
   "id": "e817ab3e",
   "metadata": {
    "execution": {
     "iopub.execute_input": "2023-09-24T14:03:34.557805Z",
     "iopub.status.busy": "2023-09-24T14:03:34.557231Z",
     "iopub.status.idle": "2023-09-24T14:03:35.709116Z",
     "shell.execute_reply": "2023-09-24T14:03:35.707038Z"
    },
    "id": "G2TrwK0GDitH",
    "outputId": "aea44507-39fb-4bea-f345-450e7c22ac98",
    "papermill": {
     "duration": 1.258765,
     "end_time": "2023-09-24T14:03:35.711978",
     "exception": false,
     "start_time": "2023-09-24T14:03:34.453213",
     "status": "completed"
    },
    "tags": []
   },
   "outputs": [
    {
     "name": "stdout",
     "output_type": "stream",
     "text": [
      "Accuracy: 54.00% in 1.1435534954071045 secs\n"
     ]
    }
   ],
   "source": [
    "# accuracy with all the features\n",
    "#knn\n",
    "start_time = time.time()\n",
    "accuracy = knn_classifier(X_train, y_train, X_val, y_val['label_4'] )\n",
    "elapsed_time = time.time() - start_time\n",
    "print(f\"Accuracy: {accuracy * 100:.2f}% in {elapsed_time} secs\")"
   ]
  },
  {
   "cell_type": "code",
   "execution_count": 73,
   "id": "a591930c",
   "metadata": {
    "execution": {
     "iopub.execute_input": "2023-09-24T14:03:35.909488Z",
     "iopub.status.busy": "2023-09-24T14:03:35.908592Z",
     "iopub.status.idle": "2023-09-24T14:03:40.119973Z",
     "shell.execute_reply": "2023-09-24T14:03:40.118807Z"
    },
    "id": "7dYz2RLdAFu4",
    "papermill": {
     "duration": 4.311839,
     "end_time": "2023-09-24T14:03:40.122949",
     "exception": false,
     "start_time": "2023-09-24T14:03:35.811110",
     "status": "completed"
    },
    "tags": []
   },
   "outputs": [],
   "source": [
    "ros = RandomOverSampler(random_state=0)\n",
    "X_train_resampled, y_train_resampled = ros.fit_resample(X_train, y_train['label_4'])"
   ]
  },
  {
   "cell_type": "code",
   "execution_count": 74,
   "id": "9189903c",
   "metadata": {
    "execution": {
     "iopub.execute_input": "2023-09-24T14:03:40.328416Z",
     "iopub.status.busy": "2023-09-24T14:03:40.327591Z",
     "iopub.status.idle": "2023-09-24T14:03:40.803098Z",
     "shell.execute_reply": "2023-09-24T14:03:40.801590Z"
    },
    "id": "B73zGXtvAY90",
    "outputId": "6a5f9d61-bc87-48a0-b2be-18170a4bf6f1",
    "papermill": {
     "duration": 0.583606,
     "end_time": "2023-09-24T14:03:40.806284",
     "exception": false,
     "start_time": "2023-09-24T14:03:40.222678",
     "status": "completed"
    },
    "tags": []
   },
   "outputs": [
    {
     "data": {
      "image/png": "[encoded data removed]",
      "text/plain": [
       "<Figure size 1800x600 with 1 Axes>"
      ]
     },
     "metadata": {},
     "output_type": "display_data"
    }
   ],
   "source": [
    "plt.figure(figsize=(18, 6))\n",
    "ax = sn.countplot(x=y_train_resampled, color='teal')\n",
    "\n",
    "for p in ax.patches:\n",
    "    ax.annotate(f'{p.get_height()}', (p.get_x() + p.get_width() / 2., p.get_height()),\n",
    "                ha='center', va='bottom', fontsize=9, color='black')"
   ]
  },
  {
   "cell_type": "code",
   "execution_count": 75,
   "id": "e7568de5",
   "metadata": {
    "execution": {
     "iopub.execute_input": "2023-09-24T14:03:41.007034Z",
     "iopub.status.busy": "2023-09-24T14:03:41.006572Z",
     "iopub.status.idle": "2023-09-24T14:03:53.355632Z",
     "shell.execute_reply": "2023-09-24T14:03:53.354129Z"
    },
    "papermill": {
     "duration": 12.452395,
     "end_time": "2023-09-24T14:03:53.358685",
     "exception": false,
     "start_time": "2023-09-24T14:03:40.906290",
     "status": "completed"
    },
    "tags": []
   },
   "outputs": [],
   "source": [
    "scaler = RobustScaler()\n",
    "X_train_scaled = scaler.fit_transform(X_train_resampled)\n",
    "X_val_scaled = scaler.transform(X_val)\n",
    "X_test_scaled = scaler.transform(X_test)"
   ]
  },
  {
   "cell_type": "code",
   "execution_count": 76,
   "id": "5bfcca2b",
   "metadata": {
    "execution": {
     "iopub.execute_input": "2023-09-24T14:03:53.558492Z",
     "iopub.status.busy": "2023-09-24T14:03:53.557953Z",
     "iopub.status.idle": "2023-09-24T14:04:37.678753Z",
     "shell.execute_reply": "2023-09-24T14:04:37.676988Z"
    },
    "papermill": {
     "duration": 44.223603,
     "end_time": "2023-09-24T14:04:37.683263",
     "exception": false,
     "start_time": "2023-09-24T14:03:53.459660",
     "status": "completed"
    },
    "tags": []
   },
   "outputs": [],
   "source": [
    "pca = PCA(n_components=0.98, svd_solver = 'full')\n",
    "X_train_pca = pca.fit_transform(X_train_scaled)\n",
    "X_val_pca = pca.transform(X_val_scaled)\n",
    "X_test_pca = pca.transform(X_test_scaled)"
   ]
  },
  {
   "cell_type": "code",
   "execution_count": 77,
   "id": "03d31e8a",
   "metadata": {
    "execution": {
     "iopub.execute_input": "2023-09-24T14:04:37.936332Z",
     "iopub.status.busy": "2023-09-24T14:04:37.935928Z",
     "iopub.status.idle": "2023-09-24T14:04:37.943694Z",
     "shell.execute_reply": "2023-09-24T14:04:37.942465Z"
    },
    "papermill": {
     "duration": 0.108367,
     "end_time": "2023-09-24T14:04:37.946189",
     "exception": false,
     "start_time": "2023-09-24T14:04:37.837822",
     "status": "completed"
    },
    "tags": []
   },
   "outputs": [
    {
     "data": {
      "text/plain": [
       "(279132, 261)"
      ]
     },
     "execution_count": 77,
     "metadata": {},
     "output_type": "execute_result"
    }
   ],
   "source": [
    "X_train_pca.shape"
   ]
  },
  {
   "cell_type": "code",
   "execution_count": 78,
   "id": "738ed7ba",
   "metadata": {
    "collapsed": true,
    "execution": {
     "iopub.execute_input": "2023-09-24T14:04:38.146652Z",
     "iopub.status.busy": "2023-09-24T14:04:38.146008Z",
     "iopub.status.idle": "2023-09-24T14:04:38.151717Z",
     "shell.execute_reply": "2023-09-24T14:04:38.150655Z"
    },
    "jupyter": {
     "outputs_hidden": true
    },
    "papermill": {
     "duration": 0.107734,
     "end_time": "2023-09-24T14:04:38.153967",
     "exception": false,
     "start_time": "2023-09-24T14:04:38.046233",
     "status": "completed"
    },
    "tags": []
   },
   "outputs": [],
   "source": [
    "# # defining parameter range\n",
    "# param_grid = {'depth': [6, 8],\n",
    "#               'learning_rate' : [0.01, 0.05, 0.1],\n",
    "#               'iterations': [100]}\n",
    "\n",
    "# # Create a CatBoostClassifier object\n",
    "# cb = CatBoostClassifier(task_type=\"GPU\")\n",
    "\n",
    "# # Create GridSearchCV object\n",
    "# grid = GridSearchCV(cb, param_grid, cv=3, verbose=2)\n",
    "\n",
    "# # fitting the model for grid search\n",
    "# grid.fit(X_train_pca, y_train_resampled)\n",
    "\n",
    "# # get the best parameters\n",
    "# grid.best_params_"
   ]
  },
  {
   "cell_type": "code",
   "execution_count": 79,
   "id": "6e13cfce",
   "metadata": {
    "execution": {
     "iopub.execute_input": "2023-09-24T14:04:38.349559Z",
     "iopub.status.busy": "2023-09-24T14:04:38.349028Z",
     "iopub.status.idle": "2023-09-24T14:04:38.354709Z",
     "shell.execute_reply": "2023-09-24T14:04:38.353493Z"
    },
    "papermill": {
     "duration": 0.107588,
     "end_time": "2023-09-24T14:04:38.357334",
     "exception": false,
     "start_time": "2023-09-24T14:04:38.249746",
     "status": "completed"
    },
    "tags": []
   },
   "outputs": [],
   "source": [
    "# # Define parameter range\n",
    "# param_grid = {'C': [100,1000], \n",
    "#               'gamma': [ 0.1, 0.01],\n",
    "#               'kernel': ['rbf']}\n",
    "\n",
    "# # Create a SVM object\n",
    "# svc = SVC()\n",
    "\n",
    "# # Create GridSearchCV object\n",
    "# grid = GridSearchCV(svc, param_grid, cv=3, verbose=2)\n",
    "\n",
    "# # Fit the model for grid search\n",
    "# grid.fit(X_train_pca, y_train_resampled)\n",
    "\n",
    "# # Get the best parameters\n",
    "# grid.best_params_"
   ]
  },
  {
   "cell_type": "code",
   "execution_count": 80,
   "id": "9e094e80",
   "metadata": {
    "collapsed": true,
    "execution": {
     "iopub.execute_input": "2023-09-24T14:04:38.553787Z",
     "iopub.status.busy": "2023-09-24T14:04:38.553248Z",
     "iopub.status.idle": "2023-09-24T14:04:38.558100Z",
     "shell.execute_reply": "2023-09-24T14:04:38.556864Z"
    },
    "jupyter": {
     "outputs_hidden": true
    },
    "papermill": {
     "duration": 0.105452,
     "end_time": "2023-09-24T14:04:38.560534",
     "exception": false,
     "start_time": "2023-09-24T14:04:38.455082",
     "status": "completed"
    },
    "tags": []
   },
   "outputs": [],
   "source": [
    "# cb = CatBoostClassifier(depth=8, learning_rate=0.1, iterations=100,task_type=\"GPU\")\n",
    "# cross_val_score(cb, X_train_pca, y_train_resampled, cv=3).mean()"
   ]
  },
  {
   "cell_type": "code",
   "execution_count": 81,
   "id": "c57fa588",
   "metadata": {
    "execution": {
     "iopub.execute_input": "2023-09-24T14:04:38.756084Z",
     "iopub.status.busy": "2023-09-24T14:04:38.755586Z",
     "iopub.status.idle": "2023-09-24T15:28:47.478863Z",
     "shell.execute_reply": "2023-09-24T15:28:47.477278Z"
    },
    "id": "lzWRDpBUAaT9",
    "papermill": {
     "duration": 5048.927446,
     "end_time": "2023-09-24T15:28:47.583624",
     "exception": false,
     "start_time": "2023-09-24T14:04:38.656178",
     "status": "completed"
    },
    "tags": []
   },
   "outputs": [
    {
     "name": "stdout",
     "output_type": "stream",
     "text": [
      "Accuracy: 5.87% in 5048.714841842651 secs\n"
     ]
    }
   ],
   "source": [
    "# accuracy with all the features\n",
    "#svm\n",
    "start_time = time.time()\n",
    "accuracy = svm_classifier(X_train_resampled, y_train_resampled, X_val, y_val['label_4'] )\n",
    "elapsed_time = time.time() - start_time\n",
    "print(f\"Accuracy: {accuracy * 100:.2f}% in {elapsed_time} secs\")"
   ]
  },
  {
   "cell_type": "code",
   "execution_count": 82,
   "id": "7c179998",
   "metadata": {
    "execution": {
     "iopub.execute_input": "2023-09-24T15:28:47.798681Z",
     "iopub.status.busy": "2023-09-24T15:28:47.798233Z",
     "iopub.status.idle": "2023-09-24T15:28:59.832139Z",
     "shell.execute_reply": "2023-09-24T15:28:59.830801Z"
    },
    "id": "IhXrcfyDAncr",
    "outputId": "aa1cb504-1b50-433b-e970-5de2c3b3651c",
    "papermill": {
     "duration": 12.146069,
     "end_time": "2023-09-24T15:28:59.834734",
     "exception": false,
     "start_time": "2023-09-24T15:28:47.688665",
     "status": "completed"
    },
    "tags": []
   },
   "outputs": [
    {
     "name": "stdout",
     "output_type": "stream",
     "text": [
      "Accuracy: 54.00% in 12.026458024978638 secs\n"
     ]
    }
   ],
   "source": [
    "# accuracy with all the features\n",
    "#knn\n",
    "start_time = time.time()\n",
    "accuracy = knn_classifier(X_train_resampled, y_train_resampled, X_val, y_val['label_4'] )\n",
    "elapsed_time = time.time() - start_time\n",
    "print(f\"Accuracy: {accuracy * 100:.2f}% in {elapsed_time} secs\")"
   ]
  },
  {
   "cell_type": "code",
   "execution_count": 83,
   "id": "394642d8",
   "metadata": {
    "execution": {
     "iopub.execute_input": "2023-09-24T15:29:00.029048Z",
     "iopub.status.busy": "2023-09-24T15:29:00.028561Z",
     "iopub.status.idle": "2023-09-24T15:31:38.371849Z",
     "shell.execute_reply": "2023-09-24T15:31:38.370065Z"
    },
    "id": "_0fXjozNGXKW",
    "papermill": {
     "duration": 158.606022,
     "end_time": "2023-09-24T15:31:38.536272",
     "exception": false,
     "start_time": "2023-09-24T15:28:59.930250",
     "status": "completed"
    },
    "tags": []
   },
   "outputs": [
    {
     "name": "stdout",
     "output_type": "stream",
     "text": [
      "Accuracy: 7.33% in 158.33134198188782 secs\n"
     ]
    }
   ],
   "source": [
    "# accuracy with all the features\n",
    "#logistic_regression_classifier\n",
    "start_time = time.time()\n",
    "accuracy = logistic_regression_classifier(X_train_resampled, y_train_resampled, X_val, y_val['label_4'] )\n",
    "elapsed_time = time.time() - start_time\n",
    "print(f\"Accuracy: {accuracy * 100:.2f}% in {elapsed_time} secs\")"
   ]
  },
  {
   "cell_type": "code",
   "execution_count": 84,
   "id": "db49b4c4",
   "metadata": {
    "execution": {
     "iopub.execute_input": "2023-09-24T15:31:38.731247Z",
     "iopub.status.busy": "2023-09-24T15:31:38.730863Z",
     "iopub.status.idle": "2023-09-24T19:13:33.745003Z",
     "shell.execute_reply": "2023-09-24T19:13:33.742567Z"
    },
    "papermill": {
     "duration": 13315.22032,
     "end_time": "2023-09-24T19:13:33.853154",
     "exception": false,
     "start_time": "2023-09-24T15:31:38.632834",
     "status": "completed"
    },
    "tags": []
   },
   "outputs": [
    {
     "data": {
      "text/plain": [
       "0.9977895762578278"
      ]
     },
     "execution_count": 84,
     "metadata": {},
     "output_type": "execute_result"
    }
   ],
   "source": [
    "cross_val_score(SVC(C=1000, gamma=0.01, kernel='rbf'), X_train_pca, y_train_resampled, cv=3).mean()"
   ]
  },
  {
   "cell_type": "code",
   "execution_count": 85,
   "id": "9f411015",
   "metadata": {
    "collapsed": true,
    "execution": {
     "iopub.execute_input": "2023-09-24T19:13:34.248677Z",
     "iopub.status.busy": "2023-09-24T19:13:34.247809Z",
     "iopub.status.idle": "2023-09-24T19:13:34.254352Z",
     "shell.execute_reply": "2023-09-24T19:13:34.253520Z"
    },
    "id": "G7zj0IHBBC5B",
    "jupyter": {
     "outputs_hidden": true
    },
    "papermill": {
     "duration": 0.302753,
     "end_time": "2023-09-24T19:13:34.256631",
     "exception": false,
     "start_time": "2023-09-24T19:13:33.953878",
     "status": "completed"
    },
    "tags": []
   },
   "outputs": [],
   "source": [
    "# best_model_label_4 = CatBoostClassifier(depth=8, learning_rate=0.1, iterations=100,task_type=\"GPU\")\n",
    "# best_model_label_4.fit(X_train_pca, y_train_resampled)"
   ]
  },
  {
   "cell_type": "code",
   "execution_count": 86,
   "id": "f8d409db",
   "metadata": {
    "execution": {
     "iopub.execute_input": "2023-09-24T19:13:34.457795Z",
     "iopub.status.busy": "2023-09-24T19:13:34.456733Z",
     "iopub.status.idle": "2023-09-24T21:05:28.690643Z",
     "shell.execute_reply": "2023-09-24T21:05:28.687575Z"
    },
    "papermill": {
     "duration": 6714.451019,
     "end_time": "2023-09-24T21:05:28.806970",
     "exception": false,
     "start_time": "2023-09-24T19:13:34.355951",
     "status": "completed"
    },
    "tags": []
   },
   "outputs": [
    {
     "data": {
      "text/html": [
       "<style>#sk-container-id-4 {color: black;background-color: white;}#sk-container-id-4 pre{padding: 0;}#sk-container-id-4 div.sk-toggleable {background-color: white;}#sk-container-id-4 label.sk-toggleable__label {cursor: pointer;display: block;width: 100%;margin-bottom: 0;padding: 0.3em;box-sizing: border-box;text-align: center;}#sk-container-id-4 label.sk-toggleable__label-arrow:before {content: \"▸\";float: left;margin-right: 0.25em;color: #696969;}#sk-container-id-4 label.sk-toggleable__label-arrow:hover:before {color: black;}#sk-container-id-4 div.sk-estimator:hover label.sk-toggleable__label-arrow:before {color: black;}#sk-container-id-4 div.sk-toggleable__content {max-height: 0;max-width: 0;overflow: hidden;text-align: left;background-color: #f0f8ff;}#sk-container-id-4 div.sk-toggleable__content pre {margin: 0.2em;color: black;border-radius: 0.25em;background-color: #f0f8ff;}#sk-container-id-4 input.sk-toggleable__control:checked~div.sk-toggleable__content {max-height: 200px;max-width: 100%;overflow: auto;}#sk-container-id-4 input.sk-toggleable__control:checked~label.sk-toggleable__label-arrow:before {content: \"▾\";}#sk-container-id-4 div.sk-estimator input.sk-toggleable__control:checked~label.sk-toggleable__label {background-color: #d4ebff;}#sk-container-id-4 div.sk-label input.sk-toggleable__control:checked~label.sk-toggleable__label {background-color: #d4ebff;}#sk-container-id-4 input.sk-hidden--visually {border: 0;clip: rect(1px 1px 1px 1px);clip: rect(1px, 1px, 1px, 1px);height: 1px;margin: -1px;overflow: hidden;padding: 0;position: absolute;width: 1px;}#sk-container-id-4 div.sk-estimator {font-family: monospace;background-color: #f0f8ff;border: 1px dotted black;border-radius: 0.25em;box-sizing: border-box;margin-bottom: 0.5em;}#sk-container-id-4 div.sk-estimator:hover {background-color: #d4ebff;}#sk-container-id-4 div.sk-parallel-item::after {content: \"\";width: 100%;border-bottom: 1px solid gray;flex-grow: 1;}#sk-container-id-4 div.sk-label:hover label.sk-toggleable__label {background-color: #d4ebff;}#sk-container-id-4 div.sk-serial::before {content: \"\";position: absolute;border-left: 1px solid gray;box-sizing: border-box;top: 0;bottom: 0;left: 50%;z-index: 0;}#sk-container-id-4 div.sk-serial {display: flex;flex-direction: column;align-items: center;background-color: white;padding-right: 0.2em;padding-left: 0.2em;position: relative;}#sk-container-id-4 div.sk-item {position: relative;z-index: 1;}#sk-container-id-4 div.sk-parallel {display: flex;align-items: stretch;justify-content: center;background-color: white;position: relative;}#sk-container-id-4 div.sk-item::before, #sk-container-id-4 div.sk-parallel-item::before {content: \"\";position: absolute;border-left: 1px solid gray;box-sizing: border-box;top: 0;bottom: 0;left: 50%;z-index: -1;}#sk-container-id-4 div.sk-parallel-item {display: flex;flex-direction: column;z-index: 1;position: relative;background-color: white;}#sk-container-id-4 div.sk-parallel-item:first-child::after {align-self: flex-end;width: 50%;}#sk-container-id-4 div.sk-parallel-item:last-child::after {align-self: flex-start;width: 50%;}#sk-container-id-4 div.sk-parallel-item:only-child::after {width: 0;}#sk-container-id-4 div.sk-dashed-wrapped {border: 1px dashed gray;margin: 0 0.4em 0.5em 0.4em;box-sizing: border-box;padding-bottom: 0.4em;background-color: white;}#sk-container-id-4 div.sk-label label {font-family: monospace;font-weight: bold;display: inline-block;line-height: 1.2em;}#sk-container-id-4 div.sk-label-container {text-align: center;}#sk-container-id-4 div.sk-container {/* jupyter's `normalize.less` sets `[hidden] { display: none; }` but bootstrap.min.css set `[hidden] { display: none !important; }` so we also need the `!important` here to be able to override the default hidden behavior on the sphinx rendered scikit-learn.org. See: https://github.com/scikit-learn/scikit-learn/issues/21755 */display: inline-block !important;position: relative;}#sk-container-id-4 div.sk-text-repr-fallback {display: none;}</style><div id=\"sk-container-id-4\" class=\"sk-top-container\"><div class=\"sk-text-repr-fallback\"><pre>SVC(C=1000, gamma=0.01)</pre><b>In a Jupyter environment, please rerun this cell to show the HTML representation or trust the notebook. <br />On GitHub, the HTML representation is unable to render, please try loading this page with nbviewer.org.</b></div><div class=\"sk-container\" hidden><div class=\"sk-item\"><div class=\"sk-estimator sk-toggleable\"><input class=\"sk-toggleable__control sk-hidden--visually\" id=\"sk-estimator-id-4\" type=\"checkbox\" checked><label for=\"sk-estimator-id-4\" class=\"sk-toggleable__label sk-toggleable__label-arrow\">SVC</label><div class=\"sk-toggleable__content\"><pre>SVC(C=1000, gamma=0.01)</pre></div></div></div></div></div>"
      ],
      "text/plain": [
       "SVC(C=1000, gamma=0.01)"
      ]
     },
     "execution_count": 86,
     "metadata": {},
     "output_type": "execute_result"
    }
   ],
   "source": [
    "best_model_label_4 = SVC(C=1000, gamma=0.01, kernel='rbf')\n",
    "best_model_label_4.fit(X_train_pca, y_train_resampled)"
   ]
  },
  {
   "cell_type": "code",
   "execution_count": 87,
   "id": "090938a4",
   "metadata": {
    "execution": {
     "iopub.execute_input": "2023-09-24T21:05:29.018547Z",
     "iopub.status.busy": "2023-09-24T21:05:29.017945Z",
     "iopub.status.idle": "2023-09-24T21:05:43.539943Z",
     "shell.execute_reply": "2023-09-24T21:05:43.538429Z"
    },
    "papermill": {
     "duration": 14.635246,
     "end_time": "2023-09-24T21:05:43.543206",
     "exception": false,
     "start_time": "2023-09-24T21:05:28.907960",
     "status": "completed"
    },
    "tags": []
   },
   "outputs": [],
   "source": [
    "label_4_pred_after = best_model_label_4.predict(np.array(X_test_pca))"
   ]
  },
  {
   "cell_type": "markdown",
   "id": "771787f2",
   "metadata": {
    "id": "bB7AmZXDFLZL",
    "papermill": {
     "duration": 0.101067,
     "end_time": "2023-09-24T21:05:43.744766",
     "exception": false,
     "start_time": "2023-09-24T21:05:43.643699",
     "status": "completed"
    },
    "tags": []
   },
   "source": [
    "# Kaggle competition output"
   ]
  },
  {
   "cell_type": "code",
   "execution_count": 88,
   "id": "885be9d9",
   "metadata": {
    "execution": {
     "iopub.execute_input": "2023-09-24T21:05:43.951451Z",
     "iopub.status.busy": "2023-09-24T21:05:43.950942Z",
     "iopub.status.idle": "2023-09-24T21:05:43.976202Z",
     "shell.execute_reply": "2023-09-24T21:05:43.974718Z"
    },
    "papermill": {
     "duration": 0.135044,
     "end_time": "2023-09-24T21:05:43.979876",
     "exception": false,
     "start_time": "2023-09-24T21:05:43.844832",
     "status": "completed"
    },
    "tags": []
   },
   "outputs": [],
   "source": [
    "output_df = test[['ID']]\n",
    "output_df['label_1'] = label_1_pred_after\n",
    "output_df['label_2'] = label_2_pred_after\n",
    "output_df['label_3'] = label_3_pred_after\n",
    "output_df['label_4'] = label_4_pred_after"
   ]
  },
  {
   "cell_type": "code",
   "execution_count": 89,
   "id": "a8ebb511",
   "metadata": {
    "execution": {
     "iopub.execute_input": "2023-09-24T21:05:44.196855Z",
     "iopub.status.busy": "2023-09-24T21:05:44.195269Z",
     "iopub.status.idle": "2023-09-24T21:05:44.217357Z",
     "shell.execute_reply": "2023-09-24T21:05:44.216091Z"
    },
    "papermill": {
     "duration": 0.130989,
     "end_time": "2023-09-24T21:05:44.220360",
     "exception": false,
     "start_time": "2023-09-24T21:05:44.089371",
     "status": "completed"
    },
    "tags": []
   },
   "outputs": [
    {
     "data": {
      "text/html": [
       "<div>\n",
       "<style scoped>\n",
       "    .dataframe tbody tr th:only-of-type {\n",
       "        vertical-align: middle;\n",
       "    }\n",
       "\n",
       "    .dataframe tbody tr th {\n",
       "        vertical-align: top;\n",
       "    }\n",
       "\n",
       "    .dataframe thead th {\n",
       "        text-align: right;\n",
       "    }\n",
       "</style>\n",
       "<table border=\"1\" class=\"dataframe\">\n",
       "  <thead>\n",
       "    <tr style=\"text-align: right;\">\n",
       "      <th></th>\n",
       "      <th>ID</th>\n",
       "      <th>label_1</th>\n",
       "      <th>label_2</th>\n",
       "      <th>label_3</th>\n",
       "      <th>label_4</th>\n",
       "    </tr>\n",
       "  </thead>\n",
       "  <tbody>\n",
       "    <tr>\n",
       "      <th>0</th>\n",
       "      <td>1</td>\n",
       "      <td>26</td>\n",
       "      <td>23.0</td>\n",
       "      <td>1</td>\n",
       "      <td>6</td>\n",
       "    </tr>\n",
       "    <tr>\n",
       "      <th>1</th>\n",
       "      <td>2</td>\n",
       "      <td>18</td>\n",
       "      <td>23.0</td>\n",
       "      <td>1</td>\n",
       "      <td>6</td>\n",
       "    </tr>\n",
       "    <tr>\n",
       "      <th>2</th>\n",
       "      <td>3</td>\n",
       "      <td>16</td>\n",
       "      <td>23.0</td>\n",
       "      <td>1</td>\n",
       "      <td>6</td>\n",
       "    </tr>\n",
       "    <tr>\n",
       "      <th>3</th>\n",
       "      <td>4</td>\n",
       "      <td>7</td>\n",
       "      <td>23.0</td>\n",
       "      <td>1</td>\n",
       "      <td>6</td>\n",
       "    </tr>\n",
       "    <tr>\n",
       "      <th>4</th>\n",
       "      <td>5</td>\n",
       "      <td>58</td>\n",
       "      <td>23.0</td>\n",
       "      <td>1</td>\n",
       "      <td>6</td>\n",
       "    </tr>\n",
       "  </tbody>\n",
       "</table>\n",
       "</div>"
      ],
      "text/plain": [
       "   ID  label_1  label_2  label_3  label_4\n",
       "0   1       26     23.0        1        6\n",
       "1   2       18     23.0        1        6\n",
       "2   3       16     23.0        1        6\n",
       "3   4        7     23.0        1        6\n",
       "4   5       58     23.0        1        6"
      ]
     },
     "execution_count": 89,
     "metadata": {},
     "output_type": "execute_result"
    }
   ],
   "source": [
    "output_df.head()"
   ]
  },
  {
   "cell_type": "code",
   "execution_count": 90,
   "id": "ac15342d",
   "metadata": {
    "execution": {
     "iopub.execute_input": "2023-09-24T21:05:44.427852Z",
     "iopub.status.busy": "2023-09-24T21:05:44.426163Z",
     "iopub.status.idle": "2023-09-24T21:05:44.448871Z",
     "shell.execute_reply": "2023-09-24T21:05:44.447411Z"
    },
    "papermill": {
     "duration": 0.128974,
     "end_time": "2023-09-24T21:05:44.452042",
     "exception": false,
     "start_time": "2023-09-24T21:05:44.323068",
     "status": "completed"
    },
    "tags": []
   },
   "outputs": [],
   "source": [
    "output_df.to_csv('predictions_L12_fsvm.csv', index=False)"
   ]
  }
 ],
 "metadata": {
  "kernelspec": {
   "display_name": "Python 3",
   "language": "python",
   "name": "python3"
  },
  "language_info": {
   "codemirror_mode": {
    "name": "ipython",
    "version": 3
   },
   "file_extension": ".py",
   "mimetype": "text/x-python",
   "name": "python",
   "nbconvert_exporter": "python",
   "pygments_lexer": "ipython3",
   "version": "3.10.12"
  },
  "papermill": {
   "default_parameters": {},
   "duration": 35132.411684,
   "end_time": "2023-09-24T21:05:46.510031",
   "environment_variables": {},
   "exception": null,
   "input_path": "__notebook__.ipynb",
   "output_path": "__notebook__.ipynb",
   "parameters": {},
   "start_time": "2023-09-24T11:20:14.098347",
   "version": "2.4.0"
  }
 },
 "nbformat": 4,
 "nbformat_minor": 5
}
